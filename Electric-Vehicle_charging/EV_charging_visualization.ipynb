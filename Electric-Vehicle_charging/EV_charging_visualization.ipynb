{
  "nbformat": 4,
  "nbformat_minor": 0,
  "metadata": {
    "colab": {
      "provenance": []
    },
    "kernelspec": {
      "name": "python3",
      "display_name": "Python 3"
    },
    "language_info": {
      "name": "python"
    }
  },
  "cells": [
    {
      "cell_type": "code",
      "execution_count": null,
      "metadata": {
        "colab": {
          "base_uri": "https://localhost:8080/"
        },
        "id": "DIU45XhP0m1v",
        "outputId": "7dae4715-acde-4714-84a4-43f8a8161c32"
      },
      "outputs": [
        {
          "output_type": "stream",
          "name": "stdout",
          "text": [
            "Mounted at /content/drive\n"
          ]
        }
      ],
      "source": [
        "from google.colab import drive\n",
        "drive.mount('/content/drive', force_remount=True)"
      ]
    },
    {
      "cell_type": "code",
      "source": [
        "import pandas as pd #visualizacion y manipulacion de datos estructurados\n",
        "import numpy as np #operacion con vectores y matrices\n",
        "import matplotlib.pyplot as plt #visualizacion de datos\n",
        "import plotly.express as px #creates entires figures at once\n",
        "\n",
        "filepath = '/content/drive/MyDrive/Jupyter_Notebooks/ML_Models/datasets/electric-vehicle-charging_visualization/station_data_dataverse.csv'\n",
        "ds = pd.read_csv(filepath, header=0)"
      ],
      "metadata": {
        "id": "s2OW6qxx02v9"
      },
      "execution_count": null,
      "outputs": []
    },
    {
      "cell_type": "code",
      "source": [
        "ds.shape #dimensiones del ds"
      ],
      "metadata": {
        "colab": {
          "base_uri": "https://localhost:8080/"
        },
        "id": "951oGqic6lx4",
        "outputId": "085bb44a-6819-4e66-99e1-0de89d81a03b"
      },
      "execution_count": null,
      "outputs": [
        {
          "output_type": "execute_result",
          "data": {
            "text/plain": [
              "(3395, 24)"
            ]
          },
          "metadata": {},
          "execution_count": 7
        }
      ]
    },
    {
      "cell_type": "code",
      "source": [
        "ds.head() #imprime unicamente las primeras 5 filas del ds"
      ],
      "metadata": {
        "colab": {
          "base_uri": "https://localhost:8080/",
          "height": 386
        },
        "id": "mVVIECSw4KOq",
        "outputId": "70fc5d89-6a3e-43b1-fc00-e4e387831048"
      },
      "execution_count": null,
      "outputs": [
        {
          "output_type": "execute_result",
          "data": {
            "text/plain": [
              "   sessionId  kwhTotal  dollars              created                ended  \\\n",
              "0    1366563      7.78     0.00  0014-11-18 15:40:26  0014-11-18 17:11:04   \n",
              "1    3075723      9.74     0.00  0014-11-19 17:40:26  0014-11-19 19:51:04   \n",
              "2    4228788      6.76     0.58  0014-11-21 12:05:46  0014-11-21 16:46:04   \n",
              "3    3173284      6.17     0.00  0014-12-03 19:16:12  0014-12-03 21:02:18   \n",
              "4    3266500      0.93     0.00  0014-12-11 20:56:11  0014-12-11 21:14:06   \n",
              "\n",
              "   startTime  endTime  chargeTimeHrs weekday platform  ...  managerVehicle  \\\n",
              "0         15       17       1.510556     Tue  android  ...               0   \n",
              "1         17       19       2.177222     Wed  android  ...               0   \n",
              "2         12       16       4.671667     Fri  android  ...               0   \n",
              "3         19       21       1.768333     Wed  android  ...               0   \n",
              "4         20       21       0.298611     Thu  android  ...               0   \n",
              "\n",
              "   facilityType  Mon  Tues  Wed  Thurs  Fri  Sat  Sun  reportedZip  \n",
              "0             3    0     1    0      0    0    0    0            0  \n",
              "1             3    0     0    1      0    0    0    0            0  \n",
              "2             3    0     0    0      0    1    0    0            0  \n",
              "3             3    0     0    1      0    0    0    0            0  \n",
              "4             3    0     0    0      1    0    0    0            0  \n",
              "\n",
              "[5 rows x 24 columns]"
            ],
            "text/html": [
              "\n",
              "  <div id=\"df-f0d7f180-7784-402d-9cda-152376fe5993\">\n",
              "    <div class=\"colab-df-container\">\n",
              "      <div>\n",
              "<style scoped>\n",
              "    .dataframe tbody tr th:only-of-type {\n",
              "        vertical-align: middle;\n",
              "    }\n",
              "\n",
              "    .dataframe tbody tr th {\n",
              "        vertical-align: top;\n",
              "    }\n",
              "\n",
              "    .dataframe thead th {\n",
              "        text-align: right;\n",
              "    }\n",
              "</style>\n",
              "<table border=\"1\" class=\"dataframe\">\n",
              "  <thead>\n",
              "    <tr style=\"text-align: right;\">\n",
              "      <th></th>\n",
              "      <th>sessionId</th>\n",
              "      <th>kwhTotal</th>\n",
              "      <th>dollars</th>\n",
              "      <th>created</th>\n",
              "      <th>ended</th>\n",
              "      <th>startTime</th>\n",
              "      <th>endTime</th>\n",
              "      <th>chargeTimeHrs</th>\n",
              "      <th>weekday</th>\n",
              "      <th>platform</th>\n",
              "      <th>...</th>\n",
              "      <th>managerVehicle</th>\n",
              "      <th>facilityType</th>\n",
              "      <th>Mon</th>\n",
              "      <th>Tues</th>\n",
              "      <th>Wed</th>\n",
              "      <th>Thurs</th>\n",
              "      <th>Fri</th>\n",
              "      <th>Sat</th>\n",
              "      <th>Sun</th>\n",
              "      <th>reportedZip</th>\n",
              "    </tr>\n",
              "  </thead>\n",
              "  <tbody>\n",
              "    <tr>\n",
              "      <th>0</th>\n",
              "      <td>1366563</td>\n",
              "      <td>7.78</td>\n",
              "      <td>0.00</td>\n",
              "      <td>0014-11-18 15:40:26</td>\n",
              "      <td>0014-11-18 17:11:04</td>\n",
              "      <td>15</td>\n",
              "      <td>17</td>\n",
              "      <td>1.510556</td>\n",
              "      <td>Tue</td>\n",
              "      <td>android</td>\n",
              "      <td>...</td>\n",
              "      <td>0</td>\n",
              "      <td>3</td>\n",
              "      <td>0</td>\n",
              "      <td>1</td>\n",
              "      <td>0</td>\n",
              "      <td>0</td>\n",
              "      <td>0</td>\n",
              "      <td>0</td>\n",
              "      <td>0</td>\n",
              "      <td>0</td>\n",
              "    </tr>\n",
              "    <tr>\n",
              "      <th>1</th>\n",
              "      <td>3075723</td>\n",
              "      <td>9.74</td>\n",
              "      <td>0.00</td>\n",
              "      <td>0014-11-19 17:40:26</td>\n",
              "      <td>0014-11-19 19:51:04</td>\n",
              "      <td>17</td>\n",
              "      <td>19</td>\n",
              "      <td>2.177222</td>\n",
              "      <td>Wed</td>\n",
              "      <td>android</td>\n",
              "      <td>...</td>\n",
              "      <td>0</td>\n",
              "      <td>3</td>\n",
              "      <td>0</td>\n",
              "      <td>0</td>\n",
              "      <td>1</td>\n",
              "      <td>0</td>\n",
              "      <td>0</td>\n",
              "      <td>0</td>\n",
              "      <td>0</td>\n",
              "      <td>0</td>\n",
              "    </tr>\n",
              "    <tr>\n",
              "      <th>2</th>\n",
              "      <td>4228788</td>\n",
              "      <td>6.76</td>\n",
              "      <td>0.58</td>\n",
              "      <td>0014-11-21 12:05:46</td>\n",
              "      <td>0014-11-21 16:46:04</td>\n",
              "      <td>12</td>\n",
              "      <td>16</td>\n",
              "      <td>4.671667</td>\n",
              "      <td>Fri</td>\n",
              "      <td>android</td>\n",
              "      <td>...</td>\n",
              "      <td>0</td>\n",
              "      <td>3</td>\n",
              "      <td>0</td>\n",
              "      <td>0</td>\n",
              "      <td>0</td>\n",
              "      <td>0</td>\n",
              "      <td>1</td>\n",
              "      <td>0</td>\n",
              "      <td>0</td>\n",
              "      <td>0</td>\n",
              "    </tr>\n",
              "    <tr>\n",
              "      <th>3</th>\n",
              "      <td>3173284</td>\n",
              "      <td>6.17</td>\n",
              "      <td>0.00</td>\n",
              "      <td>0014-12-03 19:16:12</td>\n",
              "      <td>0014-12-03 21:02:18</td>\n",
              "      <td>19</td>\n",
              "      <td>21</td>\n",
              "      <td>1.768333</td>\n",
              "      <td>Wed</td>\n",
              "      <td>android</td>\n",
              "      <td>...</td>\n",
              "      <td>0</td>\n",
              "      <td>3</td>\n",
              "      <td>0</td>\n",
              "      <td>0</td>\n",
              "      <td>1</td>\n",
              "      <td>0</td>\n",
              "      <td>0</td>\n",
              "      <td>0</td>\n",
              "      <td>0</td>\n",
              "      <td>0</td>\n",
              "    </tr>\n",
              "    <tr>\n",
              "      <th>4</th>\n",
              "      <td>3266500</td>\n",
              "      <td>0.93</td>\n",
              "      <td>0.00</td>\n",
              "      <td>0014-12-11 20:56:11</td>\n",
              "      <td>0014-12-11 21:14:06</td>\n",
              "      <td>20</td>\n",
              "      <td>21</td>\n",
              "      <td>0.298611</td>\n",
              "      <td>Thu</td>\n",
              "      <td>android</td>\n",
              "      <td>...</td>\n",
              "      <td>0</td>\n",
              "      <td>3</td>\n",
              "      <td>0</td>\n",
              "      <td>0</td>\n",
              "      <td>0</td>\n",
              "      <td>1</td>\n",
              "      <td>0</td>\n",
              "      <td>0</td>\n",
              "      <td>0</td>\n",
              "      <td>0</td>\n",
              "    </tr>\n",
              "  </tbody>\n",
              "</table>\n",
              "<p>5 rows × 24 columns</p>\n",
              "</div>\n",
              "      <button class=\"colab-df-convert\" onclick=\"convertToInteractive('df-f0d7f180-7784-402d-9cda-152376fe5993')\"\n",
              "              title=\"Convert this dataframe to an interactive table.\"\n",
              "              style=\"display:none;\">\n",
              "        \n",
              "  <svg xmlns=\"http://www.w3.org/2000/svg\" height=\"24px\"viewBox=\"0 0 24 24\"\n",
              "       width=\"24px\">\n",
              "    <path d=\"M0 0h24v24H0V0z\" fill=\"none\"/>\n",
              "    <path d=\"M18.56 5.44l.94 2.06.94-2.06 2.06-.94-2.06-.94-.94-2.06-.94 2.06-2.06.94zm-11 1L8.5 8.5l.94-2.06 2.06-.94-2.06-.94L8.5 2.5l-.94 2.06-2.06.94zm10 10l.94 2.06.94-2.06 2.06-.94-2.06-.94-.94-2.06-.94 2.06-2.06.94z\"/><path d=\"M17.41 7.96l-1.37-1.37c-.4-.4-.92-.59-1.43-.59-.52 0-1.04.2-1.43.59L10.3 9.45l-7.72 7.72c-.78.78-.78 2.05 0 2.83L4 21.41c.39.39.9.59 1.41.59.51 0 1.02-.2 1.41-.59l7.78-7.78 2.81-2.81c.8-.78.8-2.07 0-2.86zM5.41 20L4 18.59l7.72-7.72 1.47 1.35L5.41 20z\"/>\n",
              "  </svg>\n",
              "      </button>\n",
              "      \n",
              "  <style>\n",
              "    .colab-df-container {\n",
              "      display:flex;\n",
              "      flex-wrap:wrap;\n",
              "      gap: 12px;\n",
              "    }\n",
              "\n",
              "    .colab-df-convert {\n",
              "      background-color: #E8F0FE;\n",
              "      border: none;\n",
              "      border-radius: 50%;\n",
              "      cursor: pointer;\n",
              "      display: none;\n",
              "      fill: #1967D2;\n",
              "      height: 32px;\n",
              "      padding: 0 0 0 0;\n",
              "      width: 32px;\n",
              "    }\n",
              "\n",
              "    .colab-df-convert:hover {\n",
              "      background-color: #E2EBFA;\n",
              "      box-shadow: 0px 1px 2px rgba(60, 64, 67, 0.3), 0px 1px 3px 1px rgba(60, 64, 67, 0.15);\n",
              "      fill: #174EA6;\n",
              "    }\n",
              "\n",
              "    [theme=dark] .colab-df-convert {\n",
              "      background-color: #3B4455;\n",
              "      fill: #D2E3FC;\n",
              "    }\n",
              "\n",
              "    [theme=dark] .colab-df-convert:hover {\n",
              "      background-color: #434B5C;\n",
              "      box-shadow: 0px 1px 3px 1px rgba(0, 0, 0, 0.15);\n",
              "      filter: drop-shadow(0px 1px 2px rgba(0, 0, 0, 0.3));\n",
              "      fill: #FFFFFF;\n",
              "    }\n",
              "  </style>\n",
              "\n",
              "      <script>\n",
              "        const buttonEl =\n",
              "          document.querySelector('#df-f0d7f180-7784-402d-9cda-152376fe5993 button.colab-df-convert');\n",
              "        buttonEl.style.display =\n",
              "          google.colab.kernel.accessAllowed ? 'block' : 'none';\n",
              "\n",
              "        async function convertToInteractive(key) {\n",
              "          const element = document.querySelector('#df-f0d7f180-7784-402d-9cda-152376fe5993');\n",
              "          const dataTable =\n",
              "            await google.colab.kernel.invokeFunction('convertToInteractive',\n",
              "                                                     [key], {});\n",
              "          if (!dataTable) return;\n",
              "\n",
              "          const docLinkHtml = 'Like what you see? Visit the ' +\n",
              "            '<a target=\"_blank\" href=https://colab.research.google.com/notebooks/data_table.ipynb>data table notebook</a>'\n",
              "            + ' to learn more about interactive tables.';\n",
              "          element.innerHTML = '';\n",
              "          dataTable['output_type'] = 'display_data';\n",
              "          await google.colab.output.renderOutput(dataTable, element);\n",
              "          const docLink = document.createElement('div');\n",
              "          docLink.innerHTML = docLinkHtml;\n",
              "          element.appendChild(docLink);\n",
              "        }\n",
              "      </script>\n",
              "    </div>\n",
              "  </div>\n",
              "  "
            ]
          },
          "metadata": {},
          "execution_count": 9
        }
      ]
    },
    {
      "cell_type": "code",
      "source": [
        "ds.info #informacion mas detallada"
      ],
      "metadata": {
        "colab": {
          "base_uri": "https://localhost:8080/"
        },
        "id": "mmb6lvfS4srF",
        "outputId": "93cf15b6-4211-4aa8-da42-4b271da5c9f7"
      },
      "execution_count": null,
      "outputs": [
        {
          "output_type": "execute_result",
          "data": {
            "text/plain": [
              "<bound method DataFrame.info of       sessionId  kwhTotal  dollars              created                ended  \\\n",
              "0       1366563      7.78     0.00  0014-11-18 15:40:26  0014-11-18 17:11:04   \n",
              "1       3075723      9.74     0.00  0014-11-19 17:40:26  0014-11-19 19:51:04   \n",
              "2       4228788      6.76     0.58  0014-11-21 12:05:46  0014-11-21 16:46:04   \n",
              "3       3173284      6.17     0.00  0014-12-03 19:16:12  0014-12-03 21:02:18   \n",
              "4       3266500      0.93     0.00  0014-12-11 20:56:11  0014-12-11 21:14:06   \n",
              "...         ...       ...      ...                  ...                  ...   \n",
              "3390    7021565      6.74     0.00  0015-10-01 16:31:18  0015-10-01 19:59:08   \n",
              "3391    3758092      6.86     0.00  0015-10-02 16:28:48  0015-10-02 19:27:05   \n",
              "3392    5858374      6.07     0.00  0015-09-30 16:54:22  0015-09-30 20:24:06   \n",
              "3393    2586645      5.74     0.00  0015-09-24 11:43:02  0015-09-24 13:55:12   \n",
              "3394    7860608      6.95     0.00  0015-10-01 16:43:05  0015-10-01 19:42:06   \n",
              "\n",
              "      startTime  endTime  chargeTimeHrs weekday platform  ...  managerVehicle  \\\n",
              "0            15       17       1.510556     Tue  android  ...               0   \n",
              "1            17       19       2.177222     Wed  android  ...               0   \n",
              "2            12       16       4.671667     Fri  android  ...               0   \n",
              "3            19       21       1.768333     Wed  android  ...               0   \n",
              "4            20       21       0.298611     Thu  android  ...               0   \n",
              "...         ...      ...            ...     ...      ...  ...             ...   \n",
              "3390         16       19       3.463889     Thu      ios  ...               0   \n",
              "3391         16       19       2.971389     Fri      ios  ...               0   \n",
              "3392         16       20       3.495556     Wed  android  ...               0   \n",
              "3393         11       13       2.202778     Thu      ios  ...               1   \n",
              "3394         16       19       2.983611     Thu      ios  ...               0   \n",
              "\n",
              "      facilityType  Mon  Tues  Wed  Thurs  Fri  Sat  Sun  reportedZip  \n",
              "0                3    0     1    0      0    0    0    0            0  \n",
              "1                3    0     0    1      0    0    0    0            0  \n",
              "2                3    0     0    0      0    1    0    0            0  \n",
              "3                3    0     0    1      0    0    0    0            0  \n",
              "4                3    0     0    0      1    0    0    0            0  \n",
              "...            ...  ...   ...  ...    ...  ...  ...  ...          ...  \n",
              "3390             2    0     0    0      1    0    0    0            1  \n",
              "3391             2    0     0    0      0    1    0    0            1  \n",
              "3392             3    0     0    1      0    0    0    0            1  \n",
              "3393             2    0     0    0      1    0    0    0            1  \n",
              "3394             3    0     0    0      1    0    0    0            1  \n",
              "\n",
              "[3395 rows x 24 columns]>"
            ]
          },
          "metadata": {},
          "execution_count": 27
        }
      ]
    },
    {
      "cell_type": "code",
      "source": [
        "#quiero comparar el uso de nergia por hora(X) contra el tiempo de carga del vehiclo en horas(Y)\n",
        "\n",
        "ds.plot.scatter('kwhTotal','chargeTimeHrs')"
      ],
      "metadata": {
        "id": "H8G-RqaF5gm-",
        "colab": {
          "base_uri": "https://localhost:8080/",
          "height": 297
        },
        "outputId": "7c9cfed4-4c10-4749-ce9e-38627293f6c7"
      },
      "execution_count": null,
      "outputs": [
        {
          "output_type": "execute_result",
          "data": {
            "text/plain": [
              "<matplotlib.axes._subplots.AxesSubplot at 0x7fafa84e6130>"
            ]
          },
          "metadata": {},
          "execution_count": 28
        },
        {
          "output_type": "display_data",
          "data": {
            "text/plain": [
              "<Figure size 432x288 with 1 Axes>"
            ],
            "image/png": "[encoded data removed]"
          },
          "metadata": {
            "needs_background": "light"
          }
        }
      ]
    },
    {
      "cell_type": "code",
      "source": [
        "#gasto de energia por dia de la semana\n",
        "\n",
        "ds.plot.scatter('kwhTotal','weekday')"
      ],
      "metadata": {
        "colab": {
          "base_uri": "https://localhost:8080/",
          "height": 297
        },
        "id": "sOaMIStu8jVc",
        "outputId": "8bd4c239-1e15-4f78-ebc4-b5515177dfed"
      },
      "execution_count": null,
      "outputs": [
        {
          "output_type": "execute_result",
          "data": {
            "text/plain": [
              "<matplotlib.axes._subplots.AxesSubplot at 0x7fafa7b30580>"
            ]
          },
          "metadata": {},
          "execution_count": 31
        },
        {
          "output_type": "display_data",
          "data": {
            "text/plain": [
              "<Figure size 432x288 with 1 Axes>"
            ],
            "image/png": "[encoded data removed]"
          },
          "metadata": {
            "needs_background": "light"
          }
        }
      ]
    },
    {
      "cell_type": "code",
      "source": [
        "#tiempo de carga por cada dia de la semana\n",
        "\n",
        "ds.plot.scatter('chargeTimeHrs','weekday')"
      ],
      "metadata": {
        "colab": {
          "base_uri": "https://localhost:8080/",
          "height": 297
        },
        "id": "ljiobtbH9NWc",
        "outputId": "e03bdd49-8e47-43ea-c666-f102d72cd6b9"
      },
      "execution_count": null,
      "outputs": [
        {
          "output_type": "execute_result",
          "data": {
            "text/plain": [
              "<matplotlib.axes._subplots.AxesSubplot at 0x7fafa7a17b80>"
            ]
          },
          "metadata": {},
          "execution_count": 33
        },
        {
          "output_type": "display_data",
          "data": {
            "text/plain": [
              "<Figure size 432x288 with 1 Axes>"
            ],
            "image/png": "[encoded data removed]"
          },
          "metadata": {
            "needs_background": "light"
          }
        }
      ]
    },
    {
      "cell_type": "code",
      "source": [
        "#timepo de carga en horas contra su uso de kwh\n",
        "\n",
        "ds.plot.scatter('chargeTimeHrs','kwhTotal')"
      ],
      "metadata": {
        "colab": {
          "base_uri": "https://localhost:8080/",
          "height": 297
        },
        "id": "pn0RbfbF91g0",
        "outputId": "47b6371e-8183-4449-a52f-049d73de2df1"
      },
      "execution_count": null,
      "outputs": [
        {
          "output_type": "execute_result",
          "data": {
            "text/plain": [
              "<matplotlib.axes._subplots.AxesSubplot at 0x7fafa7bc2ca0>"
            ]
          },
          "metadata": {},
          "execution_count": 34
        },
        {
          "output_type": "display_data",
          "data": {
            "text/plain": [
              "<Figure size 432x288 with 1 Axes>"
            ],
            "image/png": "[encoded data removed]"
          },
          "metadata": {
            "needs_background": "light"
          }
        }
      ]
    },
    {
      "cell_type": "code",
      "source": [
        "#comparar la hora de inicio con la hora de carga del vehiculo, quiero conocer la moda del intervalo de carga\n",
        "\n",
        "ds.plot.scatter('startTime','endTime')"
      ],
      "metadata": {
        "colab": {
          "base_uri": "https://localhost:8080/",
          "height": 297
        },
        "id": "uetQsXDy-YXr",
        "outputId": "e2c5f06a-8190-444b-b9b7-f823ec77c9c0"
      },
      "execution_count": null,
      "outputs": [
        {
          "output_type": "execute_result",
          "data": {
            "text/plain": [
              "<matplotlib.axes._subplots.AxesSubplot at 0x7fafa7943670>"
            ]
          },
          "metadata": {},
          "execution_count": 35
        },
        {
          "output_type": "display_data",
          "data": {
            "text/plain": [
              "<Figure size 432x288 with 1 Axes>"
            ],
            "image/png": "[encoded data removed]"
          },
          "metadata": {
            "needs_background": "light"
          }
        }
      ]
    },
    {
      "cell_type": "code",
      "source": [
        "#el gasto de kwh contra el dolar\n",
        "\n",
        "ds.plot.scatter('kwhTotal','dollars')"
      ],
      "metadata": {
        "colab": {
          "base_uri": "https://localhost:8080/",
          "height": 297
        },
        "id": "1yXeeFlL-6Xn",
        "outputId": "e6ea8116-5adc-41f5-a332-02ec50f0cfb3"
      },
      "execution_count": null,
      "outputs": [
        {
          "output_type": "execute_result",
          "data": {
            "text/plain": [
              "<matplotlib.axes._subplots.AxesSubplot at 0x7fafa7915b20>"
            ]
          },
          "metadata": {},
          "execution_count": 36
        },
        {
          "output_type": "display_data",
          "data": {
            "text/plain": [
              "<Figure size 432x288 with 1 Axes>"
            ],
            "image/png": "[encoded data removed]"
          },
          "metadata": {
            "needs_background": "light"
          }
        }
      ]
    },
    {
      "cell_type": "code",
      "source": [
        "ds.plot.scatter('dollars','weekday')"
      ],
      "metadata": {
        "colab": {
          "base_uri": "https://localhost:8080/",
          "height": 297
        },
        "id": "9MCEgt3jBxmr",
        "outputId": "1a443511-0438-4c22-cfcb-e8dbc2805021"
      },
      "execution_count": null,
      "outputs": [
        {
          "output_type": "execute_result",
          "data": {
            "text/plain": [
              "<matplotlib.axes._subplots.AxesSubplot at 0x7fafa7773550>"
            ]
          },
          "metadata": {},
          "execution_count": 41
        },
        {
          "output_type": "display_data",
          "data": {
            "text/plain": [
              "<Figure size 432x288 with 1 Axes>"
            ],
            "image/png": "[encoded data removed]"
          },
          "metadata": {
            "needs_background": "light"
          }
        }
      ]
    },
    {
      "cell_type": "code",
      "source": [
        "ds.columns #print dataset columns"
      ],
      "metadata": {
        "id": "7lGy0KouB16y",
        "colab": {
          "base_uri": "https://localhost:8080/"
        },
        "outputId": "b1fbcd1e-9f95-4b6a-b18b-c176faf3fc2a"
      },
      "execution_count": null,
      "outputs": [
        {
          "output_type": "execute_result",
          "data": {
            "text/plain": [
              "Index(['sessionId', 'kwhTotal', 'dollars', 'created', 'ended', 'startTime',\n",
              "       'endTime', 'chargeTimeHrs', 'weekday', 'platform', 'distance', 'userId',\n",
              "       'stationId', 'locationId', 'managerVehicle', 'facilityType', 'Mon',\n",
              "       'Tues', 'Wed', 'Thurs', 'Fri', 'Sat', 'Sun', 'reportedZip'],\n",
              "      dtype='object')"
            ]
          },
          "metadata": {},
          "execution_count": 15
        }
      ]
    },
    {
      "cell_type": "code",
      "source": [
        "ds[\"Event\"] = np.arange(len(ds)) #utilizaremos las 3394 filas del ds, las que representan las 3394 cargas de vehiculos dentro del ds, como nuestro eje X"
      ],
      "metadata": {
        "id": "g8ZRhO2wq3uk"
      },
      "execution_count": null,
      "outputs": []
    },
    {
      "cell_type": "markdown",
      "source": [
        "px.line -> each data point is represented as a vertex (which location is given by the x and y columns) of a polyline mark in 2D space"
      ],
      "metadata": {
        "id": "8-jIPVwyyZ6D"
      }
    },
    {
      "cell_type": "code",
      "source": [
        "plot = px.line(ds,x=\"Event\",y=\"kwhTotal\",labels={\"Event\" : \"Charging Instances\", \"kwhTotal\" : \"Energy Consumed (KWH)\"}, title='Power Consumed in KWH for EV Charging')\n",
        "plot.show()\n",
        "#placeholder defined by curly brackets\n",
        "#.format formats specific value and place it inside placeholder\n",
        "print(\"Average power consumed: {} kwh\".format(ds[\"kwhTotal\"].mean())) #.mean calculates average of a given list of numbers\n",
        "\n",
        "print('{0} {1}: {2} {3}'.format('Average','power consumed',5.8096,'kwh'))"
      ],
      "metadata": {
        "colab": {
          "base_uri": "https://localhost:8080/",
          "height": 578
        },
        "id": "f35gkbX0sTiS",
        "outputId": "984cf10f-43d1-4c6a-d7b1-073bbe001eea"
      },
      "execution_count": null,
      "outputs": [
        {
          "output_type": "display_data",
          "data": {
            "text/html": [
              "<html>\n",
              "<head><meta charset=\"utf-8\" /></head>\n",
              "<body>\n",
              "    <div>            <script src=\"https://cdnjs.cloudflare.com/ajax/libs/mathjax/2.7.5/MathJax.js?config=TeX-AMS-MML_SVG\"></script><script type=\"text/javascript\">if (window.MathJax) {MathJax.Hub.Config({SVG: {font: \"STIX-Web\"}});}</script>                <script type=\"text/javascript\">window.PlotlyConfig = {MathJaxConfig: 'local'};</script>\n",
              "        <script src=\"https://cdn.plot.ly/plotly-2.8.3.min.js\"></script>                <div id=\"72dae38c-542b-4a50-8d5c-f1dc38f7040b\" class=\"plotly-graph-div\" style=\"height:525px; width:100%;\"></div>            <script type=\"text/javascript\">                                    window.PLOTLYENV=window.PLOTLYENV || {};                                    if (document.getElementById(\"72dae38c-542b-4a50-8d5c-f1dc38f7040b\")) {                    Plotly.newPlot(                        \"72dae38c-542b-4a50-8d5c-f1dc38f7040b\",                        [{\"hovertemplate\":\"Charging Instances=%{x}<br>Energy Consumed (KWH)=%{y}<extra></extra>\",\"legendgroup\":\"\",\"line\":{\"color\":\"#636efa\",\"dash\":\"solid\"},\"marker\":{\"symbol\":\"circle\"},\"mode\":\"lines\",\"name\":\"\",\"showlegend\":false,\"x\":[0,1,2,3,4,5,6,7,8,9,10,11,12,13,14,15,16,17,18,19,20,21,22,23,24,25,26,27,28,29,30,31,32,33,34,35,36,37,38,39,40,41,42,43,44,45,46,47,48,49,50,51,52,53,54,55,56,57,58,59,60,61,62,63,64,65,66,67,68,69,70,71,72,73,74,75,76,77,78,79,80,81,82,83,84,85,86,87,88,89,90,91,92,93,94,95,96,97,98,99,100,101,102,103,104,105,106,107,108,109,110,111,112,113,114,115,116,117,118,119,120,121,122,123,124,125,126,127,128,129,130,131,132,133,134,135,136,137,138,139,140,141,142,143,144,145,146,147,148,149,150,151,152,153,154,155,156,157,158,159,160,161,162,163,164,165,166,167,168,169,170,171,172,173,174,175,176,177,178,179,180,181,182,183,184,185,186,187,188,189,190,191,192,193,194,195,196,197,198,199,200,201,202,203,204,205,206,207,208,209,210,211,212,213,214,215,216,217,218,219,220,221,222,223,224,225,226,227,228,229,230,231,232,233,234,235,236,237,238,239,240,241,242,243,244,245,246,247,248,249,250,251,252,253,254,255,256,257,258,259,260,261,262,263,264,265,266,267,268,269,270,271,272,273,274,275,276,277,278,279,280,281,282,283,284,285,286,287,288,289,290,291,292,293,294,295,296,297,298,299,300,301,302,303,304,305,306,307,308,309,310,311,312,313,314,315,316,317,318,319,320,321,322,323,324,325,326,327,328,329,330,331,332,333,334,335,336,337,338,339,340,341,342,343,344,345,346,347,348,349,350,351,352,353,354,355,356,357,358,359,360,361,362,363,364,365,366,367,368,369,370,371,372,373,374,375,376,377,378,379,380,381,382,383,384,385,386,387,388,389,390,391,392,393,394,395,396,397,398,399,400,401,402,403,404,405,406,407,408,409,410,411,412,413,414,415,416,417,418,419,420,421,422,423,424,425,426,427,428,429,430,431,432,433,434,435,436,437,438,439,440,441,442,443,444,445,446,447,448,449,450,451,452,453,454,455,456,457,458,459,460,461,462,463,464,465,466,467,468,469,470,471,472,473,474,475,476,477,478,479,480,481,482,483,484,485,486,487,488,489,490,491,492,493,494,495,496,497,498,499,500,501,502,503,504,505,506,507,508,509,510,511,512,513,514,515,516,517,518,519,520,521,522,523,524,525,526,527,528,529,530,531,532,533,534,535,536,537,538,539,540,541,542,543,544,545,546,547,548,549,550,551,552,553,554,555,556,557,558,559,560,561,562,563,564,565,566,567,568,569,570,571,572,573,574,575,576,577,578,579,580,581,582,583,584,585,586,587,588,589,590,591,592,593,594,595,596,597,598,599,600,601,602,603,604,605,606,607,608,609,610,611,612,613,614,615,616,617,618,619,620,621,622,623,624,625,626,627,628,629,630,631,632,633,634,635,636,637,638,639,640,641,642,643,644,645,646,647,648,649,650,651,652,653,654,655,656,657,658,659,660,661,662,663,664,665,666,667,668,669,670,671,672,673,674,675,676,677,678,679,680,681,682,683,684,685,686,687,688,689,690,691,692,693,694,695,696,697,698,699,700,701,702,703,704,705,706,707,708,709,710,711,712,713,714,715,716,717,718,719,720,721,722,723,724,725,726,727,728,729,730,731,732,733,734,735,736,737,738,739,740,741,742,743,744,745,746,747,748,749,750,751,752,753,754,755,756,757,758,759,760,761,762,763,764,765,766,767,768,769,770,771,772,773,774,775,776,777,778,779,780,781,782,783,784,785,786,787,788,789,790,791,792,793,794,795,796,797,798,799,800,801,802,803,804,805,806,807,808,809,810,811,812,813,814,815,816,817,818,819,820,821,822,823,824,825,826,827,828,829,830,831,832,833,834,835,836,837,838,839,840,841,842,843,844,845,846,847,848,849,850,851,852,853,854,855,856,857,858,859,860,861,862,863,864,865,866,867,868,869,870,871,872,873,874,875,876,877,878,879,880,881,882,883,884,885,886,887,888,889,890,891,892,893,894,895,896,897,898,899,900,901,902,903,904,905,906,907,908,909,910,911,912,913,914,915,916,917,918,919,920,921,922,923,924,925,926,927,928,929,930,931,932,933,934,935,936,937,938,939,940,941,942,943,944,945,946,947,948,949,950,951,952,953,954,955,956,957,958,959,960,961,962,963,964,965,966,967,968,969,970,971,972,973,974,975,976,977,978,979,980,981,982,983,984,985,986,987,988,989,990,991,992,993,994,995,996,997,998,999,1000,1001,1002,1003,1004,1005,1006,1007,1008,1009,1010,1011,1012,1013,1014,1015,1016,1017,1018,1019,1020,1021,1022,1023,1024,1025,1026,1027,1028,1029,1030,1031,1032,1033,1034,1035,1036,1037,1038,1039,1040,1041,1042,1043,1044,1045,1046,1047,1048,1049,1050,1051,1052,1053,1054,1055,1056,1057,1058,1059,1060,1061,1062,1063,1064,1065,1066,1067,1068,1069,1070,1071,1072,1073,1074,1075,1076,1077,1078,1079,1080,1081,1082,1083,1084,1085,1086,1087,1088,1089,1090,1091,1092,1093,1094,1095,1096,1097,1098,1099,1100,1101,1102,1103,1104,1105,1106,1107,1108,1109,1110,1111,1112,1113,1114,1115,1116,1117,1118,1119,1120,1121,1122,1123,1124,1125,1126,1127,1128,1129,1130,1131,1132,1133,1134,1135,1136,1137,1138,1139,1140,1141,1142,1143,1144,1145,1146,1147,1148,1149,1150,1151,1152,1153,1154,1155,1156,1157,1158,1159,1160,1161,1162,1163,1164,1165,1166,1167,1168,1169,1170,1171,1172,1173,1174,1175,1176,1177,1178,1179,1180,1181,1182,1183,1184,1185,1186,1187,1188,1189,1190,1191,1192,1193,1194,1195,1196,1197,1198,1199,1200,1201,1202,1203,1204,1205,1206,1207,1208,1209,1210,1211,1212,1213,1214,1215,1216,1217,1218,1219,1220,1221,1222,1223,1224,1225,1226,1227,1228,1229,1230,1231,1232,1233,1234,1235,1236,1237,1238,1239,1240,1241,1242,1243,1244,1245,1246,1247,1248,1249,1250,1251,1252,1253,1254,1255,1256,1257,1258,1259,1260,1261,1262,1263,1264,1265,1266,1267,1268,1269,1270,1271,1272,1273,1274,1275,1276,1277,1278,1279,1280,1281,1282,1283,1284,1285,1286,1287,1288,1289,1290,1291,1292,1293,1294,1295,1296,1297,1298,1299,1300,1301,1302,1303,1304,1305,1306,1307,1308,1309,1310,1311,1312,1313,1314,1315,1316,1317,1318,1319,1320,1321,1322,1323,1324,1325,1326,1327,1328,1329,1330,1331,1332,1333,1334,1335,1336,1337,1338,1339,1340,1341,1342,1343,1344,1345,1346,1347,1348,1349,1350,1351,1352,1353,1354,1355,1356,1357,1358,1359,1360,1361,1362,1363,1364,1365,1366,1367,1368,1369,1370,1371,1372,1373,1374,1375,1376,1377,1378,1379,1380,1381,1382,1383,1384,1385,1386,1387,1388,1389,1390,1391,1392,1393,1394,1395,1396,1397,1398,1399,1400,1401,1402,1403,1404,1405,1406,1407,1408,1409,1410,1411,1412,1413,1414,1415,1416,1417,1418,1419,1420,1421,1422,1423,1424,1425,1426,1427,1428,1429,1430,1431,1432,1433,1434,1435,1436,1437,1438,1439,1440,1441,1442,1443,1444,1445,1446,1447,1448,1449,1450,1451,1452,1453,1454,1455,1456,1457,1458,1459,1460,1461,1462,1463,1464,1465,1466,1467,1468,1469,1470,1471,1472,1473,1474,1475,1476,1477,1478,1479,1480,1481,1482,1483,1484,1485,1486,1487,1488,1489,1490,1491,1492,1493,1494,1495,1496,1497,1498,1499,1500,1501,1502,1503,1504,1505,1506,1507,1508,1509,1510,1511,1512,1513,1514,1515,1516,1517,1518,1519,1520,1521,1522,1523,1524,1525,1526,1527,1528,1529,1530,1531,1532,1533,1534,1535,1536,1537,1538,1539,1540,1541,1542,1543,1544,1545,1546,1547,1548,1549,1550,1551,1552,1553,1554,1555,1556,1557,1558,1559,1560,1561,1562,1563,1564,1565,1566,1567,1568,1569,1570,1571,1572,1573,1574,1575,1576,1577,1578,1579,1580,1581,1582,1583,1584,1585,1586,1587,1588,1589,1590,1591,1592,1593,1594,1595,1596,1597,1598,1599,1600,1601,1602,1603,1604,1605,1606,1607,1608,1609,1610,1611,1612,1613,1614,1615,1616,1617,1618,1619,1620,1621,1622,1623,1624,1625,1626,1627,1628,1629,1630,1631,1632,1633,1634,1635,1636,1637,1638,1639,1640,1641,1642,1643,1644,1645,1646,1647,1648,1649,1650,1651,1652,1653,1654,1655,1656,1657,1658,1659,1660,1661,1662,1663,1664,1665,1666,1667,1668,1669,1670,1671,1672,1673,1674,1675,1676,1677,1678,1679,1680,1681,1682,1683,1684,1685,1686,1687,1688,1689,1690,1691,1692,1693,1694,1695,1696,1697,1698,1699,1700,1701,1702,1703,1704,1705,1706,1707,1708,1709,1710,1711,1712,1713,1714,1715,1716,1717,1718,1719,1720,1721,1722,1723,1724,1725,1726,1727,1728,1729,1730,1731,1732,1733,1734,1735,1736,1737,1738,1739,1740,1741,1742,1743,1744,1745,1746,1747,1748,1749,1750,1751,1752,1753,1754,1755,1756,1757,1758,1759,1760,1761,1762,1763,1764,1765,1766,1767,1768,1769,1770,1771,1772,1773,1774,1775,1776,1777,1778,1779,1780,1781,1782,1783,1784,1785,1786,1787,1788,1789,1790,1791,1792,1793,1794,1795,1796,1797,1798,1799,1800,1801,1802,1803,1804,1805,1806,1807,1808,1809,1810,1811,1812,1813,1814,1815,1816,1817,1818,1819,1820,1821,1822,1823,1824,1825,1826,1827,1828,1829,1830,1831,1832,1833,1834,1835,1836,1837,1838,1839,1840,1841,1842,1843,1844,1845,1846,1847,1848,1849,1850,1851,1852,1853,1854,1855,1856,1857,1858,1859,1860,1861,1862,1863,1864,1865,1866,1867,1868,1869,1870,1871,1872,1873,1874,1875,1876,1877,1878,1879,1880,1881,1882,1883,1884,1885,1886,1887,1888,1889,1890,1891,1892,1893,1894,1895,1896,1897,1898,1899,1900,1901,1902,1903,1904,1905,1906,1907,1908,1909,1910,1911,1912,1913,1914,1915,1916,1917,1918,1919,1920,1921,1922,1923,1924,1925,1926,1927,1928,1929,1930,1931,1932,1933,1934,1935,1936,1937,1938,1939,1940,1941,1942,1943,1944,1945,1946,1947,1948,1949,1950,1951,1952,1953,1954,1955,1956,1957,1958,1959,1960,1961,1962,1963,1964,1965,1966,1967,1968,1969,1970,1971,1972,1973,1974,1975,1976,1977,1978,1979,1980,1981,1982,1983,1984,1985,1986,1987,1988,1989,1990,1991,1992,1993,1994,1995,1996,1997,1998,1999,2000,2001,2002,2003,2004,2005,2006,2007,2008,2009,2010,2011,2012,2013,2014,2015,2016,2017,2018,2019,2020,2021,2022,2023,2024,2025,2026,2027,2028,2029,2030,2031,2032,2033,2034,2035,2036,2037,2038,2039,2040,2041,2042,2043,2044,2045,2046,2047,2048,2049,2050,2051,2052,2053,2054,2055,2056,2057,2058,2059,2060,2061,2062,2063,2064,2065,2066,2067,2068,2069,2070,2071,2072,2073,2074,2075,2076,2077,2078,2079,2080,2081,2082,2083,2084,2085,2086,2087,2088,2089,2090,2091,2092,2093,2094,2095,2096,2097,2098,2099,2100,2101,2102,2103,2104,2105,2106,2107,2108,2109,2110,2111,2112,2113,2114,2115,2116,2117,2118,2119,2120,2121,2122,2123,2124,2125,2126,2127,2128,2129,2130,2131,2132,2133,2134,2135,2136,2137,2138,2139,2140,2141,2142,2143,2144,2145,2146,2147,2148,2149,2150,2151,2152,2153,2154,2155,2156,2157,2158,2159,2160,2161,2162,2163,2164,2165,2166,2167,2168,2169,2170,2171,2172,2173,2174,2175,2176,2177,2178,2179,2180,2181,2182,2183,2184,2185,2186,2187,2188,2189,2190,2191,2192,2193,2194,2195,2196,2197,2198,2199,2200,2201,2202,2203,2204,2205,2206,2207,2208,2209,2210,2211,2212,2213,2214,2215,2216,2217,2218,2219,2220,2221,2222,2223,2224,2225,2226,2227,2228,2229,2230,2231,2232,2233,2234,2235,2236,2237,2238,2239,2240,2241,2242,2243,2244,2245,2246,2247,2248,2249,2250,2251,2252,2253,2254,2255,2256,2257,2258,2259,2260,2261,2262,2263,2264,2265,2266,2267,2268,2269,2270,2271,2272,2273,2274,2275,2276,2277,2278,2279,2280,2281,2282,2283,2284,2285,2286,2287,2288,2289,2290,2291,2292,2293,2294,2295,2296,2297,2298,2299,2300,2301,2302,2303,2304,2305,2306,2307,2308,2309,2310,2311,2312,2313,2314,2315,2316,2317,2318,2319,2320,2321,2322,2323,2324,2325,2326,2327,2328,2329,2330,2331,2332,2333,2334,2335,2336,2337,2338,2339,2340,2341,2342,2343,2344,2345,2346,2347,2348,2349,2350,2351,2352,2353,2354,2355,2356,2357,2358,2359,2360,2361,2362,2363,2364,2365,2366,2367,2368,2369,2370,2371,2372,2373,2374,2375,2376,2377,2378,2379,2380,2381,2382,2383,2384,2385,2386,2387,2388,2389,2390,2391,2392,2393,2394,2395,2396,2397,2398,2399,2400,2401,2402,2403,2404,2405,2406,2407,2408,2409,2410,2411,2412,2413,2414,2415,2416,2417,2418,2419,2420,2421,2422,2423,2424,2425,2426,2427,2428,2429,2430,2431,2432,2433,2434,2435,2436,2437,2438,2439,2440,2441,2442,2443,2444,2445,2446,2447,2448,2449,2450,2451,2452,2453,2454,2455,2456,2457,2458,2459,2460,2461,2462,2463,2464,2465,2466,2467,2468,2469,2470,2471,2472,2473,2474,2475,2476,2477,2478,2479,2480,2481,2482,2483,2484,2485,2486,2487,2488,2489,2490,2491,2492,2493,2494,2495,2496,2497,2498,2499,2500,2501,2502,2503,2504,2505,2506,2507,2508,2509,2510,2511,2512,2513,2514,2515,2516,2517,2518,2519,2520,2521,2522,2523,2524,2525,2526,2527,2528,2529,2530,2531,2532,2533,2534,2535,2536,2537,2538,2539,2540,2541,2542,2543,2544,2545,2546,2547,2548,2549,2550,2551,2552,2553,2554,2555,2556,2557,2558,2559,2560,2561,2562,2563,2564,2565,2566,2567,2568,2569,2570,2571,2572,2573,2574,2575,2576,2577,2578,2579,2580,2581,2582,2583,2584,2585,2586,2587,2588,2589,2590,2591,2592,2593,2594,2595,2596,2597,2598,2599,2600,2601,2602,2603,2604,2605,2606,2607,2608,2609,2610,2611,2612,2613,2614,2615,2616,2617,2618,2619,2620,2621,2622,2623,2624,2625,2626,2627,2628,2629,2630,2631,2632,2633,2634,2635,2636,2637,2638,2639,2640,2641,2642,2643,2644,2645,2646,2647,2648,2649,2650,2651,2652,2653,2654,2655,2656,2657,2658,2659,2660,2661,2662,2663,2664,2665,2666,2667,2668,2669,2670,2671,2672,2673,2674,2675,2676,2677,2678,2679,2680,2681,2682,2683,2684,2685,2686,2687,2688,2689,2690,2691,2692,2693,2694,2695,2696,2697,2698,2699,2700,2701,2702,2703,2704,2705,2706,2707,2708,2709,2710,2711,2712,2713,2714,2715,2716,2717,2718,2719,2720,2721,2722,2723,2724,2725,2726,2727,2728,2729,2730,2731,2732,2733,2734,2735,2736,2737,2738,2739,2740,2741,2742,2743,2744,2745,2746,2747,2748,2749,2750,2751,2752,2753,2754,2755,2756,2757,2758,2759,2760,2761,2762,2763,2764,2765,2766,2767,2768,2769,2770,2771,2772,2773,2774,2775,2776,2777,2778,2779,2780,2781,2782,2783,2784,2785,2786,2787,2788,2789,2790,2791,2792,2793,2794,2795,2796,2797,2798,2799,2800,2801,2802,2803,2804,2805,2806,2807,2808,2809,2810,2811,2812,2813,2814,2815,2816,2817,2818,2819,2820,2821,2822,2823,2824,2825,2826,2827,2828,2829,2830,2831,2832,2833,2834,2835,2836,2837,2838,2839,2840,2841,2842,2843,2844,2845,2846,2847,2848,2849,2850,2851,2852,2853,2854,2855,2856,2857,2858,2859,2860,2861,2862,2863,2864,2865,2866,2867,2868,2869,2870,2871,2872,2873,2874,2875,2876,2877,2878,2879,2880,2881,2882,2883,2884,2885,2886,2887,2888,2889,2890,2891,2892,2893,2894,2895,2896,2897,2898,2899,2900,2901,2902,2903,2904,2905,2906,2907,2908,2909,2910,2911,2912,2913,2914,2915,2916,2917,2918,2919,2920,2921,2922,2923,2924,2925,2926,2927,2928,2929,2930,2931,2932,2933,2934,2935,2936,2937,2938,2939,2940,2941,2942,2943,2944,2945,2946,2947,2948,2949,2950,2951,2952,2953,2954,2955,2956,2957,2958,2959,2960,2961,2962,2963,2964,2965,2966,2967,2968,2969,2970,2971,2972,2973,2974,2975,2976,2977,2978,2979,2980,2981,2982,2983,2984,2985,2986,2987,2988,2989,2990,2991,2992,2993,2994,2995,2996,2997,2998,2999,3000,3001,3002,3003,3004,3005,3006,3007,3008,3009,3010,3011,3012,3013,3014,3015,3016,3017,3018,3019,3020,3021,3022,3023,3024,3025,3026,3027,3028,3029,3030,3031,3032,3033,3034,3035,3036,3037,3038,3039,3040,3041,3042,3043,3044,3045,3046,3047,3048,3049,3050,3051,3052,3053,3054,3055,3056,3057,3058,3059,3060,3061,3062,3063,3064,3065,3066,3067,3068,3069,3070,3071,3072,3073,3074,3075,3076,3077,3078,3079,3080,3081,3082,3083,3084,3085,3086,3087,3088,3089,3090,3091,3092,3093,3094,3095,3096,3097,3098,3099,3100,3101,3102,3103,3104,3105,3106,3107,3108,3109,3110,3111,3112,3113,3114,3115,3116,3117,3118,3119,3120,3121,3122,3123,3124,3125,3126,3127,3128,3129,3130,3131,3132,3133,3134,3135,3136,3137,3138,3139,3140,3141,3142,3143,3144,3145,3146,3147,3148,3149,3150,3151,3152,3153,3154,3155,3156,3157,3158,3159,3160,3161,3162,3163,3164,3165,3166,3167,3168,3169,3170,3171,3172,3173,3174,3175,3176,3177,3178,3179,3180,3181,3182,3183,3184,3185,3186,3187,3188,3189,3190,3191,3192,3193,3194,3195,3196,3197,3198,3199,3200,3201,3202,3203,3204,3205,3206,3207,3208,3209,3210,3211,3212,3213,3214,3215,3216,3217,3218,3219,3220,3221,3222,3223,3224,3225,3226,3227,3228,3229,3230,3231,3232,3233,3234,3235,3236,3237,3238,3239,3240,3241,3242,3243,3244,3245,3246,3247,3248,3249,3250,3251,3252,3253,3254,3255,3256,3257,3258,3259,3260,3261,3262,3263,3264,3265,3266,3267,3268,3269,3270,3271,3272,3273,3274,3275,3276,3277,3278,3279,3280,3281,3282,3283,3284,3285,3286,3287,3288,3289,3290,3291,3292,3293,3294,3295,3296,3297,3298,3299,3300,3301,3302,3303,3304,3305,3306,3307,3308,3309,3310,3311,3312,3313,3314,3315,3316,3317,3318,3319,3320,3321,3322,3323,3324,3325,3326,3327,3328,3329,3330,3331,3332,3333,3334,3335,3336,3337,3338,3339,3340,3341,3342,3343,3344,3345,3346,3347,3348,3349,3350,3351,3352,3353,3354,3355,3356,3357,3358,3359,3360,3361,3362,3363,3364,3365,3366,3367,3368,3369,3370,3371,3372,3373,3374,3375,3376,3377,3378,3379,3380,3381,3382,3383,3384,3385,3386,3387,3388,3389,3390,3391,3392,3393,3394],\"xaxis\":\"x\",\"y\":[7.78,9.74,6.76,6.17,0.93,2.14,0.3,1.82,0.81,1.98,4.56,2.05,5.3,0.0,7.85,8.49,7.52,5.38,3.42,0.09,12.14,11.74,2.48,4.65,6.29,3.1,20.95,8.26,17.95,3.02,7.84,0.88,4.56,2.11,11.48,10.52,9.61,7.24,12.96,9.17,19.01,0.04,9.52,6.6,4.62,3.83,1.07,7.32,13.5,4.71,5.58,0.78,4.1,0.03,16.2,7.73,7.04,2.13,6.51,6.67,5.47,7.71,7.3,7.88,3.79,1.93,6.11,5.36,11.36,5.07,6.41,5.49,11.0,5.49,2.46,14.18,4.35,4.87,20.02,8.82,12.09,11.81,13.6,16.41,11.4,14.09,4.97,5.21,6.93,9.75,8.1,14.53,1.66,6.78,1.37,6.79,0.0,4.96,3.87,6.67,6.63,3.72,4.37,6.78,6.21,4.45,4.59,7.39,3.84,3.48,4.38,4.92,4.72,6.5,4.08,0.76,4.6,4.35,5.25,4.14,6.59,7.11,4.17,4.77,7.47,5.64,4.0,3.93,7.01,6.4,1.02,7.12,1.2,3.01,3.79,7.29,6.56,1.81,4.6,4.16,5.47,1.38,4.3,6.13,5.88,5.16,6.66,0.31,1.73,3.97,4.77,3.79,6.56,5.07,4.17,2.87,10.01,6.33,1.3,4.16,5.68,4.27,6.31,6.58,2.27,6.35,4.21,1.97,3.43,6.27,6.89,6.28,2.76,4.1,7.21,7.02,8.38,6.38,7.52,6.22,7.9,11.61,7.97,6.11,3.11,6.92,9.31,7.89,6.66,0.89,6.3,2.52,0.02,5.54,4.34,2.91,6.21,5.16,0.1,4.64,5.47,5.48,5.42,6.58,5.62,5.07,4.6,2.69,6.18,6.65,5.81,6.13,7.08,6.28,6.51,6.54,7.0,6.34,7.7,6.37,6.19,2.71,0.0,7.13,3.57,1.72,5.9,3.8,6.46,5.42,5.97,7.55,5.02,4.06,6.36,5.03,5.23,5.26,0.86,6.78,6.66,6.63,7.35,5.54,6.73,6.62,6.46,8.41,7.84,5.88,4.57,6.5,5.86,5.5,5.8,7.16,1.39,8.23,4.67,2.16,5.02,0.05,5.29,3.09,5.83,5.56,4.89,1.98,3.17,6.11,2.35,6.35,3.28,6.23,5.09,4.68,5.42,4.67,2.76,3.24,0.63,4.95,4.4,0.03,4.64,4.94,0.79,2.68,2.22,5.17,4.99,3.47,6.3,5.46,4.66,1.84,1.26,3.97,2.33,1.1,6.53,1.23,6.28,6.17,4.84,3.11,3.04,3.05,5.0,1.25,4.65,3.41,1.03,5.92,4.06,6.13,5.4,6.83,7.2,6.88,6.65,6.8,7.03,3.07,1.07,2.66,6.55,3.6,5.21,1.27,3.49,3.85,4.01,0.93,0.75,2.26,0.7,6.06,2.86,5.94,6.31,4.76,6.47,5.61,9.03,6.95,7.38,6.69,6.96,6.86,7.1,4.66,8.31,6.64,8.18,3.36,7.8,1.83,5.06,6.95,5.61,4.87,7.06,2.34,4.27,7.08,3.04,1.88,6.57,4.88,2.08,4.17,5.67,3.7,3.57,4.4,3.66,4.56,3.63,0.0,0.0,4.16,2.54,3.49,1.4,2.28,1.4,0.46,2.5,2.32,6.19,6.93,6.76,6.83,6.77,6.54,6.85,7.08,6.57,6.87,6.76,6.73,6.81,6.26,6.85,6.2,6.78,6.92,6.91,6.84,4.51,6.93,6.93,6.92,6.96,6.14,6.73,6.81,6.83,7.13,5.71,6.97,6.91,6.71,5.79,6.93,6.99,7.03,6.96,5.94,6.71,6.94,6.96,6.93,5.71,6.98,5.72,6.23,5.9,5.94,6.02,6.25,6.04,6.3,5.9,5.55,6.41,6.63,6.56,6.3,5.81,5.74,5.83,6.63,6.89,6.87,5.78,5.66,6.03,6.21,5.77,6.08,6.24,6.08,6.57,5.57,6.57,5.52,6.32,5.65,6.12,6.7,6.9,6.19,6.51,6.28,6.22,6.05,6.68,6.41,6.14,6.97,6.93,6.93,6.89,6.28,6.98,7.02,7.03,7.03,6.83,7.12,6.72,6.9,6.94,6.92,6.84,7.11,6.73,6.84,6.94,6.74,0.0,6.95,6.94,12.92,7.97,17.19,3.02,7.24,17.98,16.06,3.39,6.99,18.03,0.71,14.26,11.04,13.92,14.23,11.21,0.92,15.04,1.33,11.76,12.38,4.71,7.97,10.45,1.41,9.05,10.54,3.65,2.93,10.69,6.07,15.84,16.49,1.74,11.89,10.54,2.4,10.38,14.12,10.6,7.78,19.06,11.98,15.88,2.27,8.76,12.6,12.18,0.6,13.81,12.31,8.44,8.1,1.37,14.96,2.06,12.85,16.69,3.53,9.36,14.88,15.19,14.15,14.91,10.41,2.16,15.41,12.95,15.52,11.98,3.94,0.62,18.13,9.55,7.85,1.65,12.46,15.89,12.9,8.09,1.63,12.06,3.54,12.91,1.27,16.31,3.5,10.32,12.65,1.5,2.94,5.49,4.82,6.03,4.87,5.2,5.46,3.88,4.48,5.04,3.7,4.71,4.08,3.63,3.14,6.07,4.08,4.06,3.53,3.76,3.84,5.09,5.0,6.99,4.5,4.31,4.52,0.0,4.82,0.0,0.0,0.0,3.82,6.58,6.39,4.74,4.12,4.99,6.86,4.33,4.86,5.01,5.37,4.01,3.9,3.74,3.84,3.59,3.73,5.67,4.36,6.63,4.87,5.62,6.95,6.52,5.32,6.01,6.68,6.51,4.27,6.54,4.24,4.58,4.54,4.62,4.69,3.73,4.32,6.41,3.63,4.38,5.48,2.59,6.52,5.51,4.33,4.15,3.92,5.28,3.72,6.92,5.47,5.3,3.71,4.1,7.86,4.39,5.66,4.87,8.59,5.06,4.4,4.85,3.86,5.04,6.59,6.12,5.37,4.35,5.16,5.7,3.59,6.29,4.66,5.29,6.54,1.28,5.08,7.26,7.0,3.27,4.06,7.77,6.75,4.43,3.8,3.58,4.86,4.75,4.4,4.2,2.59,4.93,6.78,4.81,6.32,6.15,5.12,0.01,0.0,3.08,4.69,4.21,3.68,3.63,3.32,2.27,4.02,3.44,3.65,4.8,3.52,3.52,2.42,3.96,3.78,3.54,4.69,4.1,3.41,3.62,4.54,4.03,2.85,6.19,5.26,2.84,3.96,2.93,0.27,2.78,5.93,2.93,2.81,3.81,2.69,3.65,6.38,4.02,3.9,2.85,3.3,3.06,2.94,3.65,5.84,3.81,4.18,4.0,2.7,2.87,6.44,6.02,6.85,3.26,3.4,6.67,3.05,2.75,4.16,3.08,2.84,6.66,4.35,4.75,2.64,4.81,3.61,3.81,6.23,3.05,2.86,2.42,4.32,2.83,3.44,2.93,2.93,6.19,3.82,6.49,6.22,0.0,4.22,2.91,0.0,4.15,6.17,6.9,5.1,7.02,6.76,5.11,2.72,6.55,6.72,6.9,0.86,3.47,6.3,5.85,6.25,6.19,6.15,6.05,5.93,6.17,6.07,6.16,6.03,5.78,5.98,6.05,5.81,5.84,5.87,6.01,5.28,5.97,5.9,5.96,5.87,6.04,5.97,5.92,6.1,5.98,5.89,5.82,5.9,5.95,5.89,6.03,5.84,5.92,4.96,1.79,2.38,1.52,6.53,3.64,3.7,2.31,2.31,1.78,4.23,2.81,4.97,6.79,1.45,6.66,6.6,3.8,6.71,6.41,4.94,6.54,2.04,6.5,3.16,0.93,6.51,2.02,6.76,6.05,5.91,3.46,2.64,6.48,1.82,4.73,3.69,3.82,4.03,0.67,2.11,5.11,1.99,3.94,3.52,4.82,4.08,6.72,6.68,4.15,7.36,2.45,6.47,6.37,5.26,4.42,4.47,3.47,19.79,16.88,19.6,9.62,8.83,15.52,16.12,11.86,20.55,17.25,6.73,22.03,20.92,18.35,12.83,17.65,18.7,8.29,16.31,4.17,11.59,19.96,18.17,14.02,20.2,20.06,21.16,2.87,22.14,19.47,11.33,17.9,10.47,18.15,20.24,3.92,20.37,17.8,3.92,12.91,4.54,22.07,5.26,21.14,4.59,20.37,18.42,9.02,11.93,20.6,6.56,10.63,21.2,23.68,6.77,1.51,6.44,1.32,5.58,3.87,0.19,5.78,0.78,6.19,0.52,6.45,6.49,6.51,8.7,7.8,8.31,6.17,6.56,6.63,7.08,6.53,6.48,6.63,6.64,7.39,6.64,5.36,6.77,7.12,5.27,7.06,6.72,6.91,6.75,7.31,6.87,4.99,6.25,6.48,7.35,6.94,5.69,6.73,2.06,6.68,6.66,6.88,0.0,6.82,0.0,6.92,6.53,5.77,6.36,5.91,6.66,6.75,5.69,5.47,6.75,4.48,5.81,4.68,6.14,6.39,6.91,6.25,6.4,5.31,5.08,5.91,2.0,5.44,5.83,5.81,5.77,4.96,5.51,5.45,5.58,3.45,4.74,6.09,5.23,4.05,6.73,5.43,4.77,5.2,5.28,4.64,5.15,5.54,5.16,5.44,4.75,6.75,3.0,5.42,5.36,5.05,5.1,4.56,5.34,5.43,5.34,5.81,5.34,2.4,1.72,4.46,3.63,4.78,6.98,5.08,7.0,5.64,5.43,6.91,4.83,5.4,5.33,6.81,4.6,6.88,5.72,5.06,6.76,5.19,4.82,6.38,6.71,5.1,1.48,6.59,5.18,5.05,6.71,4.79,6.53,5.06,5.1,5.75,5.02,5.39,4.99,6.36,6.68,8.56,7.28,9.32,6.71,6.59,6.41,6.52,6.52,6.66,4.38,6.65,0.03,7.38,6.48,6.84,6.5,3.63,6.72,6.65,6.66,6.52,6.55,7.03,5.84,6.57,6.54,7.58,6.78,6.94,6.62,7.61,6.46,6.57,6.84,6.64,6.8,3.82,3.34,3.32,5.37,3.85,3.51,3.2,3.87,3.29,4.5,3.48,3.4,3.55,3.66,7.39,6.68,3.49,3.79,3.56,7.1,3.14,3.08,3.47,6.57,6.63,4.3,3.16,4.2,3.35,6.01,4.72,3.87,5.54,6.72,3.75,5.08,6.46,5.4,4.84,6.9,6.29,6.56,6.31,6.19,6.54,6.33,6.61,6.64,6.14,6.67,5.34,6.34,6.01,6.35,5.79,4.89,5.54,5.85,6.0,5.72,6.21,6.83,5.59,6.04,6.12,5.6,6.18,6.89,6.51,6.4,5.9,6.98,6.2,5.89,6.88,5.34,6.15,5.37,5.98,6.23,6.36,5.99,5.64,6.4,6.26,6.12,5.75,6.58,6.12,6.03,6.73,6.68,6.59,6.47,6.26,6.4,6.02,6.21,6.75,5.91,6.08,6.52,6.34,4.63,6.81,3.38,6.56,2.26,6.24,6.3,6.21,6.31,5.56,6.26,5.33,6.93,5.56,5.56,1.42,7.6,6.26,6.89,2.29,5.25,6.73,5.44,5.42,4.97,7.05,4.77,7.86,4.92,6.93,6.05,4.77,6.93,5.36,4.86,7.58,5.82,5.98,7.4,1.6,7.43,6.86,7.51,7.52,7.24,7.19,7.13,6.77,6.71,6.28,7.64,7.64,6.63,6.92,8.02,7.9,7.36,4.99,7.56,6.78,5.0,6.62,5.28,4.74,6.92,6.62,6.8,4.75,6.47,6.77,6.79,4.77,7.74,4.63,4.81,3.21,6.17,6.55,5.25,5.66,5.18,6.19,6.84,6.45,4.8,7.14,5.25,7.17,0.0,7.04,6.84,6.68,5.35,2.51,0.02,6.59,6.82,5.47,1.8,6.83,0.0,6.77,1.81,6.93,6.89,2.03,5.82,6.91,1.45,5.84,6.79,5.66,6.91,5.16,1.7,5.3,6.58,6.35,6.73,6.49,5.83,6.91,5.55,6.66,0.66,6.68,6.59,4.86,6.62,4.76,6.41,4.95,6.38,5.31,6.36,4.68,5.84,4.48,6.55,6.31,5.46,6.63,4.33,4.25,4.95,4.9,0.54,5.56,6.56,4.98,6.39,4.3,4.75,4.75,4.52,4.32,6.7,5.23,0.62,3.64,6.94,6.49,6.57,6.42,6.51,6.71,7.02,6.42,4.89,6.34,4.33,4.35,4.34,4.6,6.78,4.2,6.92,4.12,4.15,6.65,4.72,6.84,6.49,4.07,4.34,6.46,0.56,4.38,4.75,3.99,6.01,2.31,4.32,2.33,6.69,5.32,6.92,1.4,4.43,5.68,1.49,5.01,2.37,6.62,6.88,4.21,6.28,6.89,6.51,7.01,4.38,1.66,6.43,6.9,6.42,1.93,6.93,2.21,4.45,1.7,6.04,4.08,2.94,4.27,6.45,8.01,6.55,2.04,4.09,3.38,2.33,6.87,2.61,6.34,3.08,2.2,6.49,3.8,6.63,2.82,6.47,5.52,6.91,6.83,3.34,3.53,6.15,3.21,4.43,5.97,6.33,5.19,2.94,0.05,0.16,2.97,6.62,0.26,6.69,1.39,0.19,6.5,1.11,0.47,6.82,6.76,0.0,7.68,6.75,0.24,6.36,6.92,6.74,6.54,4.32,6.34,4.26,6.54,6.82,6.8,6.58,1.62,6.82,1.66,6.74,0.1,6.7,6.68,1.86,6.8,6.6,6.72,6.85,6.69,3.5,6.79,1.39,6.73,6.7,6.69,6.69,1.52,5.12,5.48,6.7,6.7,6.8,6.56,6.54,1.99,6.72,6.64,2.26,6.92,1.16,6.45,4.0,6.71,0.91,6.35,6.58,2.32,6.66,6.67,2.02,6.43,6.43,1.43,6.75,6.72,6.73,6.75,6.76,6.8,6.76,1.08,6.75,0.67,6.44,6.83,1.29,6.7,0.61,6.79,6.79,1.94,6.81,0.66,6.43,1.54,6.42,6.32,3.57,6.28,6.55,6.75,0.98,6.55,1.18,6.73,1.4,6.92,6.81,6.4,6.75,6.9,6.82,1.94,6.69,6.53,6.82,6.84,6.81,6.7,6.76,1.35,6.76,6.8,6.75,3.53,5.22,6.78,6.82,6.52,6.79,6.76,6.71,6.7,6.77,6.78,6.79,4.14,6.94,6.77,6.8,6.73,6.71,6.78,6.42,2.31,6.78,1.54,6.81,6.88,6.84,6.83,6.89,6.72,0.89,6.8,6.82,6.84,6.85,6.79,2.16,5.7,3.61,6.72,1.11,6.76,1.33,6.67,6.71,6.69,6.77,0.75,6.71,6.73,1.81,5.47,3.42,2.89,6.68,1.07,6.71,6.65,6.73,6.75,6.73,2.06,6.72,6.43,1.43,6.43,6.62,0.94,6.2,1.12,7.41,1.54,3.71,3.22,3.47,1.92,4.13,1.11,3.83,2.53,3.98,2.39,4.73,5.5,7.56,0.0,6.82,8.58,8.51,6.82,5.11,7.66,6.68,7.67,5.31,2.45,7.34,5.25,5.5,8.98,6.14,7.63,5.51,3.48,4.92,3.74,5.42,3.13,3.63,5.87,8.23,5.52,4.75,6.23,3.59,4.19,4.94,8.27,5.26,7.39,6.65,5.27,3.49,4.03,4.84,2.8,6.1,4.33,2.52,2.52,5.0,5.14,6.49,6.54,4.08,5.97,3.56,3.34,4.33,5.16,8.29,5.83,4.38,5.86,6.47,3.35,2.21,4.31,4.11,6.89,4.5,4.77,4.74,3.39,5.58,3.9,2.99,4.0,3.17,5.83,4.55,4.43,2.53,5.47,2.77,7.64,6.74,4.3,4.11,6.43,3.79,4.77,6.0,1.0,3.22,2.44,3.19,3.34,3.7,3.6,4.24,4.37,4.6,3.34,4.69,3.39,5.67,6.06,6.0,6.85,5.88,3.73,3.04,2.86,7.69,3.74,2.88,3.82,1.41,2.86,3.43,2.69,1.85,2.24,2.27,4.76,3.51,1.2,1.4,2.81,1.27,4.57,2.93,4.22,2.71,3.5,4.93,1.08,3.51,2.3,2.99,2.68,5.6,2.93,2.9,0.0,4.72,2.5,6.08,6.55,6.41,6.49,0.0,0.0,5.96,6.52,6.85,0.0,6.69,6.47,0.0,6.88,6.83,5.55,6.68,6.84,6.8,6.75,6.94,6.83,6.58,4.64,6.86,6.76,6.84,6.73,6.83,6.77,6.65,6.68,6.86,0.0,6.06,4.24,5.86,6.46,13.94,12.35,5.87,6.59,12.26,6.43,6.58,12.99,15.52,20.38,6.88,14.58,13.23,13.74,17.48,13.81,16.45,15.06,12.33,11.1,15.87,13.04,16.02,16.5,12.6,14.98,15.6,14.08,17.97,13.8,7.02,18.07,13.6,14.23,15.21,14.94,12.37,9.67,16.19,6.92,14.05,7.06,13.41,14.83,12.54,16.76,7.98,13.24,14.77,18.58,14.51,8.32,6.23,6.6,6.08,5.68,5.85,6.22,5.76,5.72,8.17,6.6,6.0,5.97,5.96,6.12,2.72,5.58,5.62,6.76,5.97,5.56,5.79,5.65,5.66,3.25,6.89,5.89,5.54,5.37,5.81,2.86,5.57,5.52,2.02,5.33,5.58,5.52,5.7,5.64,5.89,5.89,6.99,5.57,5.74,5.76,5.44,5.66,6.29,5.78,5.35,5.54,5.7,6.12,6.89,6.59,6.5,6.41,6.74,8.26,6.87,6.81,6.5,5.49,6.58,6.58,6.82,6.7,6.5,6.61,6.72,6.76,6.74,6.7,6.61,6.77,1.21,5.5,2.82,5.42,7.25,6.34,6.86,6.5,6.83,6.78,6.99,6.58,6.51,6.52,6.88,5.9,5.58,5.76,6.63,5.83,5.54,5.83,3.02,5.93,6.9,6.6,6.94,6.84,6.94,7.03,6.96,7.06,7.01,6.86,6.66,6.95,2.83,6.8,6.92,6.95,6.9,6.9,6.92,7.02,0.0,7.06,6.2,6.25,7.01,6.83,6.85,6.92,6.97,6.87,6.91,7.17,6.99,6.6,6.31,5.04,7.06,7.01,7.07,7.1,1.89,1.42,6.85,6.74,6.93,7.03,6.93,6.19,7.19,7.08,7.12,7.15,6.02,3.52,7.08,7.12,7.0,6.9,7.12,6.98,7.05,5.96,7.28,6.98,7.07,7.04,6.92,6.91,7.0,6.99,6.83,7.05,4.62,6.84,6.95,7.38,6.77,6.87,5.69,6.78,7.33,7.05,6.46,6.77,6.87,6.88,6.88,0.0,6.82,6.65,7.01,6.91,6.9,6.82,6.98,6.85,6.92,6.59,6.72,6.65,6.71,6.3,6.3,6.75,7.0,3.62,3.01,5.77,6.88,6.95,6.86,6.8,6.86,6.57,6.73,6.95,6.8,7.08,6.27,6.42,6.69,6.83,7.1,6.91,6.77,6.66,6.75,6.71,7.16,6.94,6.79,6.78,6.33,6.97,6.69,6.93,5.74,5.5,6.44,6.77,6.65,6.73,6.63,6.79,6.82,6.76,6.76,6.59,6.86,6.88,6.8,6.78,6.8,6.96,6.89,6.74,2.87,6.76,3.1,6.87,6.77,6.73,6.6,6.94,6.94,6.84,6.8,6.8,6.73,6.79,6.75,6.95,6.73,6.76,6.7,6.78,6.84,6.3,0.0,0.0,0.0,0.0,6.85,6.89,6.85,6.93,6.86,6.76,2.59,6.79,6.82,6.84,6.76,6.79,6.82,6.91,6.83,6.81,6.81,6.84,6.88,6.8,6.9,6.87,6.84,6.94,6.99,6.88,6.9,6.84,6.88,6.79,6.81,6.88,6.83,6.88,0.21,0.13,6.86,6.8,6.8,6.92,5.57,6.79,6.81,6.49,4.87,7.08,6.43,6.66,6.81,6.63,6.53,4.95,6.54,6.26,6.61,6.26,6.51,6.53,6.47,4.85,6.6,4.59,6.57,6.12,6.05,6.24,6.44,6.56,6.14,5.58,6.6,6.56,6.54,6.54,6.3,6.51,6.5,6.49,6.41,6.38,6.49,0.55,5.7,0.42,1.71,5.06,7.07,5.6,1.31,3.63,5.99,4.89,4.46,6.34,6.77,3.61,5.51,5.58,6.58,6.68,6.52,6.29,6.78,6.13,7.44,6.43,6.35,6.49,6.42,6.47,6.93,3.67,4.16,7.11,6.34,6.88,6.92,6.2,6.12,6.44,6.21,5.89,0.96,6.51,6.57,6.57,6.39,6.03,6.37,6.18,6.47,6.18,6.5,5.79,6.37,6.39,6.0,6.42,6.69,6.91,1.43,4.72,6.43,6.27,6.52,6.67,6.18,4.82,5.95,6.4,1.04,6.41,6.35,6.78,6.31,6.11,6.31,6.15,6.57,6.46,6.06,5.94,6.04,6.25,6.45,2.48,5.85,6.47,6.15,6.47,5.74,6.54,6.56,6.54,6.05,0.06,6.54,0.0,0.0,0.0,0.0,0.0,0.0,0.0,6.47,5.92,6.33,0.0,6.53,6.33,7.6,7.24,0.0,7.73,7.46,6.67,5.48,4.64,6.81,7.0,6.78,4.33,4.35,4.09,4.36,4.15,4.37,4.06,3.73,4.32,4.65,4.05,4.09,3.91,4.38,4.17,6.61,3.16,4.18,6.43,5.76,3.86,5.65,4.43,5.94,5.63,5.78,4.26,5.95,6.13,4.32,5.82,4.2,5.57,5.92,4.27,5.65,5.89,5.92,4.17,5.58,5.91,6.17,5.63,6.7,4.5,5.61,5.99,6.58,6.67,6.7,6.69,6.91,6.9,6.66,6.7,6.65,6.19,6.53,6.46,6.54,3.48,6.5,0.21,0.13,0.09,5.07,1.36,6.31,9.14,0.81,7.01,7.14,6.48,0.26,1.02,4.68,7.74,7.18,7.73,7.22,0.31,3.42,1.1,3.96,6.86,7.23,6.73,0.38,6.72,3.21,3.11,7.13,7.0,7.25,6.93,7.39,7.02,6.86,6.68,0.43,6.99,7.34,7.79,7.11,0.48,7.02,7.16,7.07,0.39,6.94,7.02,7.12,0.44,6.98,6.96,7.05,7.03,6.92,0.38,7.08,0.81,6.95,6.83,7.2,7.08,7.11,7.01,0.53,7.16,7.14,6.96,7.03,7.11,6.96,3.0,4.15,4.44,3.49,0.0,0.0,6.3,7.01,6.64,6.56,6.88,6.62,7.49,6.99,4.43,6.23,2.28,2.12,4.35,2.51,4.96,1.54,3.53,3.43,0.95,5.93,6.42,3.76,6.42,6.69,3.74,4.41,2.77,1.74,4.44,7.02,3.27,2.2,4.15,3.76,4.77,6.76,0.12,2.67,6.93,1.29,6.68,1.9,5.77,2.94,6.92,1.94,4.13,5.21,2.8,3.55,2.54,1.92,1.4,1.4,4.87,6.95,0.19,6.56,3.92,1.55,6.27,6.88,1.98,5.5,5.04,1.37,3.6,4.57,4.07,6.91,5.46,3.17,6.83,1.84,4.47,1.11,1.75,1.76,3.26,6.8,1.83,3.76,4.38,1.68,3.17,6.69,2.56,6.76,2.9,3.27,4.92,4.19,5.16,3.47,1.96,6.42,1.94,4.79,0.84,2.76,1.4,3.82,5.1,3.75,1.87,2.02,2.85,1.74,4.36,1.66,5.16,3.33,3.35,3.89,3.8,1.46,4.12,5.18,4.24,1.67,6.52,1.78,1.41,3.26,1.63,2.24,6.8,2.25,1.38,1.78,4.54,4.02,2.63,6.28,6.87,6.88,6.91,6.69,6.71,6.71,6.76,6.65,6.82,6.58,6.84,7.09,6.58,6.76,6.72,6.73,6.7,6.74,6.61,6.63,6.67,6.66,6.85,6.63,6.72,6.75,6.72,6.63,6.69,6.71,6.56,6.69,6.71,6.81,6.9,6.73,6.57,6.69,6.72,6.62,6.71,6.67,6.54,6.69,6.64,6.73,6.66,6.84,6.83,6.58,6.76,6.74,1.97,6.62,6.79,6.75,6.7,6.7,6.69,2.88,6.88,6.62,6.64,6.6,6.7,7.13,6.97,7.08,6.95,7.05,7.09,6.96,6.96,7.15,6.83,6.47,6.44,6.49,6.39,6.72,6.48,6.22,2.34,4.36,2.75,6.93,6.77,6.97,1.73,6.56,6.79,6.47,6.91,6.8,6.92,5.08,6.94,7.03,6.97,7.11,5.87,7.09,7.0,7.08,7.01,6.43,6.87,6.86,7.09,6.95,7.04,6.55,6.97,3.69,6.89,6.86,6.82,6.17,6.94,6.4,6.71,6.82,4.35,6.84,6.4,6.71,6.37,6.77,6.9,6.7,6.43,6.41,6.44,5.66,5.64,4.16,6.53,4.3,6.73,6.4,6.09,6.04,5.98,5.99,4.15,2.9,5.98,6.1,5.97,6.02,5.83,5.99,5.92,6.0,5.9,5.68,6.16,5.88,6.09,5.98,6.1,6.05,5.98,6.09,6.08,6.18,6.15,4.24,6.1,5.94,5.95,5.95,5.72,6.01,5.93,6.06,6.19,5.9,5.94,5.89,5.59,5.97,5.68,5.84,5.77,5.46,5.87,5.87,6.0,5.84,6.97,7.88,7.0,6.96,1.24,7.04,7.04,6.81,6.98,7.9,7.02,6.95,7.03,1.43,6.71,8.26,7.0,6.84,7.11,6.9,6.96,7.03,7.39,7.03,1.03,6.77,6.88,8.13,7.03,6.95,6.8,6.76,6.83,6.86,6.73,7.96,7.01,8.31,6.96,7.75,7.78,7.05,6.95,7.27,6.95,6.83,6.79,6.02,6.83,6.74,6.71,6.68,6.74,4.8,7.6,6.68,6.58,4.53,5.08,4.47,5.16,4.25,3.82,3.69,3.16,5.04,4.1,6.48,2.74,6.95,6.09,6.7,3.21,7.1,6.84,6.9,6.87,5.52,7.03,6.71,5.77,6.97,2.13,6.78,5.45,2.19,4.21,6.71,4.05,5.38,5.96,6.77,6.71,5.94,6.86,6.61,7.07,6.93,6.01,6.8,0.0,0.0,0.0,7.15,7.06,7.1,7.08,7.1,7.1,2.92,7.14,7.17,3.23,7.1,5.13,6.78,6.78,6.91,6.81,7.0,7.05,6.19,6.95,6.88,6.83,6.9,6.93,6.89,6.92,6.82,6.93,6.97,6.73,6.91,6.78,6.92,2.26,6.95,6.85,1.53,6.88,6.85,6.73,6.75,6.73,3.79,6.68,6.76,0.77,6.56,0.0,6.58,6.54,3.02,1.26,4.72,4.69,4.55,6.84,3.48,3.99,5.03,6.89,5.32,3.27,2.67,6.5,4.94,4.26,4.08,3.74,7.08,4.75,5.5,6.83,6.66,6.34,6.99,5.23,7.01,4.04,6.88,5.89,5.32,6.7,4.86,3.83,0.24,4.24,6.21,6.68,4.21,4.89,5.66,0.0,0.0,6.67,3.42,4.45,4.96,3.76,4.71,1.87,5.12,5.39,5.21,4.86,5.05,5.14,5.35,4.9,4.95,5.01,5.33,5.3,5.4,5.29,5.52,4.93,4.83,6.83,4.53,5.04,5.38,5.28,4.89,5.07,7.0,4.87,6.38,5.91,5.03,5.07,5.0,7.13,6.78,7.08,7.16,6.99,5.52,6.55,6.09,5.69,5.53,6.0,6.02,3.08,3.01,5.16,4.75,7.03,2.96,7.0,7.16,2.45,7.1,7.13,7.21,7.05,6.87,7.25,6.84,7.03,1.7,6.99,7.01,3.26,6.91,7.1,6.94,6.85,1.14,6.68,6.8,6.73,3.3,6.85,6.84,6.99,7.05,6.95,6.93,6.94,6.95,6.73,6.9,2.39,6.95,1.83,6.86,0.0,6.9,7.08,3.08,6.89,0.0,6.49,6.82,1.8,1.65,3.26,5.05,2.31,5.37,3.79,0.0,3.78,0.0,0.0,6.41,6.98,6.34,6.39,3.85,6.17,6.02,5.67,5.85,4.4,7.02,6.42,6.29,5.42,6.14,6.9,6.84,5.95,4.52,7.3,6.16,5.19,6.78,6.65,6.29,6.88,6.49,6.53,6.5,6.86,6.9,6.86,6.78,6.37,6.56,6.16,6.85,6.95,6.97,6.93,6.93,7.04,7.07,6.96,6.92,7.18,7.04,7.12,7.03,7.12,7.02,7.12,7.01,6.9,6.96,7.04,6.92,7.05,7.0,7.08,7.01,6.98,6.94,6.98,7.04,6.93,7.18,7.08,6.87,7.01,6.91,0.0,6.97,6.98,6.96,0.0,6.98,6.98,6.89,7.0,7.08,7.14,6.89,5.52,1.44,6.56,7.04,2.35,6.24,6.62,1.89,5.06,5.69,6.64,6.03,6.24,6.91,6.88,4.56,4.83,5.78,6.98,5.3,5.11,4.64,6.28,5.2,2.23,6.85,0.69,4.65,5.12,5.3,2.46,5.57,1.7,8.98,14.08,13.36,9.87,10.83,0.98,8.87,11.87,13.08,9.84,16.94,6.41,6.68,6.37,6.87,6.56,6.88,4.33,4.88,4.96,4.93,4.26,4.75,4.15,2.82,3.94,5.35,5.64,4.46,4.29,4.2,4.69,4.9,6.9,1.78,4.74,6.93,6.67,6.49,6.88,6.7,7.07,5.36,6.33,6.17,4.86,5.36,6.23,6.58,3.54,1.5,1.64,4.33,3.5,5.42,5.58,6.94,0.11,0.02,0.08,0.06,6.73,6.56,6.74,6.86,6.07,5.74,6.95],\"yaxis\":\"y\",\"type\":\"scattergl\"}],                        {\"template\":{\"data\":{\"bar\":[{\"error_x\":{\"color\":\"#2a3f5f\"},\"error_y\":{\"color\":\"#2a3f5f\"},\"marker\":{\"line\":{\"color\":\"#E5ECF6\",\"width\":0.5},\"pattern\":{\"fillmode\":\"overlay\",\"size\":10,\"solidity\":0.2}},\"type\":\"bar\"}],\"barpolar\":[{\"marker\":{\"line\":{\"color\":\"#E5ECF6\",\"width\":0.5},\"pattern\":{\"fillmode\":\"overlay\",\"size\":10,\"solidity\":0.2}},\"type\":\"barpolar\"}],\"carpet\":[{\"aaxis\":{\"endlinecolor\":\"#2a3f5f\",\"gridcolor\":\"white\",\"linecolor\":\"white\",\"minorgridcolor\":\"white\",\"startlinecolor\":\"#2a3f5f\"},\"baxis\":{\"endlinecolor\":\"#2a3f5f\",\"gridcolor\":\"white\",\"linecolor\":\"white\",\"minorgridcolor\":\"white\",\"startlinecolor\":\"#2a3f5f\"},\"type\":\"carpet\"}],\"choropleth\":[{\"colorbar\":{\"outlinewidth\":0,\"ticks\":\"\"},\"type\":\"choropleth\"}],\"contour\":[{\"colorbar\":{\"outlinewidth\":0,\"ticks\":\"\"},\"colorscale\":[[0.0,\"#0d0887\"],[0.1111111111111111,\"#46039f\"],[0.2222222222222222,\"#7201a8\"],[0.3333333333333333,\"#9c179e\"],[0.4444444444444444,\"#bd3786\"],[0.5555555555555556,\"#d8576b\"],[0.6666666666666666,\"#ed7953\"],[0.7777777777777778,\"#fb9f3a\"],[0.8888888888888888,\"#fdca26\"],[1.0,\"#f0f921\"]],\"type\":\"contour\"}],\"contourcarpet\":[{\"colorbar\":{\"outlinewidth\":0,\"ticks\":\"\"},\"type\":\"contourcarpet\"}],\"heatmap\":[{\"colorbar\":{\"outlinewidth\":0,\"ticks\":\"\"},\"colorscale\":[[0.0,\"#0d0887\"],[0.1111111111111111,\"#46039f\"],[0.2222222222222222,\"#7201a8\"],[0.3333333333333333,\"#9c179e\"],[0.4444444444444444,\"#bd3786\"],[0.5555555555555556,\"#d8576b\"],[0.6666666666666666,\"#ed7953\"],[0.7777777777777778,\"#fb9f3a\"],[0.8888888888888888,\"#fdca26\"],[1.0,\"#f0f921\"]],\"type\":\"heatmap\"}],\"heatmapgl\":[{\"colorbar\":{\"outlinewidth\":0,\"ticks\":\"\"},\"colorscale\":[[0.0,\"#0d0887\"],[0.1111111111111111,\"#46039f\"],[0.2222222222222222,\"#7201a8\"],[0.3333333333333333,\"#9c179e\"],[0.4444444444444444,\"#bd3786\"],[0.5555555555555556,\"#d8576b\"],[0.6666666666666666,\"#ed7953\"],[0.7777777777777778,\"#fb9f3a\"],[0.8888888888888888,\"#fdca26\"],[1.0,\"#f0f921\"]],\"type\":\"heatmapgl\"}],\"histogram\":[{\"marker\":{\"pattern\":{\"fillmode\":\"overlay\",\"size\":10,\"solidity\":0.2}},\"type\":\"histogram\"}],\"histogram2d\":[{\"colorbar\":{\"outlinewidth\":0,\"ticks\":\"\"},\"colorscale\":[[0.0,\"#0d0887\"],[0.1111111111111111,\"#46039f\"],[0.2222222222222222,\"#7201a8\"],[0.3333333333333333,\"#9c179e\"],[0.4444444444444444,\"#bd3786\"],[0.5555555555555556,\"#d8576b\"],[0.6666666666666666,\"#ed7953\"],[0.7777777777777778,\"#fb9f3a\"],[0.8888888888888888,\"#fdca26\"],[1.0,\"#f0f921\"]],\"type\":\"histogram2d\"}],\"histogram2dcontour\":[{\"colorbar\":{\"outlinewidth\":0,\"ticks\":\"\"},\"colorscale\":[[0.0,\"#0d0887\"],[0.1111111111111111,\"#46039f\"],[0.2222222222222222,\"#7201a8\"],[0.3333333333333333,\"#9c179e\"],[0.4444444444444444,\"#bd3786\"],[0.5555555555555556,\"#d8576b\"],[0.6666666666666666,\"#ed7953\"],[0.7777777777777778,\"#fb9f3a\"],[0.8888888888888888,\"#fdca26\"],[1.0,\"#f0f921\"]],\"type\":\"histogram2dcontour\"}],\"mesh3d\":[{\"colorbar\":{\"outlinewidth\":0,\"ticks\":\"\"},\"type\":\"mesh3d\"}],\"parcoords\":[{\"line\":{\"colorbar\":{\"outlinewidth\":0,\"ticks\":\"\"}},\"type\":\"parcoords\"}],\"pie\":[{\"automargin\":true,\"type\":\"pie\"}],\"scatter\":[{\"marker\":{\"colorbar\":{\"outlinewidth\":0,\"ticks\":\"\"}},\"type\":\"scatter\"}],\"scatter3d\":[{\"line\":{\"colorbar\":{\"outlinewidth\":0,\"ticks\":\"\"}},\"marker\":{\"colorbar\":{\"outlinewidth\":0,\"ticks\":\"\"}},\"type\":\"scatter3d\"}],\"scattercarpet\":[{\"marker\":{\"colorbar\":{\"outlinewidth\":0,\"ticks\":\"\"}},\"type\":\"scattercarpet\"}],\"scattergeo\":[{\"marker\":{\"colorbar\":{\"outlinewidth\":0,\"ticks\":\"\"}},\"type\":\"scattergeo\"}],\"scattergl\":[{\"marker\":{\"colorbar\":{\"outlinewidth\":0,\"ticks\":\"\"}},\"type\":\"scattergl\"}],\"scattermapbox\":[{\"marker\":{\"colorbar\":{\"outlinewidth\":0,\"ticks\":\"\"}},\"type\":\"scattermapbox\"}],\"scatterpolar\":[{\"marker\":{\"colorbar\":{\"outlinewidth\":0,\"ticks\":\"\"}},\"type\":\"scatterpolar\"}],\"scatterpolargl\":[{\"marker\":{\"colorbar\":{\"outlinewidth\":0,\"ticks\":\"\"}},\"type\":\"scatterpolargl\"}],\"scatterternary\":[{\"marker\":{\"colorbar\":{\"outlinewidth\":0,\"ticks\":\"\"}},\"type\":\"scatterternary\"}],\"surface\":[{\"colorbar\":{\"outlinewidth\":0,\"ticks\":\"\"},\"colorscale\":[[0.0,\"#0d0887\"],[0.1111111111111111,\"#46039f\"],[0.2222222222222222,\"#7201a8\"],[0.3333333333333333,\"#9c179e\"],[0.4444444444444444,\"#bd3786\"],[0.5555555555555556,\"#d8576b\"],[0.6666666666666666,\"#ed7953\"],[0.7777777777777778,\"#fb9f3a\"],[0.8888888888888888,\"#fdca26\"],[1.0,\"#f0f921\"]],\"type\":\"surface\"}],\"table\":[{\"cells\":{\"fill\":{\"color\":\"#EBF0F8\"},\"line\":{\"color\":\"white\"}},\"header\":{\"fill\":{\"color\":\"#C8D4E3\"},\"line\":{\"color\":\"white\"}},\"type\":\"table\"}]},\"layout\":{\"annotationdefaults\":{\"arrowcolor\":\"#2a3f5f\",\"arrowhead\":0,\"arrowwidth\":1},\"autotypenumbers\":\"strict\",\"coloraxis\":{\"colorbar\":{\"outlinewidth\":0,\"ticks\":\"\"}},\"colorscale\":{\"diverging\":[[0,\"#8e0152\"],[0.1,\"#c51b7d\"],[0.2,\"#de77ae\"],[0.3,\"#f1b6da\"],[0.4,\"#fde0ef\"],[0.5,\"#f7f7f7\"],[0.6,\"#e6f5d0\"],[0.7,\"#b8e186\"],[0.8,\"#7fbc41\"],[0.9,\"#4d9221\"],[1,\"#276419\"]],\"sequential\":[[0.0,\"#0d0887\"],[0.1111111111111111,\"#46039f\"],[0.2222222222222222,\"#7201a8\"],[0.3333333333333333,\"#9c179e\"],[0.4444444444444444,\"#bd3786\"],[0.5555555555555556,\"#d8576b\"],[0.6666666666666666,\"#ed7953\"],[0.7777777777777778,\"#fb9f3a\"],[0.8888888888888888,\"#fdca26\"],[1.0,\"#f0f921\"]],\"sequentialminus\":[[0.0,\"#0d0887\"],[0.1111111111111111,\"#46039f\"],[0.2222222222222222,\"#7201a8\"],[0.3333333333333333,\"#9c179e\"],[0.4444444444444444,\"#bd3786\"],[0.5555555555555556,\"#d8576b\"],[0.6666666666666666,\"#ed7953\"],[0.7777777777777778,\"#fb9f3a\"],[0.8888888888888888,\"#fdca26\"],[1.0,\"#f0f921\"]]},\"colorway\":[\"#636efa\",\"#EF553B\",\"#00cc96\",\"#ab63fa\",\"#FFA15A\",\"#19d3f3\",\"#FF6692\",\"#B6E880\",\"#FF97FF\",\"#FECB52\"],\"font\":{\"color\":\"#2a3f5f\"},\"geo\":{\"bgcolor\":\"white\",\"lakecolor\":\"white\",\"landcolor\":\"#E5ECF6\",\"showlakes\":true,\"showland\":true,\"subunitcolor\":\"white\"},\"hoverlabel\":{\"align\":\"left\"},\"hovermode\":\"closest\",\"mapbox\":{\"style\":\"light\"},\"paper_bgcolor\":\"white\",\"plot_bgcolor\":\"#E5ECF6\",\"polar\":{\"angularaxis\":{\"gridcolor\":\"white\",\"linecolor\":\"white\",\"ticks\":\"\"},\"bgcolor\":\"#E5ECF6\",\"radialaxis\":{\"gridcolor\":\"white\",\"linecolor\":\"white\",\"ticks\":\"\"}},\"scene\":{\"xaxis\":{\"backgroundcolor\":\"#E5ECF6\",\"gridcolor\":\"white\",\"gridwidth\":2,\"linecolor\":\"white\",\"showbackground\":true,\"ticks\":\"\",\"zerolinecolor\":\"white\"},\"yaxis\":{\"backgroundcolor\":\"#E5ECF6\",\"gridcolor\":\"white\",\"gridwidth\":2,\"linecolor\":\"white\",\"showbackground\":true,\"ticks\":\"\",\"zerolinecolor\":\"white\"},\"zaxis\":{\"backgroundcolor\":\"#E5ECF6\",\"gridcolor\":\"white\",\"gridwidth\":2,\"linecolor\":\"white\",\"showbackground\":true,\"ticks\":\"\",\"zerolinecolor\":\"white\"}},\"shapedefaults\":{\"line\":{\"color\":\"#2a3f5f\"}},\"ternary\":{\"aaxis\":{\"gridcolor\":\"white\",\"linecolor\":\"white\",\"ticks\":\"\"},\"baxis\":{\"gridcolor\":\"white\",\"linecolor\":\"white\",\"ticks\":\"\"},\"bgcolor\":\"#E5ECF6\",\"caxis\":{\"gridcolor\":\"white\",\"linecolor\":\"white\",\"ticks\":\"\"}},\"title\":{\"x\":0.05},\"xaxis\":{\"automargin\":true,\"gridcolor\":\"white\",\"linecolor\":\"white\",\"ticks\":\"\",\"title\":{\"standoff\":15},\"zerolinecolor\":\"white\",\"zerolinewidth\":2},\"yaxis\":{\"automargin\":true,\"gridcolor\":\"white\",\"linecolor\":\"white\",\"ticks\":\"\",\"title\":{\"standoff\":15},\"zerolinecolor\":\"white\",\"zerolinewidth\":2}}},\"xaxis\":{\"anchor\":\"y\",\"domain\":[0.0,1.0],\"title\":{\"text\":\"Charging Instances\"}},\"yaxis\":{\"anchor\":\"x\",\"domain\":[0.0,1.0],\"title\":{\"text\":\"Energy Consumed (KWH)\"}},\"legend\":{\"tracegroupgap\":0},\"title\":{\"text\":\"Power Consumed in KWH for EV Charging\"}},                        {\"responsive\": true}                    ).then(function(){\n",
              "                            \n",
              "var gd = document.getElementById('72dae38c-542b-4a50-8d5c-f1dc38f7040b');\n",
              "var x = new MutationObserver(function (mutations, observer) {{\n",
              "        var display = window.getComputedStyle(gd).display;\n",
              "        if (!display || display === 'none') {{\n",
              "            console.log([gd, 'removed!']);\n",
              "            Plotly.purge(gd);\n",
              "            observer.disconnect();\n",
              "        }}\n",
              "}});\n",
              "\n",
              "// Listen for the removal of the full notebook cells\n",
              "var notebookContainer = gd.closest('#notebook-container');\n",
              "if (notebookContainer) {{\n",
              "    x.observe(notebookContainer, {childList: true});\n",
              "}}\n",
              "\n",
              "// Listen for the clearing of the current output cell\n",
              "var outputEl = gd.closest('.output');\n",
              "if (outputEl) {{\n",
              "    x.observe(outputEl, {childList: true});\n",
              "}}\n",
              "\n",
              "                        })                };                            </script>        </div>\n",
              "</body>\n",
              "</html>"
            ]
          },
          "metadata": {}
        },
        {
          "output_type": "stream",
          "name": "stdout",
          "text": [
            "Average power consumed: 5.809628865979382 kwh\n",
            "Average power consumed: 5.8096 kwh\n"
          ]
        }
      ]
    },
    {
      "cell_type": "code",
      "source": [
        "plot = px.line(ds,x=\"Event\",y=\"chargeTimeHrs\",labels={\"Event\" : \"Charging Instances\", \"chargeTimeHrs\" : \"Number of Hours\"}, title='Time Consumed in Hours for EV Charging')\n",
        "plot.show()\n",
        "#placeholder defined by curly brackets\n",
        "#.format formats specific value and place it inside placeholder\n",
        "print(\"Average charging time: {} hours\".format(ds[\"chargeTimeHrs\"].mean())) #.mean calculates average of a given list of numbers\n",
        "\n",
        "print('{0} {1}: {2} {3}'.format('Average','charging time',2.84,'hrs'))"
      ],
      "metadata": {
        "colab": {
          "base_uri": "https://localhost:8080/",
          "height": 578
        },
        "id": "82jhTYum20OM",
        "outputId": "a1045851-ab3d-4600-c4e4-975157a9146e"
      },
      "execution_count": null,
      "outputs": [
        {
          "output_type": "display_data",
          "data": {
            "text/html": [
              "<html>\n",
              "<head><meta charset=\"utf-8\" /></head>\n",
              "<body>\n",
              "    <div>            <script src=\"https://cdnjs.cloudflare.com/ajax/libs/mathjax/2.7.5/MathJax.js?config=TeX-AMS-MML_SVG\"></script><script type=\"text/javascript\">if (window.MathJax) {MathJax.Hub.Config({SVG: {font: \"STIX-Web\"}});}</script>                <script type=\"text/javascript\">window.PlotlyConfig = {MathJaxConfig: 'local'};</script>\n",
              "        <script src=\"https://cdn.plot.ly/plotly-2.8.3.min.js\"></script>                <div id=\"15667ac6-c164-449c-bb40-d0921bfb1459\" class=\"plotly-graph-div\" style=\"height:525px; width:100%;\"></div>            <script type=\"text/javascript\">                                    window.PLOTLYENV=window.PLOTLYENV || {};                                    if (document.getElementById(\"15667ac6-c164-449c-bb40-d0921bfb1459\")) {                    Plotly.newPlot(                        \"15667ac6-c164-449c-bb40-d0921bfb1459\",                        [{\"hovertemplate\":\"Charging Instances=%{x}<br>Number of Hours=%{y}<extra></extra>\",\"legendgroup\":\"\",\"line\":{\"color\":\"#636efa\",\"dash\":\"solid\"},\"marker\":{\"symbol\":\"circle\"},\"mode\":\"lines\",\"name\":\"\",\"showlegend\":false,\"x\":[0,1,2,3,4,5,6,7,8,9,10,11,12,13,14,15,16,17,18,19,20,21,22,23,24,25,26,27,28,29,30,31,32,33,34,35,36,37,38,39,40,41,42,43,44,45,46,47,48,49,50,51,52,53,54,55,56,57,58,59,60,61,62,63,64,65,66,67,68,69,70,71,72,73,74,75,76,77,78,79,80,81,82,83,84,85,86,87,88,89,90,91,92,93,94,95,96,97,98,99,100,101,102,103,104,105,106,107,108,109,110,111,112,113,114,115,116,117,118,119,120,121,122,123,124,125,126,127,128,129,130,131,132,133,134,135,136,137,138,139,140,141,142,143,144,145,146,147,148,149,150,151,152,153,154,155,156,157,158,159,160,161,162,163,164,165,166,167,168,169,170,171,172,173,174,175,176,177,178,179,180,181,182,183,184,185,186,187,188,189,190,191,192,193,194,195,196,197,198,199,200,201,202,203,204,205,206,207,208,209,210,211,212,213,214,215,216,217,218,219,220,221,222,223,224,225,226,227,228,229,230,231,232,233,234,235,236,237,238,239,240,241,242,243,244,245,246,247,248,249,250,251,252,253,254,255,256,257,258,259,260,261,262,263,264,265,266,267,268,269,270,271,272,273,274,275,276,277,278,279,280,281,282,283,284,285,286,287,288,289,290,291,292,293,294,295,296,297,298,299,300,301,302,303,304,305,306,307,308,309,310,311,312,313,314,315,316,317,318,319,320,321,322,323,324,325,326,327,328,329,330,331,332,333,334,335,336,337,338,339,340,341,342,343,344,345,346,347,348,349,350,351,352,353,354,355,356,357,358,359,360,361,362,363,364,365,366,367,368,369,370,371,372,373,374,375,376,377,378,379,380,381,382,383,384,385,386,387,388,389,390,391,392,393,394,395,396,397,398,399,400,401,402,403,404,405,406,407,408,409,410,411,412,413,414,415,416,417,418,419,420,421,422,423,424,425,426,427,428,429,430,431,432,433,434,435,436,437,438,439,440,441,442,443,444,445,446,447,448,449,450,451,452,453,454,455,456,457,458,459,460,461,462,463,464,465,466,467,468,469,470,471,472,473,474,475,476,477,478,479,480,481,482,483,484,485,486,487,488,489,490,491,492,493,494,495,496,497,498,499,500,501,502,503,504,505,506,507,508,509,510,511,512,513,514,515,516,517,518,519,520,521,522,523,524,525,526,527,528,529,530,531,532,533,534,535,536,537,538,539,540,541,542,543,544,545,546,547,548,549,550,551,552,553,554,555,556,557,558,559,560,561,562,563,564,565,566,567,568,569,570,571,572,573,574,575,576,577,578,579,580,581,582,583,584,585,586,587,588,589,590,591,592,593,594,595,596,597,598,599,600,601,602,603,604,605,606,607,608,609,610,611,612,613,614,615,616,617,618,619,620,621,622,623,624,625,626,627,628,629,630,631,632,633,634,635,636,637,638,639,640,641,642,643,644,645,646,647,648,649,650,651,652,653,654,655,656,657,658,659,660,661,662,663,664,665,666,667,668,669,670,671,672,673,674,675,676,677,678,679,680,681,682,683,684,685,686,687,688,689,690,691,692,693,694,695,696,697,698,699,700,701,702,703,704,705,706,707,708,709,710,711,712,713,714,715,716,717,718,719,720,721,722,723,724,725,726,727,728,729,730,731,732,733,734,735,736,737,738,739,740,741,742,743,744,745,746,747,748,749,750,751,752,753,754,755,756,757,758,759,760,761,762,763,764,765,766,767,768,769,770,771,772,773,774,775,776,777,778,779,780,781,782,783,784,785,786,787,788,789,790,791,792,793,794,795,796,797,798,799,800,801,802,803,804,805,806,807,808,809,810,811,812,813,814,815,816,817,818,819,820,821,822,823,824,825,826,827,828,829,830,831,832,833,834,835,836,837,838,839,840,841,842,843,844,845,846,847,848,849,850,851,852,853,854,855,856,857,858,859,860,861,862,863,864,865,866,867,868,869,870,871,872,873,874,875,876,877,878,879,880,881,882,883,884,885,886,887,888,889,890,891,892,893,894,895,896,897,898,899,900,901,902,903,904,905,906,907,908,909,910,911,912,913,914,915,916,917,918,919,920,921,922,923,924,925,926,927,928,929,930,931,932,933,934,935,936,937,938,939,940,941,942,943,944,945,946,947,948,949,950,951,952,953,954,955,956,957,958,959,960,961,962,963,964,965,966,967,968,969,970,971,972,973,974,975,976,977,978,979,980,981,982,983,984,985,986,987,988,989,990,991,992,993,994,995,996,997,998,999,1000,1001,1002,1003,1004,1005,1006,1007,1008,1009,1010,1011,1012,1013,1014,1015,1016,1017,1018,1019,1020,1021,1022,1023,1024,1025,1026,1027,1028,1029,1030,1031,1032,1033,1034,1035,1036,1037,1038,1039,1040,1041,1042,1043,1044,1045,1046,1047,1048,1049,1050,1051,1052,1053,1054,1055,1056,1057,1058,1059,1060,1061,1062,1063,1064,1065,1066,1067,1068,1069,1070,1071,1072,1073,1074,1075,1076,1077,1078,1079,1080,1081,1082,1083,1084,1085,1086,1087,1088,1089,1090,1091,1092,1093,1094,1095,1096,1097,1098,1099,1100,1101,1102,1103,1104,1105,1106,1107,1108,1109,1110,1111,1112,1113,1114,1115,1116,1117,1118,1119,1120,1121,1122,1123,1124,1125,1126,1127,1128,1129,1130,1131,1132,1133,1134,1135,1136,1137,1138,1139,1140,1141,1142,1143,1144,1145,1146,1147,1148,1149,1150,1151,1152,1153,1154,1155,1156,1157,1158,1159,1160,1161,1162,1163,1164,1165,1166,1167,1168,1169,1170,1171,1172,1173,1174,1175,1176,1177,1178,1179,1180,1181,1182,1183,1184,1185,1186,1187,1188,1189,1190,1191,1192,1193,1194,1195,1196,1197,1198,1199,1200,1201,1202,1203,1204,1205,1206,1207,1208,1209,1210,1211,1212,1213,1214,1215,1216,1217,1218,1219,1220,1221,1222,1223,1224,1225,1226,1227,1228,1229,1230,1231,1232,1233,1234,1235,1236,1237,1238,1239,1240,1241,1242,1243,1244,1245,1246,1247,1248,1249,1250,1251,1252,1253,1254,1255,1256,1257,1258,1259,1260,1261,1262,1263,1264,1265,1266,1267,1268,1269,1270,1271,1272,1273,1274,1275,1276,1277,1278,1279,1280,1281,1282,1283,1284,1285,1286,1287,1288,1289,1290,1291,1292,1293,1294,1295,1296,1297,1298,1299,1300,1301,1302,1303,1304,1305,1306,1307,1308,1309,1310,1311,1312,1313,1314,1315,1316,1317,1318,1319,1320,1321,1322,1323,1324,1325,1326,1327,1328,1329,1330,1331,1332,1333,1334,1335,1336,1337,1338,1339,1340,1341,1342,1343,1344,1345,1346,1347,1348,1349,1350,1351,1352,1353,1354,1355,1356,1357,1358,1359,1360,1361,1362,1363,1364,1365,1366,1367,1368,1369,1370,1371,1372,1373,1374,1375,1376,1377,1378,1379,1380,1381,1382,1383,1384,1385,1386,1387,1388,1389,1390,1391,1392,1393,1394,1395,1396,1397,1398,1399,1400,1401,1402,1403,1404,1405,1406,1407,1408,1409,1410,1411,1412,1413,1414,1415,1416,1417,1418,1419,1420,1421,1422,1423,1424,1425,1426,1427,1428,1429,1430,1431,1432,1433,1434,1435,1436,1437,1438,1439,1440,1441,1442,1443,1444,1445,1446,1447,1448,1449,1450,1451,1452,1453,1454,1455,1456,1457,1458,1459,1460,1461,1462,1463,1464,1465,1466,1467,1468,1469,1470,1471,1472,1473,1474,1475,1476,1477,1478,1479,1480,1481,1482,1483,1484,1485,1486,1487,1488,1489,1490,1491,1492,1493,1494,1495,1496,1497,1498,1499,1500,1501,1502,1503,1504,1505,1506,1507,1508,1509,1510,1511,1512,1513,1514,1515,1516,1517,1518,1519,1520,1521,1522,1523,1524,1525,1526,1527,1528,1529,1530,1531,1532,1533,1534,1535,1536,1537,1538,1539,1540,1541,1542,1543,1544,1545,1546,1547,1548,1549,1550,1551,1552,1553,1554,1555,1556,1557,1558,1559,1560,1561,1562,1563,1564,1565,1566,1567,1568,1569,1570,1571,1572,1573,1574,1575,1576,1577,1578,1579,1580,1581,1582,1583,1584,1585,1586,1587,1588,1589,1590,1591,1592,1593,1594,1595,1596,1597,1598,1599,1600,1601,1602,1603,1604,1605,1606,1607,1608,1609,1610,1611,1612,1613,1614,1615,1616,1617,1618,1619,1620,1621,1622,1623,1624,1625,1626,1627,1628,1629,1630,1631,1632,1633,1634,1635,1636,1637,1638,1639,1640,1641,1642,1643,1644,1645,1646,1647,1648,1649,1650,1651,1652,1653,1654,1655,1656,1657,1658,1659,1660,1661,1662,1663,1664,1665,1666,1667,1668,1669,1670,1671,1672,1673,1674,1675,1676,1677,1678,1679,1680,1681,1682,1683,1684,1685,1686,1687,1688,1689,1690,1691,1692,1693,1694,1695,1696,1697,1698,1699,1700,1701,1702,1703,1704,1705,1706,1707,1708,1709,1710,1711,1712,1713,1714,1715,1716,1717,1718,1719,1720,1721,1722,1723,1724,1725,1726,1727,1728,1729,1730,1731,1732,1733,1734,1735,1736,1737,1738,1739,1740,1741,1742,1743,1744,1745,1746,1747,1748,1749,1750,1751,1752,1753,1754,1755,1756,1757,1758,1759,1760,1761,1762,1763,1764,1765,1766,1767,1768,1769,1770,1771,1772,1773,1774,1775,1776,1777,1778,1779,1780,1781,1782,1783,1784,1785,1786,1787,1788,1789,1790,1791,1792,1793,1794,1795,1796,1797,1798,1799,1800,1801,1802,1803,1804,1805,1806,1807,1808,1809,1810,1811,1812,1813,1814,1815,1816,1817,1818,1819,1820,1821,1822,1823,1824,1825,1826,1827,1828,1829,1830,1831,1832,1833,1834,1835,1836,1837,1838,1839,1840,1841,1842,1843,1844,1845,1846,1847,1848,1849,1850,1851,1852,1853,1854,1855,1856,1857,1858,1859,1860,1861,1862,1863,1864,1865,1866,1867,1868,1869,1870,1871,1872,1873,1874,1875,1876,1877,1878,1879,1880,1881,1882,1883,1884,1885,1886,1887,1888,1889,1890,1891,1892,1893,1894,1895,1896,1897,1898,1899,1900,1901,1902,1903,1904,1905,1906,1907,1908,1909,1910,1911,1912,1913,1914,1915,1916,1917,1918,1919,1920,1921,1922,1923,1924,1925,1926,1927,1928,1929,1930,1931,1932,1933,1934,1935,1936,1937,1938,1939,1940,1941,1942,1943,1944,1945,1946,1947,1948,1949,1950,1951,1952,1953,1954,1955,1956,1957,1958,1959,1960,1961,1962,1963,1964,1965,1966,1967,1968,1969,1970,1971,1972,1973,1974,1975,1976,1977,1978,1979,1980,1981,1982,1983,1984,1985,1986,1987,1988,1989,1990,1991,1992,1993,1994,1995,1996,1997,1998,1999,2000,2001,2002,2003,2004,2005,2006,2007,2008,2009,2010,2011,2012,2013,2014,2015,2016,2017,2018,2019,2020,2021,2022,2023,2024,2025,2026,2027,2028,2029,2030,2031,2032,2033,2034,2035,2036,2037,2038,2039,2040,2041,2042,2043,2044,2045,2046,2047,2048,2049,2050,2051,2052,2053,2054,2055,2056,2057,2058,2059,2060,2061,2062,2063,2064,2065,2066,2067,2068,2069,2070,2071,2072,2073,2074,2075,2076,2077,2078,2079,2080,2081,2082,2083,2084,2085,2086,2087,2088,2089,2090,2091,2092,2093,2094,2095,2096,2097,2098,2099,2100,2101,2102,2103,2104,2105,2106,2107,2108,2109,2110,2111,2112,2113,2114,2115,2116,2117,2118,2119,2120,2121,2122,2123,2124,2125,2126,2127,2128,2129,2130,2131,2132,2133,2134,2135,2136,2137,2138,2139,2140,2141,2142,2143,2144,2145,2146,2147,2148,2149,2150,2151,2152,2153,2154,2155,2156,2157,2158,2159,2160,2161,2162,2163,2164,2165,2166,2167,2168,2169,2170,2171,2172,2173,2174,2175,2176,2177,2178,2179,2180,2181,2182,2183,2184,2185,2186,2187,2188,2189,2190,2191,2192,2193,2194,2195,2196,2197,2198,2199,2200,2201,2202,2203,2204,2205,2206,2207,2208,2209,2210,2211,2212,2213,2214,2215,2216,2217,2218,2219,2220,2221,2222,2223,2224,2225,2226,2227,2228,2229,2230,2231,2232,2233,2234,2235,2236,2237,2238,2239,2240,2241,2242,2243,2244,2245,2246,2247,2248,2249,2250,2251,2252,2253,2254,2255,2256,2257,2258,2259,2260,2261,2262,2263,2264,2265,2266,2267,2268,2269,2270,2271,2272,2273,2274,2275,2276,2277,2278,2279,2280,2281,2282,2283,2284,2285,2286,2287,2288,2289,2290,2291,2292,2293,2294,2295,2296,2297,2298,2299,2300,2301,2302,2303,2304,2305,2306,2307,2308,2309,2310,2311,2312,2313,2314,2315,2316,2317,2318,2319,2320,2321,2322,2323,2324,2325,2326,2327,2328,2329,2330,2331,2332,2333,2334,2335,2336,2337,2338,2339,2340,2341,2342,2343,2344,2345,2346,2347,2348,2349,2350,2351,2352,2353,2354,2355,2356,2357,2358,2359,2360,2361,2362,2363,2364,2365,2366,2367,2368,2369,2370,2371,2372,2373,2374,2375,2376,2377,2378,2379,2380,2381,2382,2383,2384,2385,2386,2387,2388,2389,2390,2391,2392,2393,2394,2395,2396,2397,2398,2399,2400,2401,2402,2403,2404,2405,2406,2407,2408,2409,2410,2411,2412,2413,2414,2415,2416,2417,2418,2419,2420,2421,2422,2423,2424,2425,2426,2427,2428,2429,2430,2431,2432,2433,2434,2435,2436,2437,2438,2439,2440,2441,2442,2443,2444,2445,2446,2447,2448,2449,2450,2451,2452,2453,2454,2455,2456,2457,2458,2459,2460,2461,2462,2463,2464,2465,2466,2467,2468,2469,2470,2471,2472,2473,2474,2475,2476,2477,2478,2479,2480,2481,2482,2483,2484,2485,2486,2487,2488,2489,2490,2491,2492,2493,2494,2495,2496,2497,2498,2499,2500,2501,2502,2503,2504,2505,2506,2507,2508,2509,2510,2511,2512,2513,2514,2515,2516,2517,2518,2519,2520,2521,2522,2523,2524,2525,2526,2527,2528,2529,2530,2531,2532,2533,2534,2535,2536,2537,2538,2539,2540,2541,2542,2543,2544,2545,2546,2547,2548,2549,2550,2551,2552,2553,2554,2555,2556,2557,2558,2559,2560,2561,2562,2563,2564,2565,2566,2567,2568,2569,2570,2571,2572,2573,2574,2575,2576,2577,2578,2579,2580,2581,2582,2583,2584,2585,2586,2587,2588,2589,2590,2591,2592,2593,2594,2595,2596,2597,2598,2599,2600,2601,2602,2603,2604,2605,2606,2607,2608,2609,2610,2611,2612,2613,2614,2615,2616,2617,2618,2619,2620,2621,2622,2623,2624,2625,2626,2627,2628,2629,2630,2631,2632,2633,2634,2635,2636,2637,2638,2639,2640,2641,2642,2643,2644,2645,2646,2647,2648,2649,2650,2651,2652,2653,2654,2655,2656,2657,2658,2659,2660,2661,2662,2663,2664,2665,2666,2667,2668,2669,2670,2671,2672,2673,2674,2675,2676,2677,2678,2679,2680,2681,2682,2683,2684,2685,2686,2687,2688,2689,2690,2691,2692,2693,2694,2695,2696,2697,2698,2699,2700,2701,2702,2703,2704,2705,2706,2707,2708,2709,2710,2711,2712,2713,2714,2715,2716,2717,2718,2719,2720,2721,2722,2723,2724,2725,2726,2727,2728,2729,2730,2731,2732,2733,2734,2735,2736,2737,2738,2739,2740,2741,2742,2743,2744,2745,2746,2747,2748,2749,2750,2751,2752,2753,2754,2755,2756,2757,2758,2759,2760,2761,2762,2763,2764,2765,2766,2767,2768,2769,2770,2771,2772,2773,2774,2775,2776,2777,2778,2779,2780,2781,2782,2783,2784,2785,2786,2787,2788,2789,2790,2791,2792,2793,2794,2795,2796,2797,2798,2799,2800,2801,2802,2803,2804,2805,2806,2807,2808,2809,2810,2811,2812,2813,2814,2815,2816,2817,2818,2819,2820,2821,2822,2823,2824,2825,2826,2827,2828,2829,2830,2831,2832,2833,2834,2835,2836,2837,2838,2839,2840,2841,2842,2843,2844,2845,2846,2847,2848,2849,2850,2851,2852,2853,2854,2855,2856,2857,2858,2859,2860,2861,2862,2863,2864,2865,2866,2867,2868,2869,2870,2871,2872,2873,2874,2875,2876,2877,2878,2879,2880,2881,2882,2883,2884,2885,2886,2887,2888,2889,2890,2891,2892,2893,2894,2895,2896,2897,2898,2899,2900,2901,2902,2903,2904,2905,2906,2907,2908,2909,2910,2911,2912,2913,2914,2915,2916,2917,2918,2919,2920,2921,2922,2923,2924,2925,2926,2927,2928,2929,2930,2931,2932,2933,2934,2935,2936,2937,2938,2939,2940,2941,2942,2943,2944,2945,2946,2947,2948,2949,2950,2951,2952,2953,2954,2955,2956,2957,2958,2959,2960,2961,2962,2963,2964,2965,2966,2967,2968,2969,2970,2971,2972,2973,2974,2975,2976,2977,2978,2979,2980,2981,2982,2983,2984,2985,2986,2987,2988,2989,2990,2991,2992,2993,2994,2995,2996,2997,2998,2999,3000,3001,3002,3003,3004,3005,3006,3007,3008,3009,3010,3011,3012,3013,3014,3015,3016,3017,3018,3019,3020,3021,3022,3023,3024,3025,3026,3027,3028,3029,3030,3031,3032,3033,3034,3035,3036,3037,3038,3039,3040,3041,3042,3043,3044,3045,3046,3047,3048,3049,3050,3051,3052,3053,3054,3055,3056,3057,3058,3059,3060,3061,3062,3063,3064,3065,3066,3067,3068,3069,3070,3071,3072,3073,3074,3075,3076,3077,3078,3079,3080,3081,3082,3083,3084,3085,3086,3087,3088,3089,3090,3091,3092,3093,3094,3095,3096,3097,3098,3099,3100,3101,3102,3103,3104,3105,3106,3107,3108,3109,3110,3111,3112,3113,3114,3115,3116,3117,3118,3119,3120,3121,3122,3123,3124,3125,3126,3127,3128,3129,3130,3131,3132,3133,3134,3135,3136,3137,3138,3139,3140,3141,3142,3143,3144,3145,3146,3147,3148,3149,3150,3151,3152,3153,3154,3155,3156,3157,3158,3159,3160,3161,3162,3163,3164,3165,3166,3167,3168,3169,3170,3171,3172,3173,3174,3175,3176,3177,3178,3179,3180,3181,3182,3183,3184,3185,3186,3187,3188,3189,3190,3191,3192,3193,3194,3195,3196,3197,3198,3199,3200,3201,3202,3203,3204,3205,3206,3207,3208,3209,3210,3211,3212,3213,3214,3215,3216,3217,3218,3219,3220,3221,3222,3223,3224,3225,3226,3227,3228,3229,3230,3231,3232,3233,3234,3235,3236,3237,3238,3239,3240,3241,3242,3243,3244,3245,3246,3247,3248,3249,3250,3251,3252,3253,3254,3255,3256,3257,3258,3259,3260,3261,3262,3263,3264,3265,3266,3267,3268,3269,3270,3271,3272,3273,3274,3275,3276,3277,3278,3279,3280,3281,3282,3283,3284,3285,3286,3287,3288,3289,3290,3291,3292,3293,3294,3295,3296,3297,3298,3299,3300,3301,3302,3303,3304,3305,3306,3307,3308,3309,3310,3311,3312,3313,3314,3315,3316,3317,3318,3319,3320,3321,3322,3323,3324,3325,3326,3327,3328,3329,3330,3331,3332,3333,3334,3335,3336,3337,3338,3339,3340,3341,3342,3343,3344,3345,3346,3347,3348,3349,3350,3351,3352,3353,3354,3355,3356,3357,3358,3359,3360,3361,3362,3363,3364,3365,3366,3367,3368,3369,3370,3371,3372,3373,3374,3375,3376,3377,3378,3379,3380,3381,3382,3383,3384,3385,3386,3387,3388,3389,3390,3391,3392,3393,3394],\"xaxis\":\"x\",\"y\":[1.510555556,2.177222222,4.671666667,1.768333333,0.298611111,0.422222222,0.64,1.010833333,0.179166667,0.387777778,2.419444444,0.690833333,3.019444444,0.365,4.141111111,1.658055556,2.157222222,2.294166667,0.841944444,0.032222222,2.134166667,2.886111111,2.436944444,1.505555556,3.114722222,0.595833333,3.658333333,3.460555556,3.543611111,0.709722222,4.953055556,0.3475,2.161111111,1.487222222,1.998333333,3.685555556,3.028055556,3.803333333,3.755833333,3.053888889,3.315555556,0.033333333,1.914722222,1.405555556,1.151666667,0.885277778,0.367222222,1.527222222,2.549722222,1.074722222,1.247222222,0.241111111,1.03,0.021111111,2.934722222,1.651111111,2.568611111,0.828611111,2.320833333,4.082222222,1.961388889,3.696111111,3.531388889,3.363333333,4.147222222,0.998055556,2.003888889,3.470555556,2.311944444,3.3375,2.395555556,2.971111111,1.894444444,2.801666667,0.8025,3.964444444,3.0975,0.865277778,3.610555556,3.551666667,3.708333333,2.093055556,2.681388889,3.776388889,4.437777778,3.643055556,0.891388889,1.646388889,3.39,3.046388889,1.538333333,3.69,0.313611111,3.231388889,1.932777778,2.981388889,0.208888889,3.185277778,2.426111111,3.805,3.613333333,4.049444444,3.788888889,2.585,2.127777778,2.473611111,3.652777778,2.544444444,3.805277778,1.244722222,2.551944444,2.144722222,3.881388889,2.665833333,1.468333333,0.263611111,3.771666667,3.986944444,2.526388889,2.178888889,3.727222222,2.335277778,1.356388889,2.771666667,3.498055556,3.431388889,2.575555556,3.980555556,3.440555556,3.618611111,4.056944444,3.983611111,0.401388889,0.989444444,2.571944444,3.592777778,3.5325,3.805555556,3.796388889,3.208333333,3.293888889,3.680555556,3.47,2.751388889,1.890555556,2.881111111,3.178055556,1.846111111,0.578333333,1.311666667,3.406666667,2.088611111,3.940555556,3.983611111,2.016388889,3.966666667,3.018055556,3.591944444,3.461944444,3.081111111,2.894444444,4.144166667,3.543055556,3.320833333,0.527777778,2.434444444,2.0,0.652222222,1.426666667,2.291666667,3.619722222,2.4475,4.057222222,55.23805556,5.545,2.406111111,3.414166667,4.266388889,2.507222222,2.394166667,3.575555556,3.900833333,2.901388889,3.258055556,5.142222222,3.090555556,5.278333333,5.3325,3.495833333,0.305,5.699166667,0.810277778,0.040555556,2.731388889,1.373333333,0.936388889,3.309722222,2.709444444,0.056666667,1.434722222,2.24,4.051388889,2.312777778,4.7025,2.935555556,2.595833333,2.603611111,0.909722222,3.215555556,4.683055556,2.453888889,1.936388889,2.533611111,6.431666667,4.811944444,4.633055556,2.559722222,4.770277778,4.715833333,5.851111111,4.843888889,2.830555556,2.034166667,2.717777778,1.362222222,3.228333333,2.2925,1.211944444,2.484722222,1.769444444,2.128888889,4.105833333,3.878611111,1.894444444,3.225277778,2.274166667,5.021666667,3.684722222,4.394444444,4.247777778,4.000277778,3.31,5.597222222,4.304722222,5.718055556,4.476111111,4.751388889,3.080277778,5.924722222,4.701111111,1.624166667,2.371666667,2.741111111,3.410277778,2.7825,2.897222222,1.059722222,4.961111111,2.707777778,2.993055556,2.743888889,2.7125,3.136388889,1.789722222,4.828888889,2.511111111,4.941111111,0.655833333,2.920833333,1.952777778,1.155,3.046944444,1.075277778,3.077222222,6.0525,2.746111111,5.501944444,2.830833333,0.873055556,1.47,3.604444444,3.078611111,4.66,1.292222222,1.91,1.765277778,2.613611111,1.903888889,0.729444444,1.638611111,1.700555556,5.408611111,5.258333333,8.659722222,1.871666667,0.761388889,2.421944444,1.247222222,0.738611111,5.046666667,2.330277778,4.665,2.253611111,8.845555556,2.864444444,4.438888889,4.811111111,4.861666667,2.780833333,4.065277778,2.813333333,1.227222222,2.474166667,4.397222222,1.321666667,3.918055556,3.180555556,2.872222222,2.936388889,2.235,2.1575,2.252777778,3.877777778,1.411388889,0.351666667,2.429166667,2.298333333,3.634166667,3.629444444,1.245555556,3.039444444,2.763888889,1.846666667,2.365277778,1.611944444,3.851944444,3.658611111,3.189166667,3.894722222,2.954166667,3.472222222,2.911111111,6.602777778,3.413055556,3.140277778,2.455277778,2.483055556,2.245833333,4.738333333,3.580277778,3.724444444,3.179722222,3.830277778,2.188611111,3.791944444,1.1,2.905833333,0.645555556,7.072777778,2.506388889,1.878333333,1.822222222,2.358611111,1.533333333,1.463611111,2.867777778,0.970277778,1.301388889,3.6975,1.576944444,0.726111111,1.379166667,2.029722222,1.219166667,1.149444444,1.431111111,1.1925,1.511666667,1.207222222,0.014722222,0.024722222,1.439722222,0.881111111,1.141666667,0.481388889,1.188055556,0.803888889,1.213055556,0.832777778,0.791111111,2.345833333,2.854444444,2.728055556,2.680555556,2.867222222,2.863055556,2.180555556,2.927777778,2.958055556,3.407222222,4.591388889,3.650555556,3.285,3.314166667,3.2075,3.704166667,4.896944444,3.515555556,2.901666667,2.910555556,1.681944444,4.260277778,3.617222222,4.618888889,3.319722222,3.069166667,3.272222222,3.139166667,3.595833333,3.493888889,4.517222222,3.234444444,3.895277778,3.236944444,3.220277778,3.965,3.01,2.895,3.689722222,3.354166667,3.279166667,3.099722222,2.601388889,2.737777778,3.648888889,2.873888889,3.420833333,3.838611111,3.48,3.309722222,3.531388889,3.732222222,3.286944444,3.454444444,3.896666667,3.061944444,3.445,3.0725,3.429722222,3.493333333,3.949166667,3.036944444,3.5025,4.174444444,2.351666667,3.669166667,2.051666667,2.265,2.755833333,2.459166667,3.181388889,2.946111111,2.3525,4.2075,2.503055556,3.225555556,2.775555556,3.193611111,3.411944444,2.620555556,4.318888889,3.826388889,3.128611111,3.520833333,2.580833333,2.627222222,2.714444444,3.173333333,2.823055556,3.058055556,6.293888889,3.2575,3.793888889,3.0,3.269722222,3.428055556,3.113611111,2.631111111,2.958333333,3.289722222,3.370833333,3.436944444,2.9725,2.588888889,3.293611111,2.821111111,3.196388889,3.213055556,3.121944444,3.106111111,2.744166667,3.116111111,0.023611111,2.773055556,2.519444444,2.266388889,3.949444444,2.970833333,3.054166667,1.276944444,3.08,3.008888889,4.410833333,1.214166667,3.173055556,1.2125,2.598888889,3.685833333,2.4575,2.638333333,2.391944444,2.842777778,3.431388889,1.919166667,3.218888889,3.513333333,2.293055556,3.582777778,4.781111111,2.293055556,2.92,2.523333333,3.26,0.545555556,3.058055556,2.862222222,3.098055556,2.934444444,2.289444444,3.748333333,3.667777778,3.333611111,2.931944444,4.673888889,5.415277778,2.720833333,4.4975,3.421111111,3.317222222,0.605,6.463333333,2.47,2.219166667,0.132222222,3.728055556,2.428888889,3.765555556,3.365833333,0.279722222,3.5675,3.140555556,4.368611111,2.856666667,3.006111111,2.245555556,4.392777778,2.6375,7.213333333,5.5075,2.973888889,3.431388889,2.790555556,2.506944444,4.265555556,2.51,2.238055556,0.138888889,3.162222222,1.676388889,3.72,0.315555556,2.171111111,4.432222222,2.231944444,4.375277778,0.32,2.094722222,4.323888889,2.326388889,3.35,3.008611111,3.786111111,2.310555556,3.308333333,2.093888889,1.880555556,2.305277778,2.568611111,1.884722222,2.592777778,2.843055556,3.068333333,1.268611111,3.179166667,2.397222222,3.216944444,3.392777778,2.613333333,2.703611111,0.994722222,2.461388889,2.688055556,4.044166667,2.7425,1.262222222,2.126388889,4.34,3.733333333,2.401111111,1.919722222,1.543611111,1.676666667,0.019722222,2.934444444,0.020277778,0.025833333,0.018055556,1.201388889,2.7475,2.531944444,3.943055556,2.48,2.543611111,4.382777778,2.399444444,1.748333333,3.815833333,2.778888889,3.639444444,2.466111111,2.350277778,2.984166667,4.514722222,2.262222222,2.457777778,3.657222222,2.118055556,2.423888889,3.213333333,4.914444444,4.021388889,3.008333333,1.926944444,4.004722222,4.363888889,2.778055556,3.513055556,1.348611111,2.070833333,2.962222222,3.572777778,1.938888889,3.435555556,3.677222222,2.606388889,3.831666667,5.701388889,5.548333333,1.960833333,3.421666667,1.785277778,0.486111111,1.218333333,1.252777778,4.183055556,3.247222222,3.521111111,2.253055556,4.251388889,2.795555556,2.914444444,4.065833333,2.218888889,3.825555556,4.021666667,4.011666667,4.313055556,4.568611111,4.520555556,2.109166667,2.366666667,3.814444444,2.719722222,5.476944444,1.988055556,3.770833333,4.262222222,2.289444444,3.146944444,5.807777778,4.101388889,5.520555556,1.379444444,2.059444444,3.265833333,2.850833333,1.070277778,3.394166667,3.538611111,4.115277778,1.418611111,1.235833333,1.163611111,5.095555556,3.1525,3.062777778,2.3625,1.923333333,2.426944444,2.348333333,2.341944444,2.809722222,3.543888889,1.621111111,0.043888889,0.025833333,1.169444444,2.096666667,3.336944444,3.4075,1.205,2.747777778,1.934444444,3.27,3.682777778,1.183055556,2.613888889,2.586944444,1.346944444,0.801666667,3.425833333,1.831666667,1.180277778,1.901111111,2.411666667,3.016666667,2.439444444,2.828611111,1.515555556,2.327222222,2.088888889,3.088888889,3.318055556,2.866944444,1.729722222,2.042222222,1.933055556,1.996111111,3.773888889,2.307222222,1.963888889,2.895833333,1.463333333,2.089444444,2.409444444,3.12,3.580555556,1.708333333,2.951944444,3.169444444,3.303333333,3.368611111,2.624444444,3.213888889,1.373611111,3.144166667,3.090833333,3.115,1.938055556,2.328611111,1.695833333,2.240833333,2.560833333,1.513611111,0.9225,1.325,2.0175,1.640833333,2.826666667,3.576388889,2.640555556,3.328333333,3.293333333,1.731388889,1.436944444,3.885833333,2.906111111,3.406111111,0.785833333,3.02,2.796111111,3.87,2.672777778,2.330833333,2.411111111,1.869722222,2.581388889,3.708055556,3.691666667,1.795277778,2.953333333,2.01,1.501111111,2.506388889,3.706666667,1.641944444,3.92,4.024166667,1.603611111,3.941944444,2.291388889,3.317777778,3.542777778,0.864722222,1.810555556,2.054166667,3.333333333,3.428888889,3.480277778,2.577777778,2.725555556,2.143055556,3.765,2.020833333,2.093055556,2.754722222,2.349444444,3.826944444,2.868333333,2.667777778,2.269444444,2.278055556,2.225277778,2.299444444,2.822777778,2.223055556,2.663611111,2.040833333,2.686111111,2.789166667,2.370833333,2.333333333,2.616388889,2.77,4.604444444,2.778888889,2.678888889,3.324722222,2.477777778,2.702222222,3.0975,2.166388889,0.635277778,2.668611111,0.521111111,4.125,3.814444444,3.421388889,1.671944444,3.167222222,1.691666667,2.765,1.3225,3.393055556,3.199722222,2.245555556,3.118888889,4.203055556,2.87,3.610277778,2.105555556,2.713888889,3.219444444,3.511388889,3.364722222,2.401388889,3.545277778,3.122222222,3.245555556,3.413888889,2.575277778,2.691666667,3.627222222,2.052222222,3.4125,3.216666667,1.506944444,3.28,1.885833333,2.947777778,0.240833333,0.707777778,1.670555556,4.018055556,3.051666667,1.295833333,3.291111111,3.391388889,5.844722222,2.627777778,1.553055556,2.849722222,1.631944444,3.358333333,3.205555556,2.997222222,2.842777778,2.313055556,1.134166667,3.206666667,2.531388889,3.671666667,1.688888889,1.523055556,2.701666667,2.780555556,1.977222222,3.666111111,2.636944444,1.163611111,3.975277778,3.766388889,2.835555556,1.999444444,3.883333333,2.953333333,1.257222222,3.021388889,1.012222222,1.784166667,3.604444444,3.205555556,2.108888889,3.482777778,3.016388889,3.786944444,0.8875,3.518333333,3.331111111,1.765833333,2.967777778,2.016111111,2.682777778,3.499722222,1.566666667,3.1625,3.224166667,0.928055556,1.974444444,0.711944444,3.911944444,1.146111111,4.485833333,0.983611111,3.236111111,3.4025,1.614166667,1.815,3.618611111,1.348888889,1.600555556,3.821388889,4.106666667,3.360277778,0.4925,3.918611111,1.634444444,2.013888889,1.215555556,3.844444444,3.307222222,4.148055556,4.700833333,0.178611111,3.680555556,2.519444444,2.166666667,8.268888889,0.169722222,3.043888889,1.970833333,4.171666667,2.474722222,2.604444444,2.161111111,3.963333333,3.037777778,3.770833333,3.221111111,2.856388889,1.746111111,2.591111111,4.351388889,1.856666667,3.450833333,3.158888889,3.1025,2.243888889,2.689722222,2.683611111,1.671944444,4.109722222,3.342777778,3.72,3.591666667,2.702222222,2.947222222,0.692222222,3.163611111,2.286666667,2.459722222,0.031388889,2.45,0.0175,2.401944444,2.313888889,1.939444444,2.206388889,2.06,2.344166667,3.334166667,2.593055556,3.903888889,3.643888889,1.493333333,2.765833333,3.306111111,2.605,2.936944444,2.6025,3.423055556,2.866111111,3.403333333,3.1325,2.628055556,0.663611111,3.835555556,2.313611111,2.301666667,2.498333333,3.082777778,3.351666667,2.0925,3.439722222,1.136111111,2.127777778,2.750555556,2.545,1.298611111,3.276111111,4.127222222,1.5975,2.085555556,2.815555556,3.36,2.064444444,2.6275,1.87,2.066666667,2.5,2.709722222,0.988611111,1.945833333,2.775555556,2.423333333,3.470555556,1.47,2.711111111,2.495555556,2.7475,3.395277778,1.811388889,0.800555556,0.568888889,3.970833333,1.245555556,3.927777778,4.207777778,4.533333333,3.533333333,3.969444444,1.776666667,4.688333333,2.814444444,3.966944444,3.139444444,3.952777778,3.328333333,2.755555556,2.928333333,4.045,3.168888889,3.971388889,4.866388889,3.722222222,3.490277778,3.6075,0.515,2.491111111,5.785,2.408055556,3.984166667,4.6275,3.6725,4.439166667,2.887222222,3.589444444,2.630277778,2.858333333,1.708333333,4.191944444,3.9375,3.537222222,3.461388889,3.5525,3.781388889,3.380555556,3.530555556,3.716111111,2.271944444,2.199166667,1.589722222,2.268611111,0.039166667,2.534166667,2.235833333,3.446111111,2.900833333,3.961666667,3.472222222,6.144722222,4.443888889,3.193055556,3.928333333,3.828888889,1.873055556,3.343888889,3.398333333,2.426944444,5.296944444,3.238055556,4.085277778,3.9375,3.870833333,3.093888889,3.667777778,2.853611111,3.923055556,3.789166667,1.432777778,3.934166667,3.072222222,2.103333333,3.758611111,2.865833333,4.650277778,3.048611111,4.423055556,3.940555556,2.615277778,2.77,3.595555556,3.407777778,3.528611111,3.798055556,3.257777778,3.241666667,3.820277778,3.215833333,1.972777778,1.443888889,2.774444444,3.69,3.536944444,2.245833333,1.870277778,2.541944444,1.947222222,2.990555556,2.823055556,3.9675,2.878888889,3.953333333,2.253888889,2.311111111,4.020833333,1.931111111,2.946944444,3.190833333,2.922777778,2.649166667,2.605,3.498333333,4.06,2.895277778,2.916944444,3.249444444,3.898611111,2.798611111,3.011111111,3.266944444,3.759722222,3.486111111,1.856944444,3.199166667,3.719166667,3.283333333,2.720277778,3.095277778,3.379722222,3.395555556,3.7775,2.668333333,3.306944444,2.9075,3.863888889,3.866111111,2.778055556,2.488333333,3.266666667,2.411666667,2.922222222,2.959444444,2.003333333,3.141666667,3.603888889,3.033611111,3.297222222,3.351666667,2.228055556,3.745555556,3.639444444,3.2625,3.273611111,3.003611111,3.681944444,3.180555556,2.253888889,2.830555556,3.459722222,2.745555556,3.246944444,2.973055556,2.356111111,2.904722222,2.571666667,3.200277778,2.901388889,3.954166667,2.819444444,3.209166667,1.852777778,2.576111111,1.318333333,3.661666667,0.864722222,2.947222222,3.652777778,3.400555556,3.203333333,3.245555556,3.710833333,2.634444444,4.340555556,4.388055556,2.788611111,4.541111111,3.302222222,2.070277778,3.571666667,4.8825,4.094722222,3.955277778,3.396388889,3.660555556,2.605277778,3.4175,3.275833333,3.836666667,4.417222222,2.975,2.770555556,3.515277778,3.587222222,3.629444444,3.934722222,5.458888889,3.010555556,4.937777778,2.868888889,2.734444444,3.000833333,3.341944444,3.875833333,3.633055556,3.271666667,5.808055556,6.810277778,3.283333333,4.753055556,3.848611111,4.825,4.023888889,2.2025,4.093333333,5.323333333,3.438055556,3.338611111,2.693055556,3.954166667,3.776111111,3.536111111,3.816944444,3.9125,3.431111111,3.406388889,3.441111111,3.926944444,1.561111111,3.585555556,5.743888889,3.690555556,3.9375,5.554722222,1.716388889,3.283055556,1.056111111,3.161111111,3.653888889,3.005277778,2.735833333,3.633611111,3.828333333,3.837222222,2.121944444,3.083055556,3.863611111,4.325833333,3.917777778,0.023333333,2.719166667,2.944166667,2.716666667,1.780833333,0.963888889,0.046388889,2.278611111,2.334722222,1.801111111,1.179722222,3.811111111,0.0125,3.175833333,2.819722222,2.347777778,2.378055556,0.683055556,8.248333333,4.921944444,0.507777778,6.647222222,3.248055556,3.820555556,5.284722222,2.761944444,0.584722222,3.316666667,5.038888889,5.218888889,4.338055556,3.909166667,2.396388889,4.841388889,6.361944444,3.153333333,0.248611111,4.377777778,3.120555556,1.611944444,4.855555556,2.530555556,3.762222222,2.305,4.116666667,3.588888889,4.072222222,3.637222222,4.256111111,4.208888889,2.588611111,3.896944444,3.524444444,4.986388889,3.269722222,3.221111111,2.846388889,4.553333333,0.2025,4.895555556,3.584166667,3.103055556,5.220833333,4.174444444,3.683888889,3.064166667,3.991666667,2.766944444,3.409722222,3.666388889,0.229722222,1.243333333,3.333888889,6.6675,2.753611111,3.636388889,2.564166667,2.880555556,3.394166667,3.031388889,3.590833333,6.883055556,2.711111111,3.148611111,4.148333333,3.186111111,3.704722222,3.566666667,3.17,3.366388889,3.768055556,2.815,3.741388889,3.783888889,2.631111111,1.923611111,3.884722222,2.126111111,2.098888889,3.917777778,1.545555556,3.3075,1.964722222,3.998611111,4.397777778,0.77,5.498888889,3.597777778,2.488888889,3.496388889,2.7575,1.861666667,4.239166667,3.962222222,0.7925,2.648055556,2.572222222,6.401944444,3.978888889,5.430555556,4.386388889,4.191666667,3.932777778,3.801111111,3.7425,4.186666667,3.766944444,3.171388889,3.408888889,2.086388889,3.699166667,2.803888889,2.500833333,1.499166667,3.776111111,1.475277778,4.106388889,2.991111111,4.328333333,2.980833333,3.054166667,2.751666667,3.236388889,3.966388889,4.906944444,4.428611111,1.093055556,1.896944444,2.246111111,2.251666667,2.7625,3.635,3.447222222,2.933888889,3.324166667,2.7575,1.269166667,1.351666667,2.488055556,1.662222222,1.480555556,2.025833333,3.275277778,3.511944444,0.995277778,1.475833333,3.674722222,2.879444444,2.005,0.750555556,2.1725,1.944722222,0.078055556,1.985,1.437777778,0.168055556,3.691944444,2.480833333,0.02,2.497222222,2.820833333,0.108055556,1.991944444,3.824444444,2.131388889,1.997222222,1.572222222,1.964444444,4.082222222,2.001666667,2.825277778,2.566944444,2.035277778,1.823333333,2.144444444,1.473611111,2.2875,2.095555556,2.121666667,2.500833333,0.593611111,2.316388889,2.036944444,2.160833333,2.675833333,5.466666667,1.802777778,2.255,1.320277778,3.275,2.103055556,2.083888889,2.050555556,1.336666667,1.574722222,2.592222222,2.718888889,2.460833333,8.831388889,2.051111111,2.032777778,0.622222222,2.404166667,2.044166667,1.0625,2.26,0.857777778,2.000555556,2.133888889,2.199166667,1.156111111,1.970277778,2.050277778,0.840555556,2.059722222,2.120277778,1.0575,1.978611111,1.986666667,2.054722222,2.527777778,2.212777778,3.040833333,2.214166667,2.159166667,3.845833333,2.713888889,0.386111111,2.810833333,1.121111111,2.114444444,4.331666667,0.450555556,2.066111111,0.359722222,2.677777778,2.929166667,3.333333333,5.423333333,2.707777778,1.992777778,1.068333333,1.99,1.941666667,1.109722222,1.953888889,2.03,2.449444444,0.705277778,2.028888889,1.068333333,2.624722222,1.830555556,3.4625,2.269722222,1.981666667,3.365555556,2.467222222,2.400277778,1.204722222,2.112222222,2.021111111,2.442222222,2.9475,4.476666667,2.0975,2.128055556,2.164444444,2.653055556,2.338333333,2.304722222,1.093333333,2.055555556,2.490833333,2.695277778,2.139722222,2.579166667,2.681666667,2.091666667,2.293333333,3.055,2.400833333,2.869166667,2.740555556,2.301944444,3.031944444,2.595833333,4.054722222,2.1175,2.145,1.973333333,2.496388889,2.427777778,0.953611111,2.765277778,2.252222222,2.275,3.516111111,2.371944444,2.564166667,2.108333333,2.430555556,3.713333333,2.309722222,3.1525,2.528611111,0.881111111,1.762222222,1.900277778,2.354166667,2.533611111,2.923611111,0.598888889,2.091388889,2.775833333,3.576111111,2.443611111,0.956666667,2.344166667,2.764444444,0.596666667,1.707222222,3.037777778,1.826666667,2.734444444,0.433611111,2.617777778,3.528055556,2.151111111,2.288611111,2.521111111,0.701944444,2.1225,2.013611111,2.553611111,2.000833333,2.223611111,0.321111111,1.909166667,1.999166667,2.481666667,1.0025,1.400833333,1.204722222,1.38,1.160833333,1.708055556,1.098333333,1.565,1.161944444,1.537777778,0.974166667,1.741944444,3.343888889,3.233888889,0.037222222,2.712777778,3.32,3.569166667,2.116111111,2.114722222,2.611388889,3.323055556,3.676944444,1.841944444,1.461388889,3.374444444,3.729166667,2.090555556,3.219166667,3.697222222,2.533611111,2.504444444,1.420555556,3.604444444,2.7025,1.985833333,2.069444444,2.354166667,2.578888889,2.894166667,2.900277778,2.053055556,4.071388889,1.601944444,3.071111111,2.260277778,2.746111111,2.866111111,2.806111111,2.923333333,2.665555556,3.47,1.513888889,1.748055556,2.745833333,2.599722222,2.468055556,1.336666667,1.485555556,2.013611111,2.108888889,2.808888889,3.823055556,2.531944444,2.249722222,1.135833333,1.488055556,2.586666667,3.871388889,3.913888889,2.703055556,2.901111111,2.783055556,3.208888889,2.257777778,1.249722222,1.727222222,2.762777778,2.592777778,2.511111111,2.712777778,2.048333333,2.073888889,2.626944444,2.685555556,1.5525,2.841111111,2.091666667,1.908611111,3.267222222,2.452222222,1.027777778,1.711666667,2.117222222,2.912777778,3.857222222,1.995555556,1.734166667,2.820833333,1.670555556,2.289166667,2.241388889,0.791944444,1.711111111,0.813611111,1.518611111,1.176944444,1.497777778,1.363055556,2.265833333,1.717777778,2.836666667,1.138611111,1.840833333,1.216388889,2.357777778,1.935277778,2.239444444,2.408055556,2.220555556,1.380555556,1.678611111,2.589722222,2.420555556,2.081666667,0.923055556,2.014444444,0.844722222,1.14,1.271111111,1.169722222,0.731944444,1.318888889,1.611944444,2.108888889,1.290833333,1.745,1.215,1.696388889,1.328333333,2.006944444,1.171388889,1.980833333,1.075277778,1.320277778,2.255,3.427777778,2.438888889,0.73,1.351388889,1.1025,2.141388889,0.947777778,1.405555556,0.0175,2.078333333,1.301666667,2.995,3.151944444,2.186666667,5.386666667,0.028888889,0.472777778,4.888611111,2.205833333,2.356944444,0.021388889,2.345833333,2.354722222,0.021944444,3.149722222,2.312777778,1.851388889,2.329722222,2.670833333,2.780833333,3.141944444,2.845,2.625833333,4.956388889,1.530555556,2.406666667,6.192222222,2.961666667,2.8675,5.653055556,3.149722222,2.675277778,3.253333333,2.404166667,0.025277778,1.991666667,1.396666667,2.522222222,2.378611111,3.776388889,3.218611111,3.384166667,2.165555556,8.710833333,1.955,3.061944444,2.766388889,3.9375,4.375,4.297222222,3.836388889,2.558888889,3.986388889,4.779722222,3.609166667,3.393888889,3.534722222,3.943888889,3.934166667,3.975,4.395277778,3.35,3.338055556,3.9925,3.569722222,3.133611111,3.055833333,4.611388889,6.905833333,3.934722222,4.133611111,3.584722222,4.008333333,3.834166667,3.860555556,4.421944444,1.781388889,2.9575,3.194166667,3.828055556,4.343333333,4.566388889,2.880833333,3.0775,3.724166667,3.323888889,5.496666667,2.827222222,4.179166667,4.135555556,2.9175,2.32,2.345555556,2.1525,1.948611111,2.455833333,2.204722222,2.283055556,2.123055556,2.740833333,2.306111111,2.098333333,2.098333333,2.3475,2.258055556,2.946111111,1.944444444,1.962777778,2.350277778,2.076388889,1.9125,1.981666667,1.945555556,2.018333333,3.562222222,2.461388889,2.068333333,2.577777778,1.866666667,2.147777778,3.173055556,2.118611111,1.948888889,0.726666667,1.825,1.919722222,2.325277778,2.031944444,2.025,2.475277778,2.103333333,2.690277778,2.3475,2.046666667,2.062777778,1.920833333,1.964166667,2.229444444,2.003888889,1.9,2.318611111,1.999166667,2.569444444,2.470277778,2.335833333,2.9325,2.343611111,2.524722222,3.224722222,2.437777778,3.194722222,3.432777778,1.888611111,3.252222222,2.352222222,2.496388889,2.466944444,2.279444444,3.520555556,2.724444444,2.292222222,2.796944444,2.398611111,2.47,3.203055556,1.258333333,1.908888889,1.043333333,2.684444444,2.504444444,2.3525,2.485833333,2.444166667,2.671111111,2.43,3.245555556,2.748611111,3.304444444,2.496111111,3.149722222,2.169166667,1.983055556,1.992222222,2.303055556,2.113055556,3.115555556,2.080277778,3.631111111,2.070833333,2.438055556,2.054166667,2.713333333,3.667777778,3.165555556,2.868611111,2.539722222,2.821666667,3.290833333,2.776111111,2.636111111,2.550833333,2.458611111,2.919444444,3.959444444,3.218888889,2.934166667,3.335277778,2.280555556,3.631666667,3.59,2.916111111,4.213055556,1.997222222,3.929444444,3.775277778,3.025833333,4.316666667,3.98,3.881666667,3.133888889,6.508611111,2.406944444,2.9325,2.01,1.631388889,2.8,2.910555556,2.916944444,3.903611111,0.637777778,0.480277778,2.498333333,2.174444444,3.244722222,3.080833333,3.545,2.466944444,3.775,3.443055556,2.761388889,3.788333333,1.898888889,3.023333333,3.581388889,2.952777778,3.3275,2.890833333,4.351111111,3.650555556,3.793888889,1.822222222,3.240555556,3.186111111,2.703611111,2.713333333,3.197222222,2.908055556,2.455277778,2.900833333,3.058333333,2.327222222,1.487222222,3.11,3.224444444,2.955,3.241666667,2.711666667,1.827777778,3.164722222,4.518888889,2.720833333,5.1875,2.364444444,3.554444444,2.826666667,4.141666667,0.019444444,2.444444444,3.73,4.728611111,3.382777778,5.006388889,3.065,2.896666667,2.975555556,2.605,2.215833333,2.816666667,2.621666667,2.484166667,2.274722222,2.246111111,2.423333333,2.408888889,1.229444444,1.293888889,2.231111111,2.440555556,2.463888889,2.615277778,2.480555556,2.536111111,2.256388889,2.526111111,3.089444444,2.3975,2.54,2.846666667,2.394722222,2.380833333,2.55,3.188055556,2.451388889,2.371388889,2.349166667,2.340555556,2.441111111,2.594722222,3.614722222,2.372777778,2.394166667,2.328611111,2.866388889,2.938888889,3.010833333,3.106111111,1.858611111,2.283333333,2.453333333,2.945277778,3.436666667,3.053055556,3.404166667,5.156944444,3.406944444,2.617777778,3.173888889,2.788055556,3.043055556,2.585,2.643055556,2.856111111,3.871388889,2.675,2.673055556,1.073333333,2.325555556,2.021944444,2.878055556,2.489444444,2.873333333,2.915833333,3.676944444,3.071388889,3.010555556,3.195,3.470555556,2.261944444,2.610277778,2.312777778,2.652777778,2.990833333,2.419722222,2.815,2.763333333,2.701111111,4.614166667,2.004444444,0.013333333,0.012777778,0.015,2.946388889,2.653055556,2.497777778,2.396388889,2.476944444,3.094166667,1.655555556,2.796111111,2.784444444,2.509444444,2.605,2.367222222,2.860833333,4.411388889,5.842777778,2.558611111,2.602777778,3.368055556,3.719444444,2.756388889,2.496388889,2.405,3.708055556,2.397222222,2.720555556,2.483611111,3.863333333,2.5925,3.2125,2.456666667,2.629444444,3.083055556,2.503333333,8.261944444,4.205277778,2.390833333,3.366388889,3.355,2.583333333,2.691944444,1.046666667,2.450833333,3.288888889,3.679444444,1.571944444,0.300833333,3.426111111,2.905555556,2.467222222,2.363888889,3.754722222,1.550555556,3.791388889,2.450277778,3.677777778,2.4175,2.639444444,3.423888889,4.712222222,1.551111111,4.060277778,1.454166667,2.705,2.516666667,3.970833333,3.793333333,4.015,4.199166667,3.578333333,1.760833333,3.714722222,3.068888889,4.140833333,4.157777778,4.053333333,2.445277778,3.914444444,2.161944444,2.016666667,3.350833333,3.611944444,0.205277778,2.836666667,0.146388889,0.558611111,1.617222222,3.052222222,3.706111111,0.42,1.134722222,3.948888889,1.494444444,1.900277778,2.176111111,2.280277778,1.184166667,1.908333333,2.821388889,2.210833333,2.273055556,2.231388889,2.118888889,2.341388889,2.038333333,2.526111111,2.326388889,2.697222222,2.678333333,2.703888889,4.060277778,2.381388889,3.046388889,1.340555556,2.533888889,2.24,2.307222222,2.355,2.269166667,2.111388889,3.193055556,2.191388889,2.425,1.081944444,2.253611111,3.194166667,3.931111111,2.379722222,3.681388889,3.391111111,2.157777778,4.172777778,2.066944444,2.723055556,2.736666667,4.56,2.228333333,2.985277778,3.2725,3.381666667,2.717777778,0.492777778,2.448333333,3.451111111,2.287777778,2.764444444,2.693611111,2.446666667,1.586111111,2.253055556,3.645,0.916944444,3.381388889,2.540555556,4.026944444,2.443333333,3.318611111,3.382777778,3.299444444,2.946388889,2.233611111,2.371944444,2.07,1.975555556,3.797777778,3.757777778,1.073333333,3.015555556,4.037222222,3.6275,3.890555556,2.476944444,3.779722222,3.060833333,3.505555556,1.900277778,1.041944444,3.679444444,0.021111111,0.026666667,0.021388889,0.025555556,0.016666667,0.020555556,0.016111111,3.352222222,2.309444444,3.808611111,0.024444444,2.710833333,2.586388889,2.638888889,3.004166667,0.995833333,3.287777778,5.628611111,2.010833333,1.799166667,1.547222222,2.238333333,3.285833333,4.036944444,2.7225,1.957222222,2.715555556,1.981666667,2.842777778,1.788611111,2.093611111,3.337222222,2.185833333,1.790555556,1.703888889,3.006944444,1.712777778,1.6625,1.586944444,3.215,1.012222222,3.061111111,2.815555556,2.1725,3.178055556,2.443611111,2.297777778,2.271944444,2.7,2.957777778,3.179166667,3.388888889,3.687777778,2.046944444,3.085833333,3.505833333,2.795,3.166111111,1.830833333,2.398333333,2.683611111,3.323888889,1.638055556,2.051388889,2.457777778,2.754444444,3.290833333,3.043333333,1.724444444,1.959722222,1.929444444,2.7475,2.526111111,2.491944444,2.615277778,2.903333333,3.294722222,2.616944444,2.467222222,2.5475,1.951388889,2.843333333,2.129722222,2.647777778,1.121388889,3.403333333,3.211944444,2.554166667,1.815,1.980555556,2.035555556,2.087777778,4.976666667,2.596388889,3.786944444,3.944722222,2.511666667,1.491111111,6.387222222,2.908333333,3.992222222,3.8975,5.249444444,3.706944444,2.442777778,1.146388889,0.3975,2.795,3.865277778,10.48833333,3.4875,1.6275,4.065,1.123888889,1.031666667,6.271388889,9.836944444,3.438055556,3.433333333,6.640555556,2.856944444,3.430277778,4.357222222,0.381944444,2.380833333,5.938055556,4.881111111,4.780555556,2.423055556,3.870277778,3.866666667,3.804722222,2.425,2.608333333,3.945,4.146944444,4.211666667,3.725277778,5.457222222,11.58694444,3.953888889,3.829444444,3.833333333,4.615277778,1.67,2.824722222,3.522777778,3.896944444,3.192777778,3.581388889,2.966388889,0.8725,3.173888889,3.283888889,6.123888889,3.5975,3.116944444,3.145277778,3.861944444,3.128333333,1.501666667,2.7125,0.023333333,0.018611111,2.037777778,9.241111111,3.383888889,9.320277778,4.516111111,9.006111111,2.829166667,2.757777778,2.716944444,2.840277778,0.757222222,1.526388889,2.615555556,1.474166667,4.3825,0.506111111,1.1675,3.244722222,1.149444444,3.320277778,2.884444444,1.168888889,3.7775,2.275277778,2.008888889,4.042777778,2.64,2.156388889,2.041388889,2.552222222,4.134722222,1.259722222,3.381666667,2.746111111,2.491111111,5.571388889,2.676666667,0.8975,3.026944444,0.444722222,2.606111111,0.795833333,1.928333333,1.649444444,2.753333333,0.874444444,1.623333333,2.16,1.279444444,1.898611111,1.3225,1.505833333,0.88,0.926944444,1.841666667,3.6575,0.095,2.47,2.954444444,0.586388889,2.399722222,3.324722222,0.9175,3.36,3.321666667,0.723055556,2.9575,4.003888889,3.117777778,3.695833333,3.383333333,2.174166667,2.265555556,1.552777778,3.541388889,0.388611111,0.943333333,2.4625,4.183888889,2.683611111,1.261111111,3.857777778,2.406944444,1.569166667,3.874444444,2.8125,1.0475,2.588055556,2.165833333,2.495833333,3.790555556,4.255555556,5.830833333,1.406666667,2.663333333,2.086944444,0.765833333,1.850555556,0.299166667,2.633333333,3.273888889,1.270555556,3.372777778,3.191111111,2.621944444,1.068888889,1.455277778,1.778333333,1.759166667,1.280555556,1.825555556,1.337777778,1.634166667,1.391111111,1.424166667,2.340833333,3.897777778,2.226388889,2.654722222,0.691388889,3.335833333,1.529444444,3.260277778,2.606388889,0.978055556,1.184444444,2.398055556,1.333888889,0.632222222,2.871388889,2.007222222,2.963611111,1.694166667,2.893333333,3.144722222,2.941944444,2.786944444,4.218333333,4.066111111,3.731388889,3.475277778,3.983611111,2.356666667,4.365,3.994444444,8.8725,4.461388889,4.442777778,7.759166667,4.094722222,4.611111111,4.113888889,3.665833333,3.8075,4.614166667,4.030833333,3.773055556,3.943055556,3.426944444,3.925277778,4.155,4.120555556,4.081666667,4.677777778,4.007777778,3.923611111,4.185555556,3.945,3.677222222,3.908611111,3.685833333,4.621944444,4.101111111,4.103611111,4.100277778,3.8425,3.951666667,4.033333333,4.255555556,4.023333333,4.038611111,4.057777778,4.683888889,3.859166667,3.775833333,4.544444444,0.786388889,4.246666667,4.126111111,3.936944444,4.637222222,4.419444444,3.9575,0.915277778,4.0325,4.018333333,8.7825,3.865833333,3.819444444,3.074166667,2.980555556,2.920277778,2.935277778,3.434444444,3.669166667,3.963888889,2.8375,2.983888889,3.404722222,2.628333333,3.219722222,2.637222222,3.220277778,3.413055556,2.956944444,2.507222222,0.757777778,1.466111111,1.393333333,3.474166667,2.666666667,2.535555556,1.711111111,2.558333333,2.789166667,2.531944444,2.527222222,3.0225,3.682777778,2.1175,2.924444444,2.734722222,3.269444444,2.948888889,1.916388889,3.255833333,3.646388889,2.783055556,2.565833333,3.148055556,3.379444444,3.091388889,3.401666667,2.509722222,2.674444444,3.509166667,3.106944444,1.145277778,2.724166667,3.954444444,3.107777778,2.023611111,3.484722222,3.471944444,2.884722222,2.957222222,1.372222222,3.534444444,3.661944444,2.860833333,2.486944444,3.243611111,3.572777778,2.300277778,2.508055556,2.901944444,3.0775,3.777222222,2.723611111,2.220833333,3.352777778,3.154166667,3.557777778,3.7375,2.309166667,2.0475,5.247222222,3.544444444,1.284166667,2.202777778,3.560555556,2.0725,2.805277778,3.660277778,2.95,4.257777778,2.076944444,2.737222222,7.521388889,1.9925,4.786666667,1.920277778,3.066944444,2.026666667,3.088055556,2.045277778,3.477777778,2.706111111,3.757222222,2.19,3.833888889,1.442777778,2.061388889,2.846111111,3.894444444,3.76,1.783055556,3.935833333,3.017777778,1.944722222,3.170555556,2.765833333,2.766944444,2.192777778,2.082777778,4.304444444,3.863333333,2.191944444,2.095277778,2.351388889,3.198611111,5.722222222,3.385277778,2.142777778,2.556111111,2.710277778,3.298055556,2.473333333,1.331111111,3.257222222,2.846944444,2.451944444,3.920833333,2.997777778,3.110277778,2.643055556,3.378888889,0.982777778,3.015277778,2.925,2.4025,3.834166667,2.984444444,2.51,2.580833333,2.781388889,2.292777778,2.375,0.964722222,2.223888889,2.694722222,2.961944444,3.097222222,2.931666667,3.245,2.835833333,3.23,3.702222222,3.208055556,3.426944444,2.599166667,2.738055556,2.776111111,2.541388889,2.576666667,2.703333333,2.754166667,2.834444444,2.821388889,2.808611111,2.621944444,2.749166667,3.489444444,3.781666667,3.1825,2.628055556,3.068055556,2.168333333,2.727777778,2.873888889,3.776944444,3.678611111,3.098333333,3.177777778,3.428611111,3.877777778,3.989444444,1.666666667,3.508055556,3.903611111,2.859722222,3.908611111,2.696388889,4.28,3.823055556,3.944166667,3.986388889,4.848333333,4.388888889,3.2625,4.410555556,4.077222222,3.971666667,3.728888889,4.541666667,3.568333333,2.709166667,3.891111111,3.423333333,3.753333333,4.126388889,3.132777778,3.481666667,4.723888889,4.330277778,3.914444444,3.478611111,0.164722222,8.47,3.5525,3.641944444,3.916944444,3.907777778,3.928888889,0.026388889,0.026388889,0.019722222,2.895833333,3.580277778,3.205,3.470833333,4.228611111,3.280833333,1.352222222,3.026944444,3.304722222,1.366666667,3.466111111,2.175555556,3.724444444,4.618333333,3.844722222,4.933055556,3.666388889,4.143611111,4.121944444,2.988055556,3.740555556,3.408611111,3.032222222,5.051111111,3.318055556,4.212222222,2.723611111,3.150555556,4.176944444,3.975833333,3.664722222,4.290277778,2.655,3.664166667,5.661666667,4.558333333,5.0075,5.4275,4.31,5.626944444,3.138333333,3.256666667,1.938333333,4.441111111,3.248611111,4.528888889,3.118611111,0.019166667,3.850833333,3.151111111,2.060555556,0.595833333,1.979166667,2.423888889,2.188333333,2.469166667,1.63,2.729722222,2.151666667,3.196666667,2.450833333,1.498055556,0.866388889,3.671666667,3.114444444,1.888888889,2.536944444,4.5875,6.901111111,2.135833333,2.102222222,2.409444444,2.318333333,2.1125,2.558055556,2.086111111,2.359722222,2.618055556,2.447222222,3.2675,2.485,2.163611111,2.121666667,1.238055556,0.121388889,3.617222222,2.991388889,4.273055556,1.365833333,1.593333333,2.240833333,0.026111111,0.025833333,0.489166667,1.154166667,2.201944444,2.055277778,1.520555556,1.870277778,0.6275,2.066111111,2.457222222,1.8775,1.8725,1.825,1.875,2.088611111,1.920277778,1.835555556,2.033055556,1.973611111,2.791666667,1.935277778,2.443611111,1.965,1.881111111,1.704166667,2.994722222,2.668055556,2.343055556,1.985277778,1.909444444,1.739444444,1.877222222,2.496944444,2.298333333,3.075,2.694444444,3.356388889,4.508888889,1.696944444,3.176388889,2.871388889,3.243333333,3.75,3.470277778,1.931666667,4.0975,1.937777778,1.813888889,1.765555556,2.002777778,2.588055556,0.993888889,0.995833333,1.66,1.550555556,3.88,1.791944444,3.980277778,3.815,3.949444444,3.276666667,3.730277778,3.873333333,4.896944444,4.155555556,3.773055556,5.523333333,3.748333333,3.239166667,3.655,3.769166667,4.116388889,5.981111111,4.810555556,4.025277778,3.533333333,3.545,3.995833333,4.030833333,3.706944444,5.206111111,4.363611111,5.254722222,4.156111111,3.727222222,3.922222222,3.714722222,3.710277778,3.91,4.408333333,3.658055556,7.263055556,3.686111111,3.038333333,4.556388889,6.718611111,4.803333333,3.458055556,4.381944444,3.589166667,0.025833333,2.093055556,3.951111111,2.933611111,3.9125,3.976111111,3.090833333,3.832222222,3.484444444,3.442777778,0.018888889,3.384444444,0.028888889,0.023055556,3.157222222,2.8875,3.463055556,3.454722222,3.435,3.713888889,3.561388889,3.567777778,3.528611111,2.973055556,3.83,3.330555556,3.083333333,3.819444444,3.259444444,3.437777778,3.761111111,4.052222222,2.722222222,2.733611111,3.006388889,3.8425,2.200277778,3.756666667,3.592777778,3.372222222,3.598055556,3.758333333,3.766944444,3.604722222,3.880555556,3.663333333,3.806666667,2.847777778,3.363055556,3.574166667,3.948055556,3.652777778,2.306666667,2.731388889,2.413333333,2.394444444,3.802777778,2.908055556,3.486111111,3.019166667,2.452222222,3.455277778,3.293333333,2.545,2.563888889,3.166111111,3.0475,3.786944444,2.648333333,2.568055556,3.857222222,3.947222222,3.289444444,2.586111111,2.983333333,2.624722222,2.506388889,3.066944444,3.451666667,3.886388889,4.071666667,3.946388889,4.217777778,3.359166667,3.8525,2.002777778,2.597777778,3.586111111,2.485555556,0.0225,3.490555556,2.875555556,3.383888889,3.813888889,3.245,3.070833333,3.098888889,3.253888889,2.017777778,3.563611111,3.107222222,1.762222222,2.671388889,3.284722222,2.115,1.776666667,2.672222222,3.521111111,2.188611111,2.509444444,2.928888889,2.514722222,1.513888889,3.1675,2.298611111,3.279166667,1.855555556,4.808055556,3.133055556,3.869722222,3.494722222,0.746388889,2.939722222,0.343055556,1.913055556,3.898333333,2.380555556,1.685555556,2.052777778,1.751666667,2.1475,3.131111111,3.306666667,3.281666667,3.940555556,0.324166667,1.535555556,3.465833333,3.281388889,2.056111111,3.056666667,2.320277778,2.518055556,2.217222222,2.454722222,2.282777778,2.937222222,2.189166667,3.585,1.855833333,2.632222222,2.077222222,2.320833333,1.609444444,1.786388889,3.85,3.901111111,3.480277778,3.857222222,3.285277778,3.448611111,3.843055556,2.715555556,3.738333333,1.507777778,2.394444444,3.744444444,4.161388889,3.54,3.7775,5.812222222,4.112222222,1.699722222,3.1425,2.122222222,1.563611111,1.711666667,3.540833333,0.485833333,1.099444444,1.506111111,0.647222222,1.933888889,1.519166667,3.494444444,3.427222222,4.366111111,1.919444444,0.447222222,1.691111111,1.334166667,3.464166667,3.467222222,3.463888889,2.971388889,3.495555556,2.202777778,2.983611111],\"yaxis\":\"y\",\"type\":\"scattergl\"}],                        {\"template\":{\"data\":{\"bar\":[{\"error_x\":{\"color\":\"#2a3f5f\"},\"error_y\":{\"color\":\"#2a3f5f\"},\"marker\":{\"line\":{\"color\":\"#E5ECF6\",\"width\":0.5},\"pattern\":{\"fillmode\":\"overlay\",\"size\":10,\"solidity\":0.2}},\"type\":\"bar\"}],\"barpolar\":[{\"marker\":{\"line\":{\"color\":\"#E5ECF6\",\"width\":0.5},\"pattern\":{\"fillmode\":\"overlay\",\"size\":10,\"solidity\":0.2}},\"type\":\"barpolar\"}],\"carpet\":[{\"aaxis\":{\"endlinecolor\":\"#2a3f5f\",\"gridcolor\":\"white\",\"linecolor\":\"white\",\"minorgridcolor\":\"white\",\"startlinecolor\":\"#2a3f5f\"},\"baxis\":{\"endlinecolor\":\"#2a3f5f\",\"gridcolor\":\"white\",\"linecolor\":\"white\",\"minorgridcolor\":\"white\",\"startlinecolor\":\"#2a3f5f\"},\"type\":\"carpet\"}],\"choropleth\":[{\"colorbar\":{\"outlinewidth\":0,\"ticks\":\"\"},\"type\":\"choropleth\"}],\"contour\":[{\"colorbar\":{\"outlinewidth\":0,\"ticks\":\"\"},\"colorscale\":[[0.0,\"#0d0887\"],[0.1111111111111111,\"#46039f\"],[0.2222222222222222,\"#7201a8\"],[0.3333333333333333,\"#9c179e\"],[0.4444444444444444,\"#bd3786\"],[0.5555555555555556,\"#d8576b\"],[0.6666666666666666,\"#ed7953\"],[0.7777777777777778,\"#fb9f3a\"],[0.8888888888888888,\"#fdca26\"],[1.0,\"#f0f921\"]],\"type\":\"contour\"}],\"contourcarpet\":[{\"colorbar\":{\"outlinewidth\":0,\"ticks\":\"\"},\"type\":\"contourcarpet\"}],\"heatmap\":[{\"colorbar\":{\"outlinewidth\":0,\"ticks\":\"\"},\"colorscale\":[[0.0,\"#0d0887\"],[0.1111111111111111,\"#46039f\"],[0.2222222222222222,\"#7201a8\"],[0.3333333333333333,\"#9c179e\"],[0.4444444444444444,\"#bd3786\"],[0.5555555555555556,\"#d8576b\"],[0.6666666666666666,\"#ed7953\"],[0.7777777777777778,\"#fb9f3a\"],[0.8888888888888888,\"#fdca26\"],[1.0,\"#f0f921\"]],\"type\":\"heatmap\"}],\"heatmapgl\":[{\"colorbar\":{\"outlinewidth\":0,\"ticks\":\"\"},\"colorscale\":[[0.0,\"#0d0887\"],[0.1111111111111111,\"#46039f\"],[0.2222222222222222,\"#7201a8\"],[0.3333333333333333,\"#9c179e\"],[0.4444444444444444,\"#bd3786\"],[0.5555555555555556,\"#d8576b\"],[0.6666666666666666,\"#ed7953\"],[0.7777777777777778,\"#fb9f3a\"],[0.8888888888888888,\"#fdca26\"],[1.0,\"#f0f921\"]],\"type\":\"heatmapgl\"}],\"histogram\":[{\"marker\":{\"pattern\":{\"fillmode\":\"overlay\",\"size\":10,\"solidity\":0.2}},\"type\":\"histogram\"}],\"histogram2d\":[{\"colorbar\":{\"outlinewidth\":0,\"ticks\":\"\"},\"colorscale\":[[0.0,\"#0d0887\"],[0.1111111111111111,\"#46039f\"],[0.2222222222222222,\"#7201a8\"],[0.3333333333333333,\"#9c179e\"],[0.4444444444444444,\"#bd3786\"],[0.5555555555555556,\"#d8576b\"],[0.6666666666666666,\"#ed7953\"],[0.7777777777777778,\"#fb9f3a\"],[0.8888888888888888,\"#fdca26\"],[1.0,\"#f0f921\"]],\"type\":\"histogram2d\"}],\"histogram2dcontour\":[{\"colorbar\":{\"outlinewidth\":0,\"ticks\":\"\"},\"colorscale\":[[0.0,\"#0d0887\"],[0.1111111111111111,\"#46039f\"],[0.2222222222222222,\"#7201a8\"],[0.3333333333333333,\"#9c179e\"],[0.4444444444444444,\"#bd3786\"],[0.5555555555555556,\"#d8576b\"],[0.6666666666666666,\"#ed7953\"],[0.7777777777777778,\"#fb9f3a\"],[0.8888888888888888,\"#fdca26\"],[1.0,\"#f0f921\"]],\"type\":\"histogram2dcontour\"}],\"mesh3d\":[{\"colorbar\":{\"outlinewidth\":0,\"ticks\":\"\"},\"type\":\"mesh3d\"}],\"parcoords\":[{\"line\":{\"colorbar\":{\"outlinewidth\":0,\"ticks\":\"\"}},\"type\":\"parcoords\"}],\"pie\":[{\"automargin\":true,\"type\":\"pie\"}],\"scatter\":[{\"marker\":{\"colorbar\":{\"outlinewidth\":0,\"ticks\":\"\"}},\"type\":\"scatter\"}],\"scatter3d\":[{\"line\":{\"colorbar\":{\"outlinewidth\":0,\"ticks\":\"\"}},\"marker\":{\"colorbar\":{\"outlinewidth\":0,\"ticks\":\"\"}},\"type\":\"scatter3d\"}],\"scattercarpet\":[{\"marker\":{\"colorbar\":{\"outlinewidth\":0,\"ticks\":\"\"}},\"type\":\"scattercarpet\"}],\"scattergeo\":[{\"marker\":{\"colorbar\":{\"outlinewidth\":0,\"ticks\":\"\"}},\"type\":\"scattergeo\"}],\"scattergl\":[{\"marker\":{\"colorbar\":{\"outlinewidth\":0,\"ticks\":\"\"}},\"type\":\"scattergl\"}],\"scattermapbox\":[{\"marker\":{\"colorbar\":{\"outlinewidth\":0,\"ticks\":\"\"}},\"type\":\"scattermapbox\"}],\"scatterpolar\":[{\"marker\":{\"colorbar\":{\"outlinewidth\":0,\"ticks\":\"\"}},\"type\":\"scatterpolar\"}],\"scatterpolargl\":[{\"marker\":{\"colorbar\":{\"outlinewidth\":0,\"ticks\":\"\"}},\"type\":\"scatterpolargl\"}],\"scatterternary\":[{\"marker\":{\"colorbar\":{\"outlinewidth\":0,\"ticks\":\"\"}},\"type\":\"scatterternary\"}],\"surface\":[{\"colorbar\":{\"outlinewidth\":0,\"ticks\":\"\"},\"colorscale\":[[0.0,\"#0d0887\"],[0.1111111111111111,\"#46039f\"],[0.2222222222222222,\"#7201a8\"],[0.3333333333333333,\"#9c179e\"],[0.4444444444444444,\"#bd3786\"],[0.5555555555555556,\"#d8576b\"],[0.6666666666666666,\"#ed7953\"],[0.7777777777777778,\"#fb9f3a\"],[0.8888888888888888,\"#fdca26\"],[1.0,\"#f0f921\"]],\"type\":\"surface\"}],\"table\":[{\"cells\":{\"fill\":{\"color\":\"#EBF0F8\"},\"line\":{\"color\":\"white\"}},\"header\":{\"fill\":{\"color\":\"#C8D4E3\"},\"line\":{\"color\":\"white\"}},\"type\":\"table\"}]},\"layout\":{\"annotationdefaults\":{\"arrowcolor\":\"#2a3f5f\",\"arrowhead\":0,\"arrowwidth\":1},\"autotypenumbers\":\"strict\",\"coloraxis\":{\"colorbar\":{\"outlinewidth\":0,\"ticks\":\"\"}},\"colorscale\":{\"diverging\":[[0,\"#8e0152\"],[0.1,\"#c51b7d\"],[0.2,\"#de77ae\"],[0.3,\"#f1b6da\"],[0.4,\"#fde0ef\"],[0.5,\"#f7f7f7\"],[0.6,\"#e6f5d0\"],[0.7,\"#b8e186\"],[0.8,\"#7fbc41\"],[0.9,\"#4d9221\"],[1,\"#276419\"]],\"sequential\":[[0.0,\"#0d0887\"],[0.1111111111111111,\"#46039f\"],[0.2222222222222222,\"#7201a8\"],[0.3333333333333333,\"#9c179e\"],[0.4444444444444444,\"#bd3786\"],[0.5555555555555556,\"#d8576b\"],[0.6666666666666666,\"#ed7953\"],[0.7777777777777778,\"#fb9f3a\"],[0.8888888888888888,\"#fdca26\"],[1.0,\"#f0f921\"]],\"sequentialminus\":[[0.0,\"#0d0887\"],[0.1111111111111111,\"#46039f\"],[0.2222222222222222,\"#7201a8\"],[0.3333333333333333,\"#9c179e\"],[0.4444444444444444,\"#bd3786\"],[0.5555555555555556,\"#d8576b\"],[0.6666666666666666,\"#ed7953\"],[0.7777777777777778,\"#fb9f3a\"],[0.8888888888888888,\"#fdca26\"],[1.0,\"#f0f921\"]]},\"colorway\":[\"#636efa\",\"#EF553B\",\"#00cc96\",\"#ab63fa\",\"#FFA15A\",\"#19d3f3\",\"#FF6692\",\"#B6E880\",\"#FF97FF\",\"#FECB52\"],\"font\":{\"color\":\"#2a3f5f\"},\"geo\":{\"bgcolor\":\"white\",\"lakecolor\":\"white\",\"landcolor\":\"#E5ECF6\",\"showlakes\":true,\"showland\":true,\"subunitcolor\":\"white\"},\"hoverlabel\":{\"align\":\"left\"},\"hovermode\":\"closest\",\"mapbox\":{\"style\":\"light\"},\"paper_bgcolor\":\"white\",\"plot_bgcolor\":\"#E5ECF6\",\"polar\":{\"angularaxis\":{\"gridcolor\":\"white\",\"linecolor\":\"white\",\"ticks\":\"\"},\"bgcolor\":\"#E5ECF6\",\"radialaxis\":{\"gridcolor\":\"white\",\"linecolor\":\"white\",\"ticks\":\"\"}},\"scene\":{\"xaxis\":{\"backgroundcolor\":\"#E5ECF6\",\"gridcolor\":\"white\",\"gridwidth\":2,\"linecolor\":\"white\",\"showbackground\":true,\"ticks\":\"\",\"zerolinecolor\":\"white\"},\"yaxis\":{\"backgroundcolor\":\"#E5ECF6\",\"gridcolor\":\"white\",\"gridwidth\":2,\"linecolor\":\"white\",\"showbackground\":true,\"ticks\":\"\",\"zerolinecolor\":\"white\"},\"zaxis\":{\"backgroundcolor\":\"#E5ECF6\",\"gridcolor\":\"white\",\"gridwidth\":2,\"linecolor\":\"white\",\"showbackground\":true,\"ticks\":\"\",\"zerolinecolor\":\"white\"}},\"shapedefaults\":{\"line\":{\"color\":\"#2a3f5f\"}},\"ternary\":{\"aaxis\":{\"gridcolor\":\"white\",\"linecolor\":\"white\",\"ticks\":\"\"},\"baxis\":{\"gridcolor\":\"white\",\"linecolor\":\"white\",\"ticks\":\"\"},\"bgcolor\":\"#E5ECF6\",\"caxis\":{\"gridcolor\":\"white\",\"linecolor\":\"white\",\"ticks\":\"\"}},\"title\":{\"x\":0.05},\"xaxis\":{\"automargin\":true,\"gridcolor\":\"white\",\"linecolor\":\"white\",\"ticks\":\"\",\"title\":{\"standoff\":15},\"zerolinecolor\":\"white\",\"zerolinewidth\":2},\"yaxis\":{\"automargin\":true,\"gridcolor\":\"white\",\"linecolor\":\"white\",\"ticks\":\"\",\"title\":{\"standoff\":15},\"zerolinecolor\":\"white\",\"zerolinewidth\":2}}},\"xaxis\":{\"anchor\":\"y\",\"domain\":[0.0,1.0],\"title\":{\"text\":\"Charging Instances\"}},\"yaxis\":{\"anchor\":\"x\",\"domain\":[0.0,1.0],\"title\":{\"text\":\"Number of Hours\"}},\"legend\":{\"tracegroupgap\":0},\"title\":{\"text\":\"Time Consumed in Hours for EV Charging\"}},                        {\"responsive\": true}                    ).then(function(){\n",
              "                            \n",
              "var gd = document.getElementById('15667ac6-c164-449c-bb40-d0921bfb1459');\n",
              "var x = new MutationObserver(function (mutations, observer) {{\n",
              "        var display = window.getComputedStyle(gd).display;\n",
              "        if (!display || display === 'none') {{\n",
              "            console.log([gd, 'removed!']);\n",
              "            Plotly.purge(gd);\n",
              "            observer.disconnect();\n",
              "        }}\n",
              "}});\n",
              "\n",
              "// Listen for the removal of the full notebook cells\n",
              "var notebookContainer = gd.closest('#notebook-container');\n",
              "if (notebookContainer) {{\n",
              "    x.observe(notebookContainer, {childList: true});\n",
              "}}\n",
              "\n",
              "// Listen for the clearing of the current output cell\n",
              "var outputEl = gd.closest('.output');\n",
              "if (outputEl) {{\n",
              "    x.observe(outputEl, {childList: true});\n",
              "}}\n",
              "\n",
              "                        })                };                            </script>        </div>\n",
              "</body>\n",
              "</html>"
            ]
          },
          "metadata": {}
        },
        {
          "output_type": "stream",
          "name": "stdout",
          "text": [
            "Average charging time: 2.8414876452270987 hours\n",
            "Average charging time: 2.84 hrs\n"
          ]
        }
      ]
    },
    {
      "cell_type": "markdown",
      "source": [
        "Tiempo de carga por cada dia de la semana en tabla"
      ],
      "metadata": {
        "id": "d_GdFSyQCVo2"
      }
    },
    {
      "cell_type": "code",
      "source": [
        "#lets take out the weekday column from the dataset and put it into a separate \"charging_duration\" group\n",
        "charging_duration = ds.groupby('weekday').mean() #charge time by day of the week\n",
        "\n",
        "#defining the sorter\n",
        "sorter = ['Mon','Tue','Wed','Thu','Fri','Sat','Sun'] #lista con los dias de la semana\n",
        "#sorting my custom list(sorter)\n",
        "#creates the dictionary that defines the order for sorting\n",
        "sorterIndex = dict(zip(sorter,range(len(sorter))))\n",
        "#index new 'Day_id' column\n",
        "charging_duration['Day_id'] = charging_duration.index #simple, just returns the index of a given element(s)\n",
        "#generates a Day_id column  that will be used to sort the list numerically based on its index number\n",
        "charging_duration['Day_id'] = charging_duration['Day_id'].map(sorterIndex)\n",
        "\n",
        "#inplace -> to make a change to the 'Day_id' column and overwrite what was there before\n",
        "#sort_values -> sorts in ascending or descending order of passed column, in that case, will sorts in ascending based on index number of each day of the week(rows)\n",
        "charging_duration.sort_values('Day_id', inplace=True) #newer versions of pandas user 'sort_values' instead of 'sort'\n",
        "\n",
        "charging_duration['weekday'] = charging_duration.index\n",
        "\n",
        "#lets show dataset\n",
        "charging_duration"
      ],
      "metadata": {
        "colab": {
          "base_uri": "https://localhost:8080/",
          "height": 394
        },
        "id": "9P8960SqBzvC",
        "outputId": "202bda48-96b5-4ad3-c2ef-255db0637be8"
      },
      "execution_count": null,
      "outputs": [
        {
          "output_type": "execute_result",
          "data": {
            "text/plain": [
              "            sessionId  kwhTotal   dollars  startTime    endTime  \\\n",
              "weekday                                                           \n",
              "Mon      5.473551e+06  5.564432  0.117922  13.832792  16.491883   \n",
              "Tue      5.492157e+06  6.002976  0.106835  13.796850  16.601575   \n",
              "Wed      5.310558e+06  5.820196  0.169453  13.813464  16.635344   \n",
              "Thu      5.442267e+06  5.762082  0.100776  13.850340  16.595918   \n",
              "Fri      5.718676e+06  5.772639  0.106803  13.724590  16.321311   \n",
              "Sat      5.725675e+06  6.365968  0.016129  11.693548  13.741935   \n",
              "Sun      5.802680e+06  7.632500  0.000000  10.458333  12.500000   \n",
              "\n",
              "         chargeTimeHrs   distance        userId      stationId     locationId  \\\n",
              "weekday                                                                         \n",
              "Mon           2.899101  18.876122  5.540027e+07  564824.167208  627796.334416   \n",
              "Tue           2.894809  18.620053  5.815988e+07  588211.861417  645801.977953   \n",
              "Wed           2.937231  18.590789  5.645490e+07  578943.899018  612884.666199   \n",
              "Thu           2.789266  18.623416  5.666445e+07  574418.507483  646137.345578   \n",
              "Fri           2.763266  18.307373  5.701220e+07  574171.059016  621447.968852   \n",
              "Sat           2.297464  22.961844  8.513633e+07  554724.790323  582450.612903   \n",
              "Sun           2.100394  10.492215  8.081757e+07  713868.833333  613657.541667   \n",
              "\n",
              "         ...  Wed  Thurs  Fri  Sat  Sun  reportedZip       Events  \\\n",
              "weekday  ...                                                        \n",
              "Mon      ...  0.0    0.0  0.0  0.0  0.0     0.714286  1698.711039   \n",
              "Tue      ...  0.0    0.0  0.0  0.0  0.0     0.696063  1710.407874   \n",
              "Wed      ...  1.0    0.0  0.0  0.0  0.0     0.709677  1713.388499   \n",
              "Thu      ...  0.0    1.0  0.0  0.0  0.0     0.693878  1670.941497   \n",
              "Fri      ...  0.0    0.0  1.0  0.0  0.0     0.693443  1696.613115   \n",
              "Sat      ...  0.0    0.0  0.0  1.0  0.0     0.870968  1737.790323   \n",
              "Sun      ...  0.0    0.0  0.0  0.0  1.0     0.625000  1513.958333   \n",
              "\n",
              "               Event  Day_id  weekday  \n",
              "weekday                                \n",
              "Mon      1698.711039       0      Mon  \n",
              "Tue      1710.407874       1      Tue  \n",
              "Wed      1713.388499       2      Wed  \n",
              "Thu      1670.941497       3      Thu  \n",
              "Fri      1696.613115       4      Fri  \n",
              "Sat      1737.790323       5      Sat  \n",
              "Sun      1513.958333       6      Sun  \n",
              "\n",
              "[7 rows x 24 columns]"
            ],
            "text/html": [
              "\n",
              "  <div id=\"df-1ddd46d9-7030-4be0-957a-5953d6ee39d7\">\n",
              "    <div class=\"colab-df-container\">\n",
              "      <div>\n",
              "<style scoped>\n",
              "    .dataframe tbody tr th:only-of-type {\n",
              "        vertical-align: middle;\n",
              "    }\n",
              "\n",
              "    .dataframe tbody tr th {\n",
              "        vertical-align: top;\n",
              "    }\n",
              "\n",
              "    .dataframe thead th {\n",
              "        text-align: right;\n",
              "    }\n",
              "</style>\n",
              "<table border=\"1\" class=\"dataframe\">\n",
              "  <thead>\n",
              "    <tr style=\"text-align: right;\">\n",
              "      <th></th>\n",
              "      <th>sessionId</th>\n",
              "      <th>kwhTotal</th>\n",
              "      <th>dollars</th>\n",
              "      <th>startTime</th>\n",
              "      <th>endTime</th>\n",
              "      <th>chargeTimeHrs</th>\n",
              "      <th>distance</th>\n",
              "      <th>userId</th>\n",
              "      <th>stationId</th>\n",
              "      <th>locationId</th>\n",
              "      <th>...</th>\n",
              "      <th>Wed</th>\n",
              "      <th>Thurs</th>\n",
              "      <th>Fri</th>\n",
              "      <th>Sat</th>\n",
              "      <th>Sun</th>\n",
              "      <th>reportedZip</th>\n",
              "      <th>Events</th>\n",
              "      <th>Event</th>\n",
              "      <th>Day_id</th>\n",
              "      <th>weekday</th>\n",
              "    </tr>\n",
              "    <tr>\n",
              "      <th>weekday</th>\n",
              "      <th></th>\n",
              "      <th></th>\n",
              "      <th></th>\n",
              "      <th></th>\n",
              "      <th></th>\n",
              "      <th></th>\n",
              "      <th></th>\n",
              "      <th></th>\n",
              "      <th></th>\n",
              "      <th></th>\n",
              "      <th></th>\n",
              "      <th></th>\n",
              "      <th></th>\n",
              "      <th></th>\n",
              "      <th></th>\n",
              "      <th></th>\n",
              "      <th></th>\n",
              "      <th></th>\n",
              "      <th></th>\n",
              "      <th></th>\n",
              "      <th></th>\n",
              "    </tr>\n",
              "  </thead>\n",
              "  <tbody>\n",
              "    <tr>\n",
              "      <th>Mon</th>\n",
              "      <td>5.473551e+06</td>\n",
              "      <td>5.564432</td>\n",
              "      <td>0.117922</td>\n",
              "      <td>13.832792</td>\n",
              "      <td>16.491883</td>\n",
              "      <td>2.899101</td>\n",
              "      <td>18.876122</td>\n",
              "      <td>5.540027e+07</td>\n",
              "      <td>564824.167208</td>\n",
              "      <td>627796.334416</td>\n",
              "      <td>...</td>\n",
              "      <td>0.0</td>\n",
              "      <td>0.0</td>\n",
              "      <td>0.0</td>\n",
              "      <td>0.0</td>\n",
              "      <td>0.0</td>\n",
              "      <td>0.714286</td>\n",
              "      <td>1698.711039</td>\n",
              "      <td>1698.711039</td>\n",
              "      <td>0</td>\n",
              "      <td>Mon</td>\n",
              "    </tr>\n",
              "    <tr>\n",
              "      <th>Tue</th>\n",
              "      <td>5.492157e+06</td>\n",
              "      <td>6.002976</td>\n",
              "      <td>0.106835</td>\n",
              "      <td>13.796850</td>\n",
              "      <td>16.601575</td>\n",
              "      <td>2.894809</td>\n",
              "      <td>18.620053</td>\n",
              "      <td>5.815988e+07</td>\n",
              "      <td>588211.861417</td>\n",
              "      <td>645801.977953</td>\n",
              "      <td>...</td>\n",
              "      <td>0.0</td>\n",
              "      <td>0.0</td>\n",
              "      <td>0.0</td>\n",
              "      <td>0.0</td>\n",
              "      <td>0.0</td>\n",
              "      <td>0.696063</td>\n",
              "      <td>1710.407874</td>\n",
              "      <td>1710.407874</td>\n",
              "      <td>1</td>\n",
              "      <td>Tue</td>\n",
              "    </tr>\n",
              "    <tr>\n",
              "      <th>Wed</th>\n",
              "      <td>5.310558e+06</td>\n",
              "      <td>5.820196</td>\n",
              "      <td>0.169453</td>\n",
              "      <td>13.813464</td>\n",
              "      <td>16.635344</td>\n",
              "      <td>2.937231</td>\n",
              "      <td>18.590789</td>\n",
              "      <td>5.645490e+07</td>\n",
              "      <td>578943.899018</td>\n",
              "      <td>612884.666199</td>\n",
              "      <td>...</td>\n",
              "      <td>1.0</td>\n",
              "      <td>0.0</td>\n",
              "      <td>0.0</td>\n",
              "      <td>0.0</td>\n",
              "      <td>0.0</td>\n",
              "      <td>0.709677</td>\n",
              "      <td>1713.388499</td>\n",
              "      <td>1713.388499</td>\n",
              "      <td>2</td>\n",
              "      <td>Wed</td>\n",
              "    </tr>\n",
              "    <tr>\n",
              "      <th>Thu</th>\n",
              "      <td>5.442267e+06</td>\n",
              "      <td>5.762082</td>\n",
              "      <td>0.100776</td>\n",
              "      <td>13.850340</td>\n",
              "      <td>16.595918</td>\n",
              "      <td>2.789266</td>\n",
              "      <td>18.623416</td>\n",
              "      <td>5.666445e+07</td>\n",
              "      <td>574418.507483</td>\n",
              "      <td>646137.345578</td>\n",
              "      <td>...</td>\n",
              "      <td>0.0</td>\n",
              "      <td>1.0</td>\n",
              "      <td>0.0</td>\n",
              "      <td>0.0</td>\n",
              "      <td>0.0</td>\n",
              "      <td>0.693878</td>\n",
              "      <td>1670.941497</td>\n",
              "      <td>1670.941497</td>\n",
              "      <td>3</td>\n",
              "      <td>Thu</td>\n",
              "    </tr>\n",
              "    <tr>\n",
              "      <th>Fri</th>\n",
              "      <td>5.718676e+06</td>\n",
              "      <td>5.772639</td>\n",
              "      <td>0.106803</td>\n",
              "      <td>13.724590</td>\n",
              "      <td>16.321311</td>\n",
              "      <td>2.763266</td>\n",
              "      <td>18.307373</td>\n",
              "      <td>5.701220e+07</td>\n",
              "      <td>574171.059016</td>\n",
              "      <td>621447.968852</td>\n",
              "      <td>...</td>\n",
              "      <td>0.0</td>\n",
              "      <td>0.0</td>\n",
              "      <td>1.0</td>\n",
              "      <td>0.0</td>\n",
              "      <td>0.0</td>\n",
              "      <td>0.693443</td>\n",
              "      <td>1696.613115</td>\n",
              "      <td>1696.613115</td>\n",
              "      <td>4</td>\n",
              "      <td>Fri</td>\n",
              "    </tr>\n",
              "    <tr>\n",
              "      <th>Sat</th>\n",
              "      <td>5.725675e+06</td>\n",
              "      <td>6.365968</td>\n",
              "      <td>0.016129</td>\n",
              "      <td>11.693548</td>\n",
              "      <td>13.741935</td>\n",
              "      <td>2.297464</td>\n",
              "      <td>22.961844</td>\n",
              "      <td>8.513633e+07</td>\n",
              "      <td>554724.790323</td>\n",
              "      <td>582450.612903</td>\n",
              "      <td>...</td>\n",
              "      <td>0.0</td>\n",
              "      <td>0.0</td>\n",
              "      <td>0.0</td>\n",
              "      <td>1.0</td>\n",
              "      <td>0.0</td>\n",
              "      <td>0.870968</td>\n",
              "      <td>1737.790323</td>\n",
              "      <td>1737.790323</td>\n",
              "      <td>5</td>\n",
              "      <td>Sat</td>\n",
              "    </tr>\n",
              "    <tr>\n",
              "      <th>Sun</th>\n",
              "      <td>5.802680e+06</td>\n",
              "      <td>7.632500</td>\n",
              "      <td>0.000000</td>\n",
              "      <td>10.458333</td>\n",
              "      <td>12.500000</td>\n",
              "      <td>2.100394</td>\n",
              "      <td>10.492215</td>\n",
              "      <td>8.081757e+07</td>\n",
              "      <td>713868.833333</td>\n",
              "      <td>613657.541667</td>\n",
              "      <td>...</td>\n",
              "      <td>0.0</td>\n",
              "      <td>0.0</td>\n",
              "      <td>0.0</td>\n",
              "      <td>0.0</td>\n",
              "      <td>1.0</td>\n",
              "      <td>0.625000</td>\n",
              "      <td>1513.958333</td>\n",
              "      <td>1513.958333</td>\n",
              "      <td>6</td>\n",
              "      <td>Sun</td>\n",
              "    </tr>\n",
              "  </tbody>\n",
              "</table>\n",
              "<p>7 rows × 24 columns</p>\n",
              "</div>\n",
              "      <button class=\"colab-df-convert\" onclick=\"convertToInteractive('df-1ddd46d9-7030-4be0-957a-5953d6ee39d7')\"\n",
              "              title=\"Convert this dataframe to an interactive table.\"\n",
              "              style=\"display:none;\">\n",
              "        \n",
              "  <svg xmlns=\"http://www.w3.org/2000/svg\" height=\"24px\"viewBox=\"0 0 24 24\"\n",
              "       width=\"24px\">\n",
              "    <path d=\"M0 0h24v24H0V0z\" fill=\"none\"/>\n",
              "    <path d=\"M18.56 5.44l.94 2.06.94-2.06 2.06-.94-2.06-.94-.94-2.06-.94 2.06-2.06.94zm-11 1L8.5 8.5l.94-2.06 2.06-.94-2.06-.94L8.5 2.5l-.94 2.06-2.06.94zm10 10l.94 2.06.94-2.06 2.06-.94-2.06-.94-.94-2.06-.94 2.06-2.06.94z\"/><path d=\"M17.41 7.96l-1.37-1.37c-.4-.4-.92-.59-1.43-.59-.52 0-1.04.2-1.43.59L10.3 9.45l-7.72 7.72c-.78.78-.78 2.05 0 2.83L4 21.41c.39.39.9.59 1.41.59.51 0 1.02-.2 1.41-.59l7.78-7.78 2.81-2.81c.8-.78.8-2.07 0-2.86zM5.41 20L4 18.59l7.72-7.72 1.47 1.35L5.41 20z\"/>\n",
              "  </svg>\n",
              "      </button>\n",
              "      \n",
              "  <style>\n",
              "    .colab-df-container {\n",
              "      display:flex;\n",
              "      flex-wrap:wrap;\n",
              "      gap: 12px;\n",
              "    }\n",
              "\n",
              "    .colab-df-convert {\n",
              "      background-color: #E8F0FE;\n",
              "      border: none;\n",
              "      border-radius: 50%;\n",
              "      cursor: pointer;\n",
              "      display: none;\n",
              "      fill: #1967D2;\n",
              "      height: 32px;\n",
              "      padding: 0 0 0 0;\n",
              "      width: 32px;\n",
              "    }\n",
              "\n",
              "    .colab-df-convert:hover {\n",
              "      background-color: #E2EBFA;\n",
              "      box-shadow: 0px 1px 2px rgba(60, 64, 67, 0.3), 0px 1px 3px 1px rgba(60, 64, 67, 0.15);\n",
              "      fill: #174EA6;\n",
              "    }\n",
              "\n",
              "    [theme=dark] .colab-df-convert {\n",
              "      background-color: #3B4455;\n",
              "      fill: #D2E3FC;\n",
              "    }\n",
              "\n",
              "    [theme=dark] .colab-df-convert:hover {\n",
              "      background-color: #434B5C;\n",
              "      box-shadow: 0px 1px 3px 1px rgba(0, 0, 0, 0.15);\n",
              "      filter: drop-shadow(0px 1px 2px rgba(0, 0, 0, 0.3));\n",
              "      fill: #FFFFFF;\n",
              "    }\n",
              "  </style>\n",
              "\n",
              "      <script>\n",
              "        const buttonEl =\n",
              "          document.querySelector('#df-1ddd46d9-7030-4be0-957a-5953d6ee39d7 button.colab-df-convert');\n",
              "        buttonEl.style.display =\n",
              "          google.colab.kernel.accessAllowed ? 'block' : 'none';\n",
              "\n",
              "        async function convertToInteractive(key) {\n",
              "          const element = document.querySelector('#df-1ddd46d9-7030-4be0-957a-5953d6ee39d7');\n",
              "          const dataTable =\n",
              "            await google.colab.kernel.invokeFunction('convertToInteractive',\n",
              "                                                     [key], {});\n",
              "          if (!dataTable) return;\n",
              "\n",
              "          const docLinkHtml = 'Like what you see? Visit the ' +\n",
              "            '<a target=\"_blank\" href=https://colab.research.google.com/notebooks/data_table.ipynb>data table notebook</a>'\n",
              "            + ' to learn more about interactive tables.';\n",
              "          element.innerHTML = '';\n",
              "          dataTable['output_type'] = 'display_data';\n",
              "          await google.colab.output.renderOutput(dataTable, element);\n",
              "          const docLink = document.createElement('div');\n",
              "          docLink.innerHTML = docLinkHtml;\n",
              "          element.appendChild(docLink);\n",
              "        }\n",
              "      </script>\n",
              "    </div>\n",
              "  </div>\n",
              "  "
            ]
          },
          "metadata": {},
          "execution_count": 63
        }
      ]
    },
    {
      "cell_type": "code",
      "source": [
        "ds.shape"
      ],
      "metadata": {
        "colab": {
          "base_uri": "https://localhost:8080/"
        },
        "id": "5WMPEtVtDcby",
        "outputId": "0a54a16a-01ad-4102-cb01-09ea3dc67df4"
      },
      "execution_count": null,
      "outputs": [
        {
          "output_type": "execute_result",
          "data": {
            "text/plain": [
              "(3395, 26)"
            ]
          },
          "metadata": {},
          "execution_count": 64
        }
      ]
    },
    {
      "cell_type": "code",
      "source": [
        "ds.info()"
      ],
      "metadata": {
        "colab": {
          "base_uri": "https://localhost:8080/"
        },
        "id": "bSyCP7m6PxrJ",
        "outputId": "3e856f41-ccc0-4a4b-ae77-6a9ad5d2e0a3"
      },
      "execution_count": null,
      "outputs": [
        {
          "output_type": "stream",
          "name": "stdout",
          "text": [
            "<class 'pandas.core.frame.DataFrame'>\n",
            "RangeIndex: 3395 entries, 0 to 3394\n",
            "Data columns (total 26 columns):\n",
            " #   Column          Non-Null Count  Dtype  \n",
            "---  ------          --------------  -----  \n",
            " 0   sessionId       3395 non-null   int64  \n",
            " 1   kwhTotal        3395 non-null   float64\n",
            " 2   dollars         3395 non-null   float64\n",
            " 3   created         3395 non-null   object \n",
            " 4   ended           3395 non-null   object \n",
            " 5   startTime       3395 non-null   int64  \n",
            " 6   endTime         3395 non-null   int64  \n",
            " 7   chargeTimeHrs   3395 non-null   float64\n",
            " 8   weekday         3395 non-null   object \n",
            " 9   platform        3395 non-null   object \n",
            " 10  distance        2330 non-null   float64\n",
            " 11  userId          3395 non-null   int64  \n",
            " 12  stationId       3395 non-null   int64  \n",
            " 13  locationId      3395 non-null   int64  \n",
            " 14  managerVehicle  3395 non-null   int64  \n",
            " 15  facilityType    3395 non-null   int64  \n",
            " 16  Mon             3395 non-null   int64  \n",
            " 17  Tues            3395 non-null   int64  \n",
            " 18  Wed             3395 non-null   int64  \n",
            " 19  Thurs           3395 non-null   int64  \n",
            " 20  Fri             3395 non-null   int64  \n",
            " 21  Sat             3395 non-null   int64  \n",
            " 22  Sun             3395 non-null   int64  \n",
            " 23  reportedZip     3395 non-null   int64  \n",
            " 24  Events          3395 non-null   int64  \n",
            " 25  Event           3395 non-null   int64  \n",
            "dtypes: float64(4), int64(18), object(4)\n",
            "memory usage: 689.7+ KB\n"
          ]
        }
      ]
    },
    {
      "cell_type": "code",
      "source": [],
      "metadata": {
        "id": "Ri_cRpwSq2sl"
      },
      "execution_count": null,
      "outputs": []
    }
  ]
}